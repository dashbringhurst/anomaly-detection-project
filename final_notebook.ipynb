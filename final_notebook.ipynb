{
 "cells": [
  {
   "cell_type": "markdown",
   "id": "e3d3181c",
   "metadata": {},
   "source": [
    "Hello,\n",
    "\n",
    "I have some questions for you that I need to be answered before the board meeting Morning morning. I need to be able to speak to the following questions. I also need a single slide that I can incorporate into my existing presentation (Google Slides) that summarizes the most important points. My questions are listed below; however, if you discover anything else important that I didn’t think to ask, please include that as well.\n",
    "\n",
    "\n",
    "1. Which lesson appears to attract the most traffic consistently across cohorts (per program)?\n",
    "2. Is there a cohort that referred to a lesson significantly more than other cohorts seemed to gloss over?\n",
    "3. Are there students who, when active, hardly access the curriculum? If so, what information do you have about these students?\n",
    "4. Is there any suspicious activity, such as users/machines/etc accessing the curriculum who shouldn’t be? Does it appear that any web-scraping is happening? Are there any suspicious IP addresses?\n",
    "5. At some point in 2019, the ability for students and alumni to access both curriculums (web dev to ds, ds to web dev) should have been shut off. Do you see any evidence of that happening? Did it happen before?\n",
    "6. What topics are grads continuing to reference after graduation and into their jobs (for each program)?\n",
    "7. Which lessons are least accessed? \n",
    "8. Anything else I should be aware of?"
   ]
  },
  {
   "cell_type": "code",
   "execution_count": 1,
   "id": "629b2b00",
   "metadata": {},
   "outputs": [],
   "source": [
    "import pandas as pd\n",
    "import numpy as np\n",
    "import matplotlib.pyplot as plt\n",
    "import seaborn as sns\n",
    "from scipy import stats\n",
    "import env\n",
    "import acquire\n",
    "import matplotlib.dates as mdates\n",
    "import math\n",
    "from sklearn import metrics\n",
    "from random import randint\n",
    "from matplotlib import style\n",
    "from sklearn.cluster import DBSCAN\n",
    "from sklearn.preprocessing import MinMaxScaler"
   ]
  },
  {
   "cell_type": "code",
   "execution_count": 2,
   "id": "b3c8faa3",
   "metadata": {},
   "outputs": [],
   "source": [
    "df = acquire.prep_curriculum_data()"
   ]
  },
  {
   "cell_type": "code",
   "execution_count": 3,
   "id": "6825b63a",
   "metadata": {},
   "outputs": [
    {
     "name": "stdout",
     "output_type": "stream",
     "text": [
      "<class 'pandas.core.frame.DataFrame'>\n",
      "Int64Index: 816192 entries, 0 to 900217\n",
      "Data columns (total 12 columns):\n",
      " #   Column      Non-Null Count   Dtype  \n",
      "---  ------      --------------   -----  \n",
      " 0   date        816192 non-null  object \n",
      " 1   time        816192 non-null  object \n",
      " 2   path        816192 non-null  object \n",
      " 3   user_id     816192 non-null  int64  \n",
      " 4   cohort_id   816192 non-null  float64\n",
      " 5   ip          816192 non-null  object \n",
      " 6   name        816192 non-null  object \n",
      " 7   start_date  816192 non-null  object \n",
      " 8   end_date    816192 non-null  object \n",
      " 9   created_at  816192 non-null  object \n",
      " 10  updated_at  816192 non-null  object \n",
      " 11  program_id  816192 non-null  float64\n",
      "dtypes: float64(2), int64(1), object(9)\n",
      "memory usage: 81.0+ MB\n"
     ]
    }
   ],
   "source": [
    "df.info()"
   ]
  },
  {
   "cell_type": "code",
   "execution_count": 4,
   "id": "b2276243",
   "metadata": {},
   "outputs": [],
   "source": [
    "# change dates to datetime format\n",
    "df.start_date = pd.to_datetime(df.start_date)"
   ]
  },
  {
   "cell_type": "code",
   "execution_count": 5,
   "id": "4d0dfd2c",
   "metadata": {},
   "outputs": [],
   "source": [
    "df.end_date = pd.to_datetime(df.end_date)"
   ]
  },
  {
   "cell_type": "code",
   "execution_count": 6,
   "id": "63619652",
   "metadata": {},
   "outputs": [],
   "source": [
    "df.date = pd.to_datetime(df.date)"
   ]
  },
  {
   "cell_type": "code",
   "execution_count": 9,
   "id": "5d64e263",
   "metadata": {},
   "outputs": [
    {
     "data": {
      "text/html": [
       "<div>\n",
       "<style scoped>\n",
       "    .dataframe tbody tr th:only-of-type {\n",
       "        vertical-align: middle;\n",
       "    }\n",
       "\n",
       "    .dataframe tbody tr th {\n",
       "        vertical-align: top;\n",
       "    }\n",
       "\n",
       "    .dataframe thead th {\n",
       "        text-align: right;\n",
       "    }\n",
       "</style>\n",
       "<table border=\"1\" class=\"dataframe\">\n",
       "  <thead>\n",
       "    <tr style=\"text-align: right;\">\n",
       "      <th></th>\n",
       "      <th>date</th>\n",
       "      <th>time</th>\n",
       "      <th>path</th>\n",
       "      <th>user_id</th>\n",
       "      <th>cohort_id</th>\n",
       "      <th>ip</th>\n",
       "      <th>name</th>\n",
       "      <th>start_date</th>\n",
       "      <th>end_date</th>\n",
       "      <th>created_at</th>\n",
       "      <th>updated_at</th>\n",
       "      <th>program_id</th>\n",
       "    </tr>\n",
       "  </thead>\n",
       "  <tbody>\n",
       "    <tr>\n",
       "      <th>0</th>\n",
       "      <td>2018-01-26</td>\n",
       "      <td>09:55:03</td>\n",
       "      <td>/</td>\n",
       "      <td>1</td>\n",
       "      <td>8.0</td>\n",
       "      <td>97.105.19.61</td>\n",
       "      <td>Hampton</td>\n",
       "      <td>2015-09-22</td>\n",
       "      <td>2016-02-06</td>\n",
       "      <td>2016-06-14 19:52:26</td>\n",
       "      <td>2016-06-14 19:52:26</td>\n",
       "      <td>1.0</td>\n",
       "    </tr>\n",
       "    <tr>\n",
       "      <th>1</th>\n",
       "      <td>2018-01-26</td>\n",
       "      <td>09:56:02</td>\n",
       "      <td>java-ii</td>\n",
       "      <td>1</td>\n",
       "      <td>8.0</td>\n",
       "      <td>97.105.19.61</td>\n",
       "      <td>Hampton</td>\n",
       "      <td>2015-09-22</td>\n",
       "      <td>2016-02-06</td>\n",
       "      <td>2016-06-14 19:52:26</td>\n",
       "      <td>2016-06-14 19:52:26</td>\n",
       "      <td>1.0</td>\n",
       "    </tr>\n",
       "    <tr>\n",
       "      <th>2</th>\n",
       "      <td>2018-01-26</td>\n",
       "      <td>09:56:05</td>\n",
       "      <td>java-ii/object-oriented-programming</td>\n",
       "      <td>1</td>\n",
       "      <td>8.0</td>\n",
       "      <td>97.105.19.61</td>\n",
       "      <td>Hampton</td>\n",
       "      <td>2015-09-22</td>\n",
       "      <td>2016-02-06</td>\n",
       "      <td>2016-06-14 19:52:26</td>\n",
       "      <td>2016-06-14 19:52:26</td>\n",
       "      <td>1.0</td>\n",
       "    </tr>\n",
       "    <tr>\n",
       "      <th>3</th>\n",
       "      <td>2018-01-26</td>\n",
       "      <td>09:56:06</td>\n",
       "      <td>slides/object_oriented_programming</td>\n",
       "      <td>1</td>\n",
       "      <td>8.0</td>\n",
       "      <td>97.105.19.61</td>\n",
       "      <td>Hampton</td>\n",
       "      <td>2015-09-22</td>\n",
       "      <td>2016-02-06</td>\n",
       "      <td>2016-06-14 19:52:26</td>\n",
       "      <td>2016-06-14 19:52:26</td>\n",
       "      <td>1.0</td>\n",
       "    </tr>\n",
       "    <tr>\n",
       "      <th>4</th>\n",
       "      <td>2018-01-26</td>\n",
       "      <td>09:56:24</td>\n",
       "      <td>javascript-i/conditionals</td>\n",
       "      <td>2</td>\n",
       "      <td>22.0</td>\n",
       "      <td>97.105.19.61</td>\n",
       "      <td>Teddy</td>\n",
       "      <td>2018-01-08</td>\n",
       "      <td>2018-05-17</td>\n",
       "      <td>2018-01-08 13:59:10</td>\n",
       "      <td>2018-01-08 13:59:10</td>\n",
       "      <td>2.0</td>\n",
       "    </tr>\n",
       "  </tbody>\n",
       "</table>\n",
       "</div>"
      ],
      "text/plain": [
       "        date      time                                 path  user_id  \\\n",
       "0 2018-01-26  09:55:03                                    /        1   \n",
       "1 2018-01-26  09:56:02                              java-ii        1   \n",
       "2 2018-01-26  09:56:05  java-ii/object-oriented-programming        1   \n",
       "3 2018-01-26  09:56:06   slides/object_oriented_programming        1   \n",
       "4 2018-01-26  09:56:24            javascript-i/conditionals        2   \n",
       "\n",
       "   cohort_id            ip     name start_date   end_date  \\\n",
       "0        8.0  97.105.19.61  Hampton 2015-09-22 2016-02-06   \n",
       "1        8.0  97.105.19.61  Hampton 2015-09-22 2016-02-06   \n",
       "2        8.0  97.105.19.61  Hampton 2015-09-22 2016-02-06   \n",
       "3        8.0  97.105.19.61  Hampton 2015-09-22 2016-02-06   \n",
       "4       22.0  97.105.19.61    Teddy 2018-01-08 2018-05-17   \n",
       "\n",
       "            created_at           updated_at  program_id  \n",
       "0  2016-06-14 19:52:26  2016-06-14 19:52:26         1.0  \n",
       "1  2016-06-14 19:52:26  2016-06-14 19:52:26         1.0  \n",
       "2  2016-06-14 19:52:26  2016-06-14 19:52:26         1.0  \n",
       "3  2016-06-14 19:52:26  2016-06-14 19:52:26         1.0  \n",
       "4  2018-01-08 13:59:10  2018-01-08 13:59:10         2.0  "
      ]
     },
     "execution_count": 9,
     "metadata": {},
     "output_type": "execute_result"
    }
   ],
   "source": [
    "df.head()"
   ]
  },
  {
   "cell_type": "code",
   "execution_count": 10,
   "id": "9d1758f1",
   "metadata": {},
   "outputs": [
    {
     "data": {
      "text/html": [
       "<div>\n",
       "<style scoped>\n",
       "    .dataframe tbody tr th:only-of-type {\n",
       "        vertical-align: middle;\n",
       "    }\n",
       "\n",
       "    .dataframe tbody tr th {\n",
       "        vertical-align: top;\n",
       "    }\n",
       "\n",
       "    .dataframe thead th {\n",
       "        text-align: right;\n",
       "    }\n",
       "</style>\n",
       "<table border=\"1\" class=\"dataframe\">\n",
       "  <thead>\n",
       "    <tr style=\"text-align: right;\">\n",
       "      <th></th>\n",
       "      <th>user_id</th>\n",
       "      <th>cohort_id</th>\n",
       "      <th>program_id</th>\n",
       "    </tr>\n",
       "  </thead>\n",
       "  <tbody>\n",
       "    <tr>\n",
       "      <th>count</th>\n",
       "      <td>816192.000000</td>\n",
       "      <td>816192.000000</td>\n",
       "      <td>816192.000000</td>\n",
       "    </tr>\n",
       "    <tr>\n",
       "      <th>mean</th>\n",
       "      <td>479.434735</td>\n",
       "      <td>47.468642</td>\n",
       "      <td>1.959676</td>\n",
       "    </tr>\n",
       "    <tr>\n",
       "      <th>std</th>\n",
       "      <td>240.231177</td>\n",
       "      <td>34.995461</td>\n",
       "      <td>0.649419</td>\n",
       "    </tr>\n",
       "    <tr>\n",
       "      <th>min</th>\n",
       "      <td>1.000000</td>\n",
       "      <td>0.000000</td>\n",
       "      <td>0.000000</td>\n",
       "    </tr>\n",
       "    <tr>\n",
       "      <th>25%</th>\n",
       "      <td>303.000000</td>\n",
       "      <td>25.000000</td>\n",
       "      <td>2.000000</td>\n",
       "    </tr>\n",
       "    <tr>\n",
       "      <th>50%</th>\n",
       "      <td>491.000000</td>\n",
       "      <td>34.000000</td>\n",
       "      <td>2.000000</td>\n",
       "    </tr>\n",
       "    <tr>\n",
       "      <th>75%</th>\n",
       "      <td>671.000000</td>\n",
       "      <td>58.000000</td>\n",
       "      <td>2.000000</td>\n",
       "    </tr>\n",
       "    <tr>\n",
       "      <th>max</th>\n",
       "      <td>981.000000</td>\n",
       "      <td>139.000000</td>\n",
       "      <td>4.000000</td>\n",
       "    </tr>\n",
       "  </tbody>\n",
       "</table>\n",
       "</div>"
      ],
      "text/plain": [
       "             user_id      cohort_id     program_id\n",
       "count  816192.000000  816192.000000  816192.000000\n",
       "mean      479.434735      47.468642       1.959676\n",
       "std       240.231177      34.995461       0.649419\n",
       "min         1.000000       0.000000       0.000000\n",
       "25%       303.000000      25.000000       2.000000\n",
       "50%       491.000000      34.000000       2.000000\n",
       "75%       671.000000      58.000000       2.000000\n",
       "max       981.000000     139.000000       4.000000"
      ]
     },
     "execution_count": 10,
     "metadata": {},
     "output_type": "execute_result"
    }
   ],
   "source": [
    "df.describe()"
   ]
  },
  {
   "cell_type": "code",
   "execution_count": 105,
   "id": "098abe85",
   "metadata": {},
   "outputs": [
    {
     "data": {
      "text/plain": [
       "Darden      32015\n",
       "Bayes       26538\n",
       "Curie       21582\n",
       "Easley      14715\n",
       "Florence     8562\n",
       "Name: name, dtype: int64"
      ]
     },
     "execution_count": 105,
     "metadata": {},
     "output_type": "execute_result"
    }
   ],
   "source": [
    "# program_id 3 is data science\n",
    "df.name[df.program_id==3].value_counts()"
   ]
  },
  {
   "cell_type": "code",
   "execution_count": 12,
   "id": "ccd7513e",
   "metadata": {},
   "outputs": [
    {
     "data": {
      "text/html": [
       "<div>\n",
       "<style scoped>\n",
       "    .dataframe tbody tr th:only-of-type {\n",
       "        vertical-align: middle;\n",
       "    }\n",
       "\n",
       "    .dataframe tbody tr th {\n",
       "        vertical-align: top;\n",
       "    }\n",
       "\n",
       "    .dataframe thead th {\n",
       "        text-align: right;\n",
       "    }\n",
       "</style>\n",
       "<table border=\"1\" class=\"dataframe\">\n",
       "  <thead>\n",
       "    <tr style=\"text-align: right;\">\n",
       "      <th></th>\n",
       "      <th>date</th>\n",
       "      <th>time</th>\n",
       "      <th>path</th>\n",
       "      <th>user_id</th>\n",
       "      <th>cohort_id</th>\n",
       "      <th>ip</th>\n",
       "      <th>name</th>\n",
       "      <th>start_date</th>\n",
       "      <th>end_date</th>\n",
       "      <th>created_at</th>\n",
       "      <th>updated_at</th>\n",
       "      <th>program_id</th>\n",
       "    </tr>\n",
       "  </thead>\n",
       "  <tbody>\n",
       "    <tr>\n",
       "      <th>326053</th>\n",
       "      <td>2019-08-20</td>\n",
       "      <td>09:39:58</td>\n",
       "      <td>/</td>\n",
       "      <td>466</td>\n",
       "      <td>34.0</td>\n",
       "      <td>97.105.19.58</td>\n",
       "      <td>Bayes</td>\n",
       "      <td>2019-08-19</td>\n",
       "      <td>2020-01-30</td>\n",
       "      <td>2019-08-20 14:38:55</td>\n",
       "      <td>2019-08-20 14:38:55</td>\n",
       "      <td>3.0</td>\n",
       "    </tr>\n",
       "    <tr>\n",
       "      <th>326054</th>\n",
       "      <td>2019-08-20</td>\n",
       "      <td>09:39:59</td>\n",
       "      <td>/</td>\n",
       "      <td>467</td>\n",
       "      <td>34.0</td>\n",
       "      <td>97.105.19.58</td>\n",
       "      <td>Bayes</td>\n",
       "      <td>2019-08-19</td>\n",
       "      <td>2020-01-30</td>\n",
       "      <td>2019-08-20 14:38:55</td>\n",
       "      <td>2019-08-20 14:38:55</td>\n",
       "      <td>3.0</td>\n",
       "    </tr>\n",
       "    <tr>\n",
       "      <th>326055</th>\n",
       "      <td>2019-08-20</td>\n",
       "      <td>09:39:59</td>\n",
       "      <td>/</td>\n",
       "      <td>468</td>\n",
       "      <td>34.0</td>\n",
       "      <td>97.105.19.58</td>\n",
       "      <td>Bayes</td>\n",
       "      <td>2019-08-19</td>\n",
       "      <td>2020-01-30</td>\n",
       "      <td>2019-08-20 14:38:55</td>\n",
       "      <td>2019-08-20 14:38:55</td>\n",
       "      <td>3.0</td>\n",
       "    </tr>\n",
       "    <tr>\n",
       "      <th>326056</th>\n",
       "      <td>2019-08-20</td>\n",
       "      <td>09:40:02</td>\n",
       "      <td>/</td>\n",
       "      <td>469</td>\n",
       "      <td>34.0</td>\n",
       "      <td>97.105.19.58</td>\n",
       "      <td>Bayes</td>\n",
       "      <td>2019-08-19</td>\n",
       "      <td>2020-01-30</td>\n",
       "      <td>2019-08-20 14:38:55</td>\n",
       "      <td>2019-08-20 14:38:55</td>\n",
       "      <td>3.0</td>\n",
       "    </tr>\n",
       "    <tr>\n",
       "      <th>326057</th>\n",
       "      <td>2019-08-20</td>\n",
       "      <td>09:40:08</td>\n",
       "      <td>/</td>\n",
       "      <td>470</td>\n",
       "      <td>34.0</td>\n",
       "      <td>97.105.19.58</td>\n",
       "      <td>Bayes</td>\n",
       "      <td>2019-08-19</td>\n",
       "      <td>2020-01-30</td>\n",
       "      <td>2019-08-20 14:38:55</td>\n",
       "      <td>2019-08-20 14:38:55</td>\n",
       "      <td>3.0</td>\n",
       "    </tr>\n",
       "    <tr>\n",
       "      <th>...</th>\n",
       "      <td>...</td>\n",
       "      <td>...</td>\n",
       "      <td>...</td>\n",
       "      <td>...</td>\n",
       "      <td>...</td>\n",
       "      <td>...</td>\n",
       "      <td>...</td>\n",
       "      <td>...</td>\n",
       "      <td>...</td>\n",
       "      <td>...</td>\n",
       "      <td>...</td>\n",
       "      <td>...</td>\n",
       "    </tr>\n",
       "    <tr>\n",
       "      <th>900182</th>\n",
       "      <td>2021-04-21</td>\n",
       "      <td>16:14:16</td>\n",
       "      <td>regression/project</td>\n",
       "      <td>841</td>\n",
       "      <td>133.0</td>\n",
       "      <td>99.162.244.233</td>\n",
       "      <td>Easley</td>\n",
       "      <td>2020-12-07</td>\n",
       "      <td>2021-06-08</td>\n",
       "      <td>2020-12-07 15:20:18</td>\n",
       "      <td>2020-12-07 15:20:18</td>\n",
       "      <td>3.0</td>\n",
       "    </tr>\n",
       "    <tr>\n",
       "      <th>900183</th>\n",
       "      <td>2021-04-21</td>\n",
       "      <td>16:15:51</td>\n",
       "      <td>regression/project</td>\n",
       "      <td>841</td>\n",
       "      <td>133.0</td>\n",
       "      <td>99.162.244.233</td>\n",
       "      <td>Easley</td>\n",
       "      <td>2020-12-07</td>\n",
       "      <td>2021-06-08</td>\n",
       "      <td>2020-12-07 15:20:18</td>\n",
       "      <td>2020-12-07 15:20:18</td>\n",
       "      <td>3.0</td>\n",
       "    </tr>\n",
       "    <tr>\n",
       "      <th>900190</th>\n",
       "      <td>2021-04-21</td>\n",
       "      <td>16:23:53</td>\n",
       "      <td>/</td>\n",
       "      <td>143</td>\n",
       "      <td>133.0</td>\n",
       "      <td>173.174.194.60</td>\n",
       "      <td>Easley</td>\n",
       "      <td>2020-12-07</td>\n",
       "      <td>2021-06-08</td>\n",
       "      <td>2020-12-07 15:20:18</td>\n",
       "      <td>2020-12-07 15:20:18</td>\n",
       "      <td>3.0</td>\n",
       "    </tr>\n",
       "    <tr>\n",
       "      <th>900191</th>\n",
       "      <td>2021-04-21</td>\n",
       "      <td>16:23:57</td>\n",
       "      <td>clustering/project</td>\n",
       "      <td>841</td>\n",
       "      <td>133.0</td>\n",
       "      <td>99.162.244.233</td>\n",
       "      <td>Easley</td>\n",
       "      <td>2020-12-07</td>\n",
       "      <td>2021-06-08</td>\n",
       "      <td>2020-12-07 15:20:18</td>\n",
       "      <td>2020-12-07 15:20:18</td>\n",
       "      <td>3.0</td>\n",
       "    </tr>\n",
       "    <tr>\n",
       "      <th>900202</th>\n",
       "      <td>2021-04-21</td>\n",
       "      <td>16:32:50</td>\n",
       "      <td>clustering/project</td>\n",
       "      <td>841</td>\n",
       "      <td>133.0</td>\n",
       "      <td>99.162.244.233</td>\n",
       "      <td>Easley</td>\n",
       "      <td>2020-12-07</td>\n",
       "      <td>2021-06-08</td>\n",
       "      <td>2020-12-07 15:20:18</td>\n",
       "      <td>2020-12-07 15:20:18</td>\n",
       "      <td>3.0</td>\n",
       "    </tr>\n",
       "  </tbody>\n",
       "</table>\n",
       "<p>103412 rows × 12 columns</p>\n",
       "</div>"
      ],
      "text/plain": [
       "             date      time                path  user_id  cohort_id  \\\n",
       "326053 2019-08-20  09:39:58                   /      466       34.0   \n",
       "326054 2019-08-20  09:39:59                   /      467       34.0   \n",
       "326055 2019-08-20  09:39:59                   /      468       34.0   \n",
       "326056 2019-08-20  09:40:02                   /      469       34.0   \n",
       "326057 2019-08-20  09:40:08                   /      470       34.0   \n",
       "...           ...       ...                 ...      ...        ...   \n",
       "900182 2021-04-21  16:14:16  regression/project      841      133.0   \n",
       "900183 2021-04-21  16:15:51  regression/project      841      133.0   \n",
       "900190 2021-04-21  16:23:53                   /      143      133.0   \n",
       "900191 2021-04-21  16:23:57  clustering/project      841      133.0   \n",
       "900202 2021-04-21  16:32:50  clustering/project      841      133.0   \n",
       "\n",
       "                    ip    name start_date   end_date           created_at  \\\n",
       "326053    97.105.19.58   Bayes 2019-08-19 2020-01-30  2019-08-20 14:38:55   \n",
       "326054    97.105.19.58   Bayes 2019-08-19 2020-01-30  2019-08-20 14:38:55   \n",
       "326055    97.105.19.58   Bayes 2019-08-19 2020-01-30  2019-08-20 14:38:55   \n",
       "326056    97.105.19.58   Bayes 2019-08-19 2020-01-30  2019-08-20 14:38:55   \n",
       "326057    97.105.19.58   Bayes 2019-08-19 2020-01-30  2019-08-20 14:38:55   \n",
       "...                ...     ...        ...        ...                  ...   \n",
       "900182  99.162.244.233  Easley 2020-12-07 2021-06-08  2020-12-07 15:20:18   \n",
       "900183  99.162.244.233  Easley 2020-12-07 2021-06-08  2020-12-07 15:20:18   \n",
       "900190  173.174.194.60  Easley 2020-12-07 2021-06-08  2020-12-07 15:20:18   \n",
       "900191  99.162.244.233  Easley 2020-12-07 2021-06-08  2020-12-07 15:20:18   \n",
       "900202  99.162.244.233  Easley 2020-12-07 2021-06-08  2020-12-07 15:20:18   \n",
       "\n",
       "                 updated_at  program_id  \n",
       "326053  2019-08-20 14:38:55         3.0  \n",
       "326054  2019-08-20 14:38:55         3.0  \n",
       "326055  2019-08-20 14:38:55         3.0  \n",
       "326056  2019-08-20 14:38:55         3.0  \n",
       "326057  2019-08-20 14:38:55         3.0  \n",
       "...                     ...         ...  \n",
       "900182  2020-12-07 15:20:18         3.0  \n",
       "900183  2020-12-07 15:20:18         3.0  \n",
       "900190  2020-12-07 15:20:18         3.0  \n",
       "900191  2020-12-07 15:20:18         3.0  \n",
       "900202  2020-12-07 15:20:18         3.0  \n",
       "\n",
       "[103412 rows x 12 columns]"
      ]
     },
     "execution_count": 12,
     "metadata": {},
     "output_type": "execute_result"
    }
   ],
   "source": [
    "# create a separate df for ds cohorts\n",
    "\n",
    "ds = df[df.program_id==3]\n",
    "ds"
   ]
  },
  {
   "cell_type": "code",
   "execution_count": 13,
   "id": "41fe96b4",
   "metadata": {},
   "outputs": [
    {
     "data": {
      "text/html": [
       "<div>\n",
       "<style scoped>\n",
       "    .dataframe tbody tr th:only-of-type {\n",
       "        vertical-align: middle;\n",
       "    }\n",
       "\n",
       "    .dataframe tbody tr th {\n",
       "        vertical-align: top;\n",
       "    }\n",
       "\n",
       "    .dataframe thead th {\n",
       "        text-align: right;\n",
       "    }\n",
       "</style>\n",
       "<table border=\"1\" class=\"dataframe\">\n",
       "  <thead>\n",
       "    <tr style=\"text-align: right;\">\n",
       "      <th></th>\n",
       "      <th>date</th>\n",
       "      <th>time</th>\n",
       "      <th>path</th>\n",
       "      <th>user_id</th>\n",
       "      <th>cohort_id</th>\n",
       "      <th>ip</th>\n",
       "      <th>name</th>\n",
       "      <th>start_date</th>\n",
       "      <th>end_date</th>\n",
       "      <th>created_at</th>\n",
       "      <th>updated_at</th>\n",
       "      <th>program_id</th>\n",
       "    </tr>\n",
       "  </thead>\n",
       "  <tbody>\n",
       "    <tr>\n",
       "      <th>0</th>\n",
       "      <td>2018-01-26</td>\n",
       "      <td>09:55:03</td>\n",
       "      <td>/</td>\n",
       "      <td>1</td>\n",
       "      <td>8.0</td>\n",
       "      <td>97.105.19.61</td>\n",
       "      <td>Hampton</td>\n",
       "      <td>2015-09-22</td>\n",
       "      <td>2016-02-06</td>\n",
       "      <td>2016-06-14 19:52:26</td>\n",
       "      <td>2016-06-14 19:52:26</td>\n",
       "      <td>1.0</td>\n",
       "    </tr>\n",
       "    <tr>\n",
       "      <th>1</th>\n",
       "      <td>2018-01-26</td>\n",
       "      <td>09:56:02</td>\n",
       "      <td>java-ii</td>\n",
       "      <td>1</td>\n",
       "      <td>8.0</td>\n",
       "      <td>97.105.19.61</td>\n",
       "      <td>Hampton</td>\n",
       "      <td>2015-09-22</td>\n",
       "      <td>2016-02-06</td>\n",
       "      <td>2016-06-14 19:52:26</td>\n",
       "      <td>2016-06-14 19:52:26</td>\n",
       "      <td>1.0</td>\n",
       "    </tr>\n",
       "    <tr>\n",
       "      <th>2</th>\n",
       "      <td>2018-01-26</td>\n",
       "      <td>09:56:05</td>\n",
       "      <td>java-ii/object-oriented-programming</td>\n",
       "      <td>1</td>\n",
       "      <td>8.0</td>\n",
       "      <td>97.105.19.61</td>\n",
       "      <td>Hampton</td>\n",
       "      <td>2015-09-22</td>\n",
       "      <td>2016-02-06</td>\n",
       "      <td>2016-06-14 19:52:26</td>\n",
       "      <td>2016-06-14 19:52:26</td>\n",
       "      <td>1.0</td>\n",
       "    </tr>\n",
       "    <tr>\n",
       "      <th>3</th>\n",
       "      <td>2018-01-26</td>\n",
       "      <td>09:56:06</td>\n",
       "      <td>slides/object_oriented_programming</td>\n",
       "      <td>1</td>\n",
       "      <td>8.0</td>\n",
       "      <td>97.105.19.61</td>\n",
       "      <td>Hampton</td>\n",
       "      <td>2015-09-22</td>\n",
       "      <td>2016-02-06</td>\n",
       "      <td>2016-06-14 19:52:26</td>\n",
       "      <td>2016-06-14 19:52:26</td>\n",
       "      <td>1.0</td>\n",
       "    </tr>\n",
       "    <tr>\n",
       "      <th>4</th>\n",
       "      <td>2018-01-26</td>\n",
       "      <td>09:56:24</td>\n",
       "      <td>javascript-i/conditionals</td>\n",
       "      <td>2</td>\n",
       "      <td>22.0</td>\n",
       "      <td>97.105.19.61</td>\n",
       "      <td>Teddy</td>\n",
       "      <td>2018-01-08</td>\n",
       "      <td>2018-05-17</td>\n",
       "      <td>2018-01-08 13:59:10</td>\n",
       "      <td>2018-01-08 13:59:10</td>\n",
       "      <td>2.0</td>\n",
       "    </tr>\n",
       "    <tr>\n",
       "      <th>...</th>\n",
       "      <td>...</td>\n",
       "      <td>...</td>\n",
       "      <td>...</td>\n",
       "      <td>...</td>\n",
       "      <td>...</td>\n",
       "      <td>...</td>\n",
       "      <td>...</td>\n",
       "      <td>...</td>\n",
       "      <td>...</td>\n",
       "      <td>...</td>\n",
       "      <td>...</td>\n",
       "      <td>...</td>\n",
       "    </tr>\n",
       "    <tr>\n",
       "      <th>900210</th>\n",
       "      <td>2021-04-21</td>\n",
       "      <td>16:36:09</td>\n",
       "      <td>jquery/personal-site</td>\n",
       "      <td>869</td>\n",
       "      <td>135.0</td>\n",
       "      <td>136.50.98.51</td>\n",
       "      <td>Marco</td>\n",
       "      <td>2021-01-25</td>\n",
       "      <td>2021-07-19</td>\n",
       "      <td>2021-01-20 21:31:11</td>\n",
       "      <td>2021-01-20 21:31:11</td>\n",
       "      <td>2.0</td>\n",
       "    </tr>\n",
       "    <tr>\n",
       "      <th>900211</th>\n",
       "      <td>2021-04-21</td>\n",
       "      <td>16:36:34</td>\n",
       "      <td>html-css/css-ii/bootstrap-grid-system</td>\n",
       "      <td>948</td>\n",
       "      <td>138.0</td>\n",
       "      <td>104.48.214.211</td>\n",
       "      <td>Neptune</td>\n",
       "      <td>2021-03-15</td>\n",
       "      <td>2021-09-03</td>\n",
       "      <td>2021-03-15 19:57:09</td>\n",
       "      <td>2021-03-15 19:57:09</td>\n",
       "      <td>2.0</td>\n",
       "    </tr>\n",
       "    <tr>\n",
       "      <th>900212</th>\n",
       "      <td>2021-04-21</td>\n",
       "      <td>16:37:48</td>\n",
       "      <td>java-iii</td>\n",
       "      <td>834</td>\n",
       "      <td>134.0</td>\n",
       "      <td>67.11.50.23</td>\n",
       "      <td>Luna</td>\n",
       "      <td>2020-12-07</td>\n",
       "      <td>2021-06-08</td>\n",
       "      <td>2020-12-07 16:58:43</td>\n",
       "      <td>2020-12-07 16:58:43</td>\n",
       "      <td>2.0</td>\n",
       "    </tr>\n",
       "    <tr>\n",
       "      <th>900213</th>\n",
       "      <td>2021-04-21</td>\n",
       "      <td>16:38:14</td>\n",
       "      <td>java-iii/servlets</td>\n",
       "      <td>834</td>\n",
       "      <td>134.0</td>\n",
       "      <td>67.11.50.23</td>\n",
       "      <td>Luna</td>\n",
       "      <td>2020-12-07</td>\n",
       "      <td>2021-06-08</td>\n",
       "      <td>2020-12-07 16:58:43</td>\n",
       "      <td>2020-12-07 16:58:43</td>\n",
       "      <td>2.0</td>\n",
       "    </tr>\n",
       "    <tr>\n",
       "      <th>900217</th>\n",
       "      <td>2021-04-21</td>\n",
       "      <td>16:41:51</td>\n",
       "      <td>javascript-i/bom-and-dom/dom</td>\n",
       "      <td>875</td>\n",
       "      <td>135.0</td>\n",
       "      <td>24.242.150.231</td>\n",
       "      <td>Marco</td>\n",
       "      <td>2021-01-25</td>\n",
       "      <td>2021-07-19</td>\n",
       "      <td>2021-01-20 21:31:11</td>\n",
       "      <td>2021-01-20 21:31:11</td>\n",
       "      <td>2.0</td>\n",
       "    </tr>\n",
       "  </tbody>\n",
       "</table>\n",
       "<p>712780 rows × 12 columns</p>\n",
       "</div>"
      ],
      "text/plain": [
       "             date      time                                   path  user_id  \\\n",
       "0      2018-01-26  09:55:03                                      /        1   \n",
       "1      2018-01-26  09:56:02                                java-ii        1   \n",
       "2      2018-01-26  09:56:05    java-ii/object-oriented-programming        1   \n",
       "3      2018-01-26  09:56:06     slides/object_oriented_programming        1   \n",
       "4      2018-01-26  09:56:24              javascript-i/conditionals        2   \n",
       "...           ...       ...                                    ...      ...   \n",
       "900210 2021-04-21  16:36:09                   jquery/personal-site      869   \n",
       "900211 2021-04-21  16:36:34  html-css/css-ii/bootstrap-grid-system      948   \n",
       "900212 2021-04-21  16:37:48                               java-iii      834   \n",
       "900213 2021-04-21  16:38:14                      java-iii/servlets      834   \n",
       "900217 2021-04-21  16:41:51           javascript-i/bom-and-dom/dom      875   \n",
       "\n",
       "        cohort_id              ip     name start_date   end_date  \\\n",
       "0             8.0    97.105.19.61  Hampton 2015-09-22 2016-02-06   \n",
       "1             8.0    97.105.19.61  Hampton 2015-09-22 2016-02-06   \n",
       "2             8.0    97.105.19.61  Hampton 2015-09-22 2016-02-06   \n",
       "3             8.0    97.105.19.61  Hampton 2015-09-22 2016-02-06   \n",
       "4            22.0    97.105.19.61    Teddy 2018-01-08 2018-05-17   \n",
       "...           ...             ...      ...        ...        ...   \n",
       "900210      135.0    136.50.98.51    Marco 2021-01-25 2021-07-19   \n",
       "900211      138.0  104.48.214.211  Neptune 2021-03-15 2021-09-03   \n",
       "900212      134.0     67.11.50.23     Luna 2020-12-07 2021-06-08   \n",
       "900213      134.0     67.11.50.23     Luna 2020-12-07 2021-06-08   \n",
       "900217      135.0  24.242.150.231    Marco 2021-01-25 2021-07-19   \n",
       "\n",
       "                 created_at           updated_at  program_id  \n",
       "0       2016-06-14 19:52:26  2016-06-14 19:52:26         1.0  \n",
       "1       2016-06-14 19:52:26  2016-06-14 19:52:26         1.0  \n",
       "2       2016-06-14 19:52:26  2016-06-14 19:52:26         1.0  \n",
       "3       2016-06-14 19:52:26  2016-06-14 19:52:26         1.0  \n",
       "4       2018-01-08 13:59:10  2018-01-08 13:59:10         2.0  \n",
       "...                     ...                  ...         ...  \n",
       "900210  2021-01-20 21:31:11  2021-01-20 21:31:11         2.0  \n",
       "900211  2021-03-15 19:57:09  2021-03-15 19:57:09         2.0  \n",
       "900212  2020-12-07 16:58:43  2020-12-07 16:58:43         2.0  \n",
       "900213  2020-12-07 16:58:43  2020-12-07 16:58:43         2.0  \n",
       "900217  2021-01-20 21:31:11  2021-01-20 21:31:11         2.0  \n",
       "\n",
       "[712780 rows x 12 columns]"
      ]
     },
     "execution_count": 13,
     "metadata": {},
     "output_type": "execute_result"
    }
   ],
   "source": [
    "# create a df for web dev\n",
    "\n",
    "wd = df[df.program_id != 3]\n",
    "wd"
   ]
  },
  {
   "cell_type": "code",
   "execution_count": 14,
   "id": "65558ed1",
   "metadata": {},
   "outputs": [
    {
     "data": {
      "text/html": [
       "<div>\n",
       "<style scoped>\n",
       "    .dataframe tbody tr th:only-of-type {\n",
       "        vertical-align: middle;\n",
       "    }\n",
       "\n",
       "    .dataframe tbody tr th {\n",
       "        vertical-align: top;\n",
       "    }\n",
       "\n",
       "    .dataframe thead th {\n",
       "        text-align: right;\n",
       "    }\n",
       "</style>\n",
       "<table border=\"1\" class=\"dataframe\">\n",
       "  <thead>\n",
       "    <tr style=\"text-align: right;\">\n",
       "      <th></th>\n",
       "      <th>date</th>\n",
       "      <th>time</th>\n",
       "      <th>path</th>\n",
       "      <th>user_id</th>\n",
       "      <th>cohort_id</th>\n",
       "      <th>ip</th>\n",
       "      <th>name</th>\n",
       "      <th>start_date</th>\n",
       "      <th>end_date</th>\n",
       "      <th>created_at</th>\n",
       "      <th>updated_at</th>\n",
       "      <th>program_id</th>\n",
       "    </tr>\n",
       "  </thead>\n",
       "  <tbody>\n",
       "    <tr>\n",
       "      <th>0</th>\n",
       "      <td>2018-01-26</td>\n",
       "      <td>09:55:03</td>\n",
       "      <td>/</td>\n",
       "      <td>1</td>\n",
       "      <td>8.0</td>\n",
       "      <td>97.105.19.61</td>\n",
       "      <td>Hampton</td>\n",
       "      <td>2015-09-22</td>\n",
       "      <td>2016-02-06</td>\n",
       "      <td>2016-06-14 19:52:26</td>\n",
       "      <td>2016-06-14 19:52:26</td>\n",
       "      <td>1.0</td>\n",
       "    </tr>\n",
       "    <tr>\n",
       "      <th>1</th>\n",
       "      <td>2018-01-26</td>\n",
       "      <td>09:56:02</td>\n",
       "      <td>java-ii</td>\n",
       "      <td>1</td>\n",
       "      <td>8.0</td>\n",
       "      <td>97.105.19.61</td>\n",
       "      <td>Hampton</td>\n",
       "      <td>2015-09-22</td>\n",
       "      <td>2016-02-06</td>\n",
       "      <td>2016-06-14 19:52:26</td>\n",
       "      <td>2016-06-14 19:52:26</td>\n",
       "      <td>1.0</td>\n",
       "    </tr>\n",
       "    <tr>\n",
       "      <th>2</th>\n",
       "      <td>2018-01-26</td>\n",
       "      <td>09:56:05</td>\n",
       "      <td>java-ii/object-oriented-programming</td>\n",
       "      <td>1</td>\n",
       "      <td>8.0</td>\n",
       "      <td>97.105.19.61</td>\n",
       "      <td>Hampton</td>\n",
       "      <td>2015-09-22</td>\n",
       "      <td>2016-02-06</td>\n",
       "      <td>2016-06-14 19:52:26</td>\n",
       "      <td>2016-06-14 19:52:26</td>\n",
       "      <td>1.0</td>\n",
       "    </tr>\n",
       "    <tr>\n",
       "      <th>3</th>\n",
       "      <td>2018-01-26</td>\n",
       "      <td>09:56:06</td>\n",
       "      <td>slides/object_oriented_programming</td>\n",
       "      <td>1</td>\n",
       "      <td>8.0</td>\n",
       "      <td>97.105.19.61</td>\n",
       "      <td>Hampton</td>\n",
       "      <td>2015-09-22</td>\n",
       "      <td>2016-02-06</td>\n",
       "      <td>2016-06-14 19:52:26</td>\n",
       "      <td>2016-06-14 19:52:26</td>\n",
       "      <td>1.0</td>\n",
       "    </tr>\n",
       "    <tr>\n",
       "      <th>4</th>\n",
       "      <td>2018-01-26</td>\n",
       "      <td>09:56:24</td>\n",
       "      <td>javascript-i/conditionals</td>\n",
       "      <td>2</td>\n",
       "      <td>22.0</td>\n",
       "      <td>97.105.19.61</td>\n",
       "      <td>Teddy</td>\n",
       "      <td>2018-01-08</td>\n",
       "      <td>2018-05-17</td>\n",
       "      <td>2018-01-08 13:59:10</td>\n",
       "      <td>2018-01-08 13:59:10</td>\n",
       "      <td>2.0</td>\n",
       "    </tr>\n",
       "  </tbody>\n",
       "</table>\n",
       "</div>"
      ],
      "text/plain": [
       "        date      time                                 path  user_id  \\\n",
       "0 2018-01-26  09:55:03                                    /        1   \n",
       "1 2018-01-26  09:56:02                              java-ii        1   \n",
       "2 2018-01-26  09:56:05  java-ii/object-oriented-programming        1   \n",
       "3 2018-01-26  09:56:06   slides/object_oriented_programming        1   \n",
       "4 2018-01-26  09:56:24            javascript-i/conditionals        2   \n",
       "\n",
       "   cohort_id            ip     name start_date   end_date  \\\n",
       "0        8.0  97.105.19.61  Hampton 2015-09-22 2016-02-06   \n",
       "1        8.0  97.105.19.61  Hampton 2015-09-22 2016-02-06   \n",
       "2        8.0  97.105.19.61  Hampton 2015-09-22 2016-02-06   \n",
       "3        8.0  97.105.19.61  Hampton 2015-09-22 2016-02-06   \n",
       "4       22.0  97.105.19.61    Teddy 2018-01-08 2018-05-17   \n",
       "\n",
       "            created_at           updated_at  program_id  \n",
       "0  2016-06-14 19:52:26  2016-06-14 19:52:26         1.0  \n",
       "1  2016-06-14 19:52:26  2016-06-14 19:52:26         1.0  \n",
       "2  2016-06-14 19:52:26  2016-06-14 19:52:26         1.0  \n",
       "3  2016-06-14 19:52:26  2016-06-14 19:52:26         1.0  \n",
       "4  2018-01-08 13:59:10  2018-01-08 13:59:10         2.0  "
      ]
     },
     "execution_count": 14,
     "metadata": {},
     "output_type": "execute_result"
    }
   ],
   "source": [
    "df.head()"
   ]
  },
  {
   "cell_type": "code",
   "execution_count": 15,
   "id": "b9feb19d",
   "metadata": {},
   "outputs": [
    {
     "name": "stdout",
     "output_type": "stream",
     "text": [
      "<class 'pandas.core.frame.DataFrame'>\n",
      "Int64Index: 816192 entries, 0 to 900217\n",
      "Data columns (total 12 columns):\n",
      " #   Column      Non-Null Count   Dtype         \n",
      "---  ------      --------------   -----         \n",
      " 0   date        816192 non-null  datetime64[ns]\n",
      " 1   time        816192 non-null  object        \n",
      " 2   path        816192 non-null  object        \n",
      " 3   user_id     816192 non-null  int64         \n",
      " 4   cohort_id   816192 non-null  float64       \n",
      " 5   ip          816192 non-null  object        \n",
      " 6   name        816192 non-null  object        \n",
      " 7   start_date  816192 non-null  datetime64[ns]\n",
      " 8   end_date    816192 non-null  datetime64[ns]\n",
      " 9   created_at  816192 non-null  object        \n",
      " 10  updated_at  816192 non-null  object        \n",
      " 11  program_id  816192 non-null  float64       \n",
      "dtypes: datetime64[ns](3), float64(2), int64(1), object(6)\n",
      "memory usage: 81.0+ MB\n"
     ]
    }
   ],
   "source": [
    "df.info()"
   ]
  },
  {
   "cell_type": "code",
   "execution_count": 16,
   "id": "a595ab6a",
   "metadata": {},
   "outputs": [
    {
     "data": {
      "text/html": [
       "<div>\n",
       "<style scoped>\n",
       "    .dataframe tbody tr th:only-of-type {\n",
       "        vertical-align: middle;\n",
       "    }\n",
       "\n",
       "    .dataframe tbody tr th {\n",
       "        vertical-align: top;\n",
       "    }\n",
       "\n",
       "    .dataframe thead th {\n",
       "        text-align: right;\n",
       "    }\n",
       "</style>\n",
       "<table border=\"1\" class=\"dataframe\">\n",
       "  <thead>\n",
       "    <tr style=\"text-align: right;\">\n",
       "      <th></th>\n",
       "      <th>date</th>\n",
       "      <th>time</th>\n",
       "      <th>path</th>\n",
       "      <th>user_id</th>\n",
       "      <th>cohort_id</th>\n",
       "      <th>ip</th>\n",
       "      <th>name</th>\n",
       "      <th>start_date</th>\n",
       "      <th>end_date</th>\n",
       "      <th>created_at</th>\n",
       "      <th>updated_at</th>\n",
       "      <th>program_id</th>\n",
       "    </tr>\n",
       "  </thead>\n",
       "  <tbody>\n",
       "    <tr>\n",
       "      <th>72</th>\n",
       "      <td>2018-01-26</td>\n",
       "      <td>10:59:02</td>\n",
       "      <td>index.html</td>\n",
       "      <td>21</td>\n",
       "      <td>16.0</td>\n",
       "      <td>71.137.146.71</td>\n",
       "      <td>Niagara</td>\n",
       "      <td>2016-10-26</td>\n",
       "      <td>2017-03-09</td>\n",
       "      <td>2016-10-26 02:34:05</td>\n",
       "      <td>2016-10-26 14:30:19</td>\n",
       "      <td>2.0</td>\n",
       "    </tr>\n",
       "    <tr>\n",
       "      <th>73</th>\n",
       "      <td>2018-01-26</td>\n",
       "      <td>10:59:06</td>\n",
       "      <td>java-i</td>\n",
       "      <td>21</td>\n",
       "      <td>16.0</td>\n",
       "      <td>71.137.146.71</td>\n",
       "      <td>Niagara</td>\n",
       "      <td>2016-10-26</td>\n",
       "      <td>2017-03-09</td>\n",
       "      <td>2016-10-26 02:34:05</td>\n",
       "      <td>2016-10-26 14:30:19</td>\n",
       "      <td>2.0</td>\n",
       "    </tr>\n",
       "    <tr>\n",
       "      <th>254</th>\n",
       "      <td>2018-01-26</td>\n",
       "      <td>13:57:51</td>\n",
       "      <td>spring/extra-features/file-upload</td>\n",
       "      <td>40</td>\n",
       "      <td>16.0</td>\n",
       "      <td>97.105.19.61</td>\n",
       "      <td>Niagara</td>\n",
       "      <td>2016-10-26</td>\n",
       "      <td>2017-03-09</td>\n",
       "      <td>2016-10-26 02:34:05</td>\n",
       "      <td>2016-10-26 14:30:19</td>\n",
       "      <td>2.0</td>\n",
       "    </tr>\n",
       "    <tr>\n",
       "      <th>1067</th>\n",
       "      <td>2018-01-29</td>\n",
       "      <td>09:28:24</td>\n",
       "      <td>jquery</td>\n",
       "      <td>40</td>\n",
       "      <td>16.0</td>\n",
       "      <td>97.105.19.61</td>\n",
       "      <td>Niagara</td>\n",
       "      <td>2016-10-26</td>\n",
       "      <td>2017-03-09</td>\n",
       "      <td>2016-10-26 02:34:05</td>\n",
       "      <td>2016-10-26 14:30:19</td>\n",
       "      <td>2.0</td>\n",
       "    </tr>\n",
       "    <tr>\n",
       "      <th>1068</th>\n",
       "      <td>2018-01-29</td>\n",
       "      <td>09:28:31</td>\n",
       "      <td>jquery/ajax</td>\n",
       "      <td>40</td>\n",
       "      <td>16.0</td>\n",
       "      <td>97.105.19.61</td>\n",
       "      <td>Niagara</td>\n",
       "      <td>2016-10-26</td>\n",
       "      <td>2017-03-09</td>\n",
       "      <td>2016-10-26 02:34:05</td>\n",
       "      <td>2016-10-26 14:30:19</td>\n",
       "      <td>2.0</td>\n",
       "    </tr>\n",
       "    <tr>\n",
       "      <th>...</th>\n",
       "      <td>...</td>\n",
       "      <td>...</td>\n",
       "      <td>...</td>\n",
       "      <td>...</td>\n",
       "      <td>...</td>\n",
       "      <td>...</td>\n",
       "      <td>...</td>\n",
       "      <td>...</td>\n",
       "      <td>...</td>\n",
       "      <td>...</td>\n",
       "      <td>...</td>\n",
       "      <td>...</td>\n",
       "    </tr>\n",
       "    <tr>\n",
       "      <th>897930</th>\n",
       "      <td>2021-04-20</td>\n",
       "      <td>11:37:32</td>\n",
       "      <td>spring/fundamentals/repositories</td>\n",
       "      <td>709</td>\n",
       "      <td>61.0</td>\n",
       "      <td>206.109.18.52</td>\n",
       "      <td>Bash</td>\n",
       "      <td>2020-07-20</td>\n",
       "      <td>2021-01-21</td>\n",
       "      <td>2020-07-20 19:04:00</td>\n",
       "      <td>2020-09-30 15:54:46</td>\n",
       "      <td>2.0</td>\n",
       "    </tr>\n",
       "    <tr>\n",
       "      <th>897971</th>\n",
       "      <td>2021-04-20</td>\n",
       "      <td>11:47:11</td>\n",
       "      <td>html-css</td>\n",
       "      <td>705</td>\n",
       "      <td>61.0</td>\n",
       "      <td>136.50.68.20</td>\n",
       "      <td>Bash</td>\n",
       "      <td>2020-07-20</td>\n",
       "      <td>2021-01-21</td>\n",
       "      <td>2020-07-20 19:04:00</td>\n",
       "      <td>2020-09-30 15:54:46</td>\n",
       "      <td>2.0</td>\n",
       "    </tr>\n",
       "    <tr>\n",
       "      <th>897972</th>\n",
       "      <td>2021-04-20</td>\n",
       "      <td>11:47:14</td>\n",
       "      <td>html-css/css-ii/bootstrap-grid-system</td>\n",
       "      <td>705</td>\n",
       "      <td>61.0</td>\n",
       "      <td>136.50.68.20</td>\n",
       "      <td>Bash</td>\n",
       "      <td>2020-07-20</td>\n",
       "      <td>2021-01-21</td>\n",
       "      <td>2020-07-20 19:04:00</td>\n",
       "      <td>2020-09-30 15:54:46</td>\n",
       "      <td>2.0</td>\n",
       "    </tr>\n",
       "    <tr>\n",
       "      <th>898429</th>\n",
       "      <td>2021-04-20</td>\n",
       "      <td>15:04:46</td>\n",
       "      <td>java-iii</td>\n",
       "      <td>609</td>\n",
       "      <td>56.0</td>\n",
       "      <td>70.115.90.106</td>\n",
       "      <td>Apex</td>\n",
       "      <td>2020-02-24</td>\n",
       "      <td>2020-07-29</td>\n",
       "      <td>2020-02-24 15:39:33</td>\n",
       "      <td>2020-07-29 18:41:13</td>\n",
       "      <td>2.0</td>\n",
       "    </tr>\n",
       "    <tr>\n",
       "      <th>898430</th>\n",
       "      <td>2021-04-20</td>\n",
       "      <td>15:04:48</td>\n",
       "      <td>java-iii/finish-the-adlister</td>\n",
       "      <td>609</td>\n",
       "      <td>56.0</td>\n",
       "      <td>70.115.90.106</td>\n",
       "      <td>Apex</td>\n",
       "      <td>2020-02-24</td>\n",
       "      <td>2020-07-29</td>\n",
       "      <td>2020-02-24 15:39:33</td>\n",
       "      <td>2020-07-29 18:41:13</td>\n",
       "      <td>2.0</td>\n",
       "    </tr>\n",
       "  </tbody>\n",
       "</table>\n",
       "<p>52036 rows × 12 columns</p>\n",
       "</div>"
      ],
      "text/plain": [
       "             date      time                                   path  user_id  \\\n",
       "72     2018-01-26  10:59:02                             index.html       21   \n",
       "73     2018-01-26  10:59:06                                 java-i       21   \n",
       "254    2018-01-26  13:57:51      spring/extra-features/file-upload       40   \n",
       "1067   2018-01-29  09:28:24                                 jquery       40   \n",
       "1068   2018-01-29  09:28:31                            jquery/ajax       40   \n",
       "...           ...       ...                                    ...      ...   \n",
       "897930 2021-04-20  11:37:32       spring/fundamentals/repositories      709   \n",
       "897971 2021-04-20  11:47:11                               html-css      705   \n",
       "897972 2021-04-20  11:47:14  html-css/css-ii/bootstrap-grid-system      705   \n",
       "898429 2021-04-20  15:04:46                               java-iii      609   \n",
       "898430 2021-04-20  15:04:48           java-iii/finish-the-adlister      609   \n",
       "\n",
       "        cohort_id             ip     name start_date   end_date  \\\n",
       "72           16.0  71.137.146.71  Niagara 2016-10-26 2017-03-09   \n",
       "73           16.0  71.137.146.71  Niagara 2016-10-26 2017-03-09   \n",
       "254          16.0   97.105.19.61  Niagara 2016-10-26 2017-03-09   \n",
       "1067         16.0   97.105.19.61  Niagara 2016-10-26 2017-03-09   \n",
       "1068         16.0   97.105.19.61  Niagara 2016-10-26 2017-03-09   \n",
       "...           ...            ...      ...        ...        ...   \n",
       "897930       61.0  206.109.18.52     Bash 2020-07-20 2021-01-21   \n",
       "897971       61.0   136.50.68.20     Bash 2020-07-20 2021-01-21   \n",
       "897972       61.0   136.50.68.20     Bash 2020-07-20 2021-01-21   \n",
       "898429       56.0  70.115.90.106     Apex 2020-02-24 2020-07-29   \n",
       "898430       56.0  70.115.90.106     Apex 2020-02-24 2020-07-29   \n",
       "\n",
       "                 created_at           updated_at  program_id  \n",
       "72      2016-10-26 02:34:05  2016-10-26 14:30:19         2.0  \n",
       "73      2016-10-26 02:34:05  2016-10-26 14:30:19         2.0  \n",
       "254     2016-10-26 02:34:05  2016-10-26 14:30:19         2.0  \n",
       "1067    2016-10-26 02:34:05  2016-10-26 14:30:19         2.0  \n",
       "1068    2016-10-26 02:34:05  2016-10-26 14:30:19         2.0  \n",
       "...                     ...                  ...         ...  \n",
       "897930  2020-07-20 19:04:00  2020-09-30 15:54:46         2.0  \n",
       "897971  2020-07-20 19:04:00  2020-09-30 15:54:46         2.0  \n",
       "897972  2020-07-20 19:04:00  2020-09-30 15:54:46         2.0  \n",
       "898429  2020-02-24 15:39:33  2020-07-29 18:41:13         2.0  \n",
       "898430  2020-02-24 15:39:33  2020-07-29 18:41:13         2.0  \n",
       "\n",
       "[52036 rows x 12 columns]"
      ]
     },
     "execution_count": 16,
     "metadata": {},
     "output_type": "execute_result"
    }
   ],
   "source": [
    "df[df.created_at != df.updated_at]"
   ]
  },
  {
   "cell_type": "code",
   "execution_count": 17,
   "id": "0b6a5fef",
   "metadata": {},
   "outputs": [
    {
     "data": {
      "text/plain": [
       "2141"
      ]
     },
     "execution_count": 17,
     "metadata": {},
     "output_type": "execute_result"
    }
   ],
   "source": [
    "df.path.nunique()"
   ]
  },
  {
   "cell_type": "code",
   "execution_count": 18,
   "id": "c14ad054",
   "metadata": {},
   "outputs": [
    {
     "data": {
      "text/plain": [
       "/                                                       43973\n",
       "search/search_index.json                                18170\n",
       "toc                                                     17386\n",
       "javascript-i                                            17166\n",
       "html-css                                                12351\n",
       "                                                        ...  \n",
       "interview-questions                                         1\n",
       "interview                                                   1\n",
       "RESTful-api                                                 1\n",
       "content/examples/examples/gitbook/images/favicon.ico        1\n",
       "11.02_TransformData.md                                      1\n",
       "Name: path, Length: 2141, dtype: int64"
      ]
     },
     "execution_count": 18,
     "metadata": {},
     "output_type": "execute_result"
    }
   ],
   "source": [
    "df.path.value_counts(dropna=False).sort_values(ascending=False)"
   ]
  },
  {
   "cell_type": "code",
   "execution_count": 19,
   "id": "1e605081",
   "metadata": {},
   "outputs": [
    {
     "data": {
      "text/plain": [
       "regression/multivariate-regression-in-excel                   11\n",
       "anomaly-detection/time-series-anomaly-detection-part-1        11\n",
       "7-classification/handling-missing-values                      11\n",
       "9-timeseries/4-prep                                           11\n",
       "9-timeseries/5-explore                                        11\n",
       "6-regression/multivariate-regression-in-excel                 11\n",
       "12-distributed-ml/read-jdbc                                   11\n",
       "appendix/testing-code                                         11\n",
       "dataframes                                                    11\n",
       "content/mysql/aliases-and-functions/functions.html            11\n",
       "content/php_ii/array-functions/push-and-pop.html              11\n",
       "uploads/5762c2946250b.jpg                                     11\n",
       "content/jquery/resume-portfolio/gitbook/images/favicon.ico    11\n",
       "1.10_JobReq_Indeed                                            11\n",
       "cli-03-file-paths                                             11\n",
       "objects                                                       11\n",
       "content/laravel/more-features/db-query-builder.html           11\n",
       "html-css/positioning                                          11\n",
       "dendogram_sample.jpeg                                         11\n",
       "content/javascript/arrays/iterating.html                      11\n",
       "appendix/postwork/sales-tax                                   11\n",
       "9_Appendix_TSAD_Lesson2                                       11\n",
       "introduction-to-java                                          11\n",
       "content/javascript/bom-and-dom/calculator.html                11\n",
       "content/jquery/ajax/gitbook/images/favicon.ico                11\n",
       "Name: path, dtype: int64"
      ]
     },
     "execution_count": 19,
     "metadata": {},
     "output_type": "execute_result"
    }
   ],
   "source": [
    "df.path.value_counts()[df.path.value_counts()>10].tail(25)"
   ]
  },
  {
   "cell_type": "code",
   "execution_count": 20,
   "id": "f47cb362",
   "metadata": {},
   "outputs": [
    {
     "data": {
      "text/plain": [
       "5-stats/4.2-compare-means/null                           1\n",
       "appendix/cli/2-Overview                                  1\n",
       "appendix/cls/2-listing-files                             1\n",
       "misleading3_deaths.jpg                                   1\n",
       ".gitignore                                               1\n",
       "fundamentals/1-fundamentals/modern-data-scientist.jpg    1\n",
       "appendix/interview-questions-students                    1\n",
       "3-vocabulary                                             1\n",
       "9-timeseries/6.1-parametric-modeling                     1\n",
       "9-timeseries/6.2-prophet                                 1\n",
       "12-distributed-ml/3-getting-started                      1\n",
       "12-distributed-ml/4-acquire                              1\n",
       "12-distributed-ml/5-inspect                              1\n",
       "12-distributed-ml/6.1-prepare-part-1                     1\n",
       "12-distributed-ml/6.2-prepare-part-2                     1\n",
       "12-distributed-ml/6.3-prepare-part-3                     1\n",
       "12-distributed-ml/6.4-prepare-part-4                     1\n",
       "12-distributed-ml/8.1-classification                     1\n",
       "7.4.1-pandas-overview                                    1\n",
       "7.4.2-series                                             1\n",
       "python/custom-sorting-functions                          1\n",
       "imports                                                  1\n",
       "java-i/console-io                                        1\n",
       "appendix/univariate_regression_in_excel                  1\n",
       "6-regression/8-Project                                   1\n",
       "Name: path, dtype: int64"
      ]
     },
     "execution_count": 20,
     "metadata": {},
     "output_type": "execute_result"
    }
   ],
   "source": [
    "ds.path.value_counts()[ds.path.value_counts()>0].tail(25)"
   ]
  },
  {
   "cell_type": "code",
   "execution_count": 21,
   "id": "bb03f0a2",
   "metadata": {},
   "outputs": [
    {
     "data": {
      "text/plain": [
       "7-classification/1-overview                                    6\n",
       "10-anomaly-detection/4-detecting-timeseries-anomalies          6\n",
       "content/laravel/intro/index.html                               6\n",
       "9-timeseries/6.1-parametric-modeling                           6\n",
       "Clustering_Explore                                             6\n",
       "content/php_iv/exceptions/throwing.html                        6\n",
       "content/mysql/basic-statements/gitbook/images/favicon.ico      6\n",
       "13-advanced-topics/3.2-virtual-environments                    6\n",
       "content/appendix/further-reading/gitbook/images/favicon.ico    6\n",
       "6-regression/2-regression-excel                                6\n",
       "passwords                                                      6\n",
       "content/appendix/code-standards/mysql.html                     6\n",
       "2-storytelling/3-tableau                                       6\n",
       "1-fundamentals/2.3-visualization-with-excel                    6\n",
       "content/mysql/relationships/joins.html                         6\n",
       "control-statements-and-loops                                   6\n",
       "content/mysql/clauses/gitbook/images/favicon.ico               6\n",
       "prework/getting-started                                        6\n",
       "6-regression/4.0-explore                                       6\n",
       "2-storytelling/project                                         6\n",
       "7-classification/6.1-logistic-regression                       6\n",
       "6.01.03_Summarize                                              6\n",
       "4_Error_Handling                                               6\n",
       "BuiltIn_Datasets                                               6\n",
       "Regression_Project2                                            6\n",
       "Name: path, dtype: int64"
      ]
     },
     "execution_count": 21,
     "metadata": {},
     "output_type": "execute_result"
    }
   ],
   "source": [
    "wd.path.value_counts()[wd.path.value_counts()>5].tail(25)"
   ]
  },
  {
   "cell_type": "code",
   "execution_count": 30,
   "id": "73a3577b",
   "metadata": {},
   "outputs": [
    {
     "data": {
      "text/plain": [
       "59.0     32015\n",
       "34.0     26538\n",
       "55.0     21582\n",
       "133.0    14715\n",
       "137.0     8562\n",
       "Name: cohort_id, dtype: int64"
      ]
     },
     "execution_count": 30,
     "metadata": {},
     "output_type": "execute_result"
    }
   ],
   "source": [
    "ds.cohort_id.value_counts()"
   ]
  },
  {
   "cell_type": "code",
   "execution_count": 23,
   "id": "56d38ea3",
   "metadata": {},
   "outputs": [
    {
     "data": {
      "text/plain": [
       "47"
      ]
     },
     "execution_count": 23,
     "metadata": {},
     "output_type": "execute_result"
    }
   ],
   "source": [
    "df.cohort_id.nunique()"
   ]
  },
  {
   "cell_type": "code",
   "execution_count": 24,
   "id": "ebe6ab10",
   "metadata": {},
   "outputs": [
    {
     "data": {
      "text/plain": [
       "97.105.19.58       260986\n",
       "97.105.19.61        61662\n",
       "192.171.117.210      9302\n",
       "67.11.50.23          4181\n",
       "172.124.67.93        3511\n",
       "                    ...  \n",
       "172.58.96.4             1\n",
       "37.60.189.18            1\n",
       "99.203.155.43           1\n",
       "184.226.32.25           1\n",
       "162.251.232.107         1\n",
       "Name: ip, Length: 5284, dtype: int64"
      ]
     },
     "execution_count": 24,
     "metadata": {},
     "output_type": "execute_result"
    }
   ],
   "source": [
    "df.ip.value_counts()"
   ]
  },
  {
   "cell_type": "code",
   "execution_count": 25,
   "id": "ed8d7b6f",
   "metadata": {},
   "outputs": [],
   "source": [
    "df.created_at = pd.to_datetime(df.created_at)"
   ]
  },
  {
   "cell_type": "code",
   "execution_count": 26,
   "id": "4aa2f16b",
   "metadata": {},
   "outputs": [],
   "source": [
    "df.updated_at = pd.to_datetime(df.updated_at)"
   ]
  },
  {
   "cell_type": "code",
   "execution_count": 27,
   "id": "464a35fe",
   "metadata": {},
   "outputs": [
    {
     "name": "stdout",
     "output_type": "stream",
     "text": [
      "<class 'pandas.core.frame.DataFrame'>\n",
      "Int64Index: 816192 entries, 0 to 900217\n",
      "Data columns (total 12 columns):\n",
      " #   Column      Non-Null Count   Dtype         \n",
      "---  ------      --------------   -----         \n",
      " 0   date        816192 non-null  datetime64[ns]\n",
      " 1   time        816192 non-null  object        \n",
      " 2   path        816192 non-null  object        \n",
      " 3   user_id     816192 non-null  int64         \n",
      " 4   cohort_id   816192 non-null  float64       \n",
      " 5   ip          816192 non-null  object        \n",
      " 6   name        816192 non-null  object        \n",
      " 7   start_date  816192 non-null  datetime64[ns]\n",
      " 8   end_date    816192 non-null  datetime64[ns]\n",
      " 9   created_at  816192 non-null  datetime64[ns]\n",
      " 10  updated_at  816192 non-null  datetime64[ns]\n",
      " 11  program_id  816192 non-null  float64       \n",
      "dtypes: datetime64[ns](5), float64(2), int64(1), object(4)\n",
      "memory usage: 81.0+ MB\n"
     ]
    }
   ],
   "source": [
    "df.info()"
   ]
  },
  {
   "cell_type": "code",
   "execution_count": 28,
   "id": "1b2547cc",
   "metadata": {},
   "outputs": [],
   "source": [
    "df = df.set_index(df.date).sort_index()"
   ]
  },
  {
   "cell_type": "code",
   "execution_count": 31,
   "id": "a23397ad",
   "metadata": {},
   "outputs": [
    {
     "data": {
      "text/plain": [
       "<AxesSubplot:xlabel='date'>"
      ]
     },
     "execution_count": 31,
     "metadata": {},
     "output_type": "execute_result"
    },
    {
     "data": {
      "image/png": "[encoded data removed]",
      "text/plain": [
       "<Figure size 1152x648 with 1 Axes>"
      ]
     },
     "metadata": {
      "needs_background": "light"
     },
     "output_type": "display_data"
    }
   ],
   "source": [
    "df[df.cohort_id==59].path.resample('d').count().plot(figsize=[16,9])"
   ]
  },
  {
   "cell_type": "code",
   "execution_count": 32,
   "id": "184dc5fe",
   "metadata": {},
   "outputs": [
    {
     "data": {
      "text/plain": [
       "<AxesSubplot:xlabel='date'>"
      ]
     },
     "execution_count": 32,
     "metadata": {},
     "output_type": "execute_result"
    },
    {
     "data": {
      "image/png": "[encoded data removed]",
      "text/plain": [
       "<Figure size 1152x648 with 1 Axes>"
      ]
     },
     "metadata": {
      "needs_background": "light"
     },
     "output_type": "display_data"
    }
   ],
   "source": [
    "df[df.cohort_id==34].path.resample('d').count().plot(figsize=[16,9])"
   ]
  },
  {
   "cell_type": "code",
   "execution_count": 33,
   "id": "a9925382",
   "metadata": {},
   "outputs": [
    {
     "data": {
      "text/plain": [
       "<AxesSubplot:xlabel='date'>"
      ]
     },
     "execution_count": 33,
     "metadata": {},
     "output_type": "execute_result"
    },
    {
     "data": {
      "image/png": "[encoded data removed]",
      "text/plain": [
       "<Figure size 1152x648 with 1 Axes>"
      ]
     },
     "metadata": {
      "needs_background": "light"
     },
     "output_type": "display_data"
    }
   ],
   "source": [
    "df[df.cohort_id==55].path.resample('d').count().plot(figsize=[16,9])"
   ]
  },
  {
   "cell_type": "code",
   "execution_count": 34,
   "id": "99125467",
   "metadata": {},
   "outputs": [
    {
     "data": {
      "text/plain": [
       "<AxesSubplot:xlabel='date'>"
      ]
     },
     "execution_count": 34,
     "metadata": {},
     "output_type": "execute_result"
    },
    {
     "data": {
      "image/png": "[encoded data removed]",
      "text/plain": [
       "<Figure size 1152x648 with 1 Axes>"
      ]
     },
     "metadata": {
      "needs_background": "light"
     },
     "output_type": "display_data"
    }
   ],
   "source": [
    "df[df.cohort_id==133].path.resample('d').count().plot(figsize=[16,9])"
   ]
  },
  {
   "cell_type": "code",
   "execution_count": 35,
   "id": "5f26cdbe",
   "metadata": {},
   "outputs": [
    {
     "data": {
      "text/plain": [
       "<AxesSubplot:xlabel='date'>"
      ]
     },
     "execution_count": 35,
     "metadata": {},
     "output_type": "execute_result"
    },
    {
     "data": {
      "image/png": "[encoded data removed]",
      "text/plain": [
       "<Figure size 1152x648 with 1 Axes>"
      ]
     },
     "metadata": {
      "needs_background": "light"
     },
     "output_type": "display_data"
    }
   ],
   "source": [
    "# this cohort's data is incomplete\n",
    "df[df.cohort_id==137].path.resample('d').count().plot(figsize=[16,9])"
   ]
  },
  {
   "cell_type": "code",
   "execution_count": 36,
   "id": "4c35983a",
   "metadata": {},
   "outputs": [
    {
     "data": {
      "text/plain": [
       "(570, '172.124.67.93', Timestamp('2020-04-30 00:00:00'))"
      ]
     },
     "execution_count": 36,
     "metadata": {},
     "output_type": "execute_result"
    }
   ],
   "source": [
    "df.groupby(['user_id','ip']).path.resample('m').count().idxmax()"
   ]
  },
  {
   "cell_type": "code",
   "execution_count": 37,
   "id": "d911cbf0",
   "metadata": {},
   "outputs": [
    {
     "data": {
      "text/plain": [
       "user_id\n",
       "163       1\n",
       "212       1\n",
       "918       1\n",
       "66        1\n",
       "165       1\n",
       "       ... \n",
       "64     3817\n",
       "570    4584\n",
       "344    5460\n",
       "495    6451\n",
       "53     8197\n",
       "Name: path, Length: 957, dtype: int64"
      ]
     },
     "execution_count": 37,
     "metadata": {},
     "output_type": "execute_result"
    }
   ],
   "source": [
    "df.groupby('user_id').path.count().sort_values()"
   ]
  },
  {
   "cell_type": "code",
   "execution_count": 38,
   "id": "98bfa2db",
   "metadata": {},
   "outputs": [],
   "source": [
    "user_path_count = df.groupby('user_id').path.count()"
   ]
  },
  {
   "cell_type": "code",
   "execution_count": 39,
   "id": "2e78b6e4",
   "metadata": {},
   "outputs": [
    {
     "data": {
      "text/plain": [
       "user_id\n",
       "53     8197\n",
       "64     3817\n",
       "344    5460\n",
       "423    3804\n",
       "495    6451\n",
       "524    3512\n",
       "555    3687\n",
       "570    4584\n",
       "581    3473\n",
       "685    3522\n",
       "Name: path, dtype: int64"
      ]
     },
     "execution_count": 39,
     "metadata": {},
     "output_type": "execute_result"
    }
   ],
   "source": [
    "# Calculate the z-score \n",
    "zscores = pd.Series((user_path_count - user_path_count.mean()) / user_path_count.std())\n",
    "\n",
    "# Finds all of the observations three standard deviations or more\n",
    "user_path_count[zscores.abs() >= 3]"
   ]
  },
  {
   "cell_type": "code",
   "execution_count": 40,
   "id": "16390a8d",
   "metadata": {},
   "outputs": [
    {
     "data": {
      "text/html": [
       "<div>\n",
       "<style scoped>\n",
       "    .dataframe tbody tr th:only-of-type {\n",
       "        vertical-align: middle;\n",
       "    }\n",
       "\n",
       "    .dataframe tbody tr th {\n",
       "        vertical-align: top;\n",
       "    }\n",
       "\n",
       "    .dataframe thead th {\n",
       "        text-align: right;\n",
       "    }\n",
       "</style>\n",
       "<table border=\"1\" class=\"dataframe\">\n",
       "  <thead>\n",
       "    <tr style=\"text-align: right;\">\n",
       "      <th></th>\n",
       "      <th>ip</th>\n",
       "      <th>count</th>\n",
       "    </tr>\n",
       "  </thead>\n",
       "  <tbody>\n",
       "    <tr>\n",
       "      <th>0</th>\n",
       "      <td>97.105.19.58</td>\n",
       "      <td>260986</td>\n",
       "    </tr>\n",
       "    <tr>\n",
       "      <th>1</th>\n",
       "      <td>97.105.19.61</td>\n",
       "      <td>61662</td>\n",
       "    </tr>\n",
       "    <tr>\n",
       "      <th>2</th>\n",
       "      <td>192.171.117.210</td>\n",
       "      <td>9302</td>\n",
       "    </tr>\n",
       "    <tr>\n",
       "      <th>3</th>\n",
       "      <td>67.11.50.23</td>\n",
       "      <td>4181</td>\n",
       "    </tr>\n",
       "    <tr>\n",
       "      <th>4</th>\n",
       "      <td>172.124.67.93</td>\n",
       "      <td>3511</td>\n",
       "    </tr>\n",
       "    <tr>\n",
       "      <th>...</th>\n",
       "      <td>...</td>\n",
       "      <td>...</td>\n",
       "    </tr>\n",
       "    <tr>\n",
       "      <th>5279</th>\n",
       "      <td>172.58.96.4</td>\n",
       "      <td>1</td>\n",
       "    </tr>\n",
       "    <tr>\n",
       "      <th>5280</th>\n",
       "      <td>37.60.189.18</td>\n",
       "      <td>1</td>\n",
       "    </tr>\n",
       "    <tr>\n",
       "      <th>5281</th>\n",
       "      <td>99.203.155.43</td>\n",
       "      <td>1</td>\n",
       "    </tr>\n",
       "    <tr>\n",
       "      <th>5282</th>\n",
       "      <td>184.226.32.25</td>\n",
       "      <td>1</td>\n",
       "    </tr>\n",
       "    <tr>\n",
       "      <th>5283</th>\n",
       "      <td>162.251.232.107</td>\n",
       "      <td>1</td>\n",
       "    </tr>\n",
       "  </tbody>\n",
       "</table>\n",
       "<p>5284 rows × 2 columns</p>\n",
       "</div>"
      ],
      "text/plain": [
       "                   ip   count\n",
       "0        97.105.19.58  260986\n",
       "1        97.105.19.61   61662\n",
       "2     192.171.117.210    9302\n",
       "3         67.11.50.23    4181\n",
       "4       172.124.67.93    3511\n",
       "...               ...     ...\n",
       "5279      172.58.96.4       1\n",
       "5280     37.60.189.18       1\n",
       "5281    99.203.155.43       1\n",
       "5282    184.226.32.25       1\n",
       "5283  162.251.232.107       1\n",
       "\n",
       "[5284 rows x 2 columns]"
      ]
     },
     "execution_count": 40,
     "metadata": {},
     "output_type": "execute_result"
    }
   ],
   "source": [
    "#save ip_counts into separate dataframe\n",
    "ip_df = pd.DataFrame(df.ip.value_counts(dropna=False)).reset_index().\\\n",
    "                rename(columns={'index':'ip','ip':'count'})\n",
    "ip_df"
   ]
  },
  {
   "cell_type": "code",
   "execution_count": 41,
   "id": "b507702f",
   "metadata": {},
   "outputs": [],
   "source": [
    " ip_df['prob'] = df.ip.value_counts(normalize=True).reset_index().ip"
   ]
  },
  {
   "cell_type": "code",
   "execution_count": 42,
   "id": "d3d164f0",
   "metadata": {},
   "outputs": [
    {
     "data": {
      "text/html": [
       "<div>\n",
       "<style scoped>\n",
       "    .dataframe tbody tr th:only-of-type {\n",
       "        vertical-align: middle;\n",
       "    }\n",
       "\n",
       "    .dataframe tbody tr th {\n",
       "        vertical-align: top;\n",
       "    }\n",
       "\n",
       "    .dataframe thead th {\n",
       "        text-align: right;\n",
       "    }\n",
       "</style>\n",
       "<table border=\"1\" class=\"dataframe\">\n",
       "  <thead>\n",
       "    <tr style=\"text-align: right;\">\n",
       "      <th></th>\n",
       "      <th>ip</th>\n",
       "      <th>count</th>\n",
       "      <th>prob</th>\n",
       "    </tr>\n",
       "  </thead>\n",
       "  <tbody>\n",
       "    <tr>\n",
       "      <th>0</th>\n",
       "      <td>97.105.19.58</td>\n",
       "      <td>260986</td>\n",
       "      <td>0.319761</td>\n",
       "    </tr>\n",
       "    <tr>\n",
       "      <th>1</th>\n",
       "      <td>97.105.19.61</td>\n",
       "      <td>61662</td>\n",
       "      <td>0.075548</td>\n",
       "    </tr>\n",
       "    <tr>\n",
       "      <th>2</th>\n",
       "      <td>192.171.117.210</td>\n",
       "      <td>9302</td>\n",
       "      <td>0.011397</td>\n",
       "    </tr>\n",
       "    <tr>\n",
       "      <th>3</th>\n",
       "      <td>67.11.50.23</td>\n",
       "      <td>4181</td>\n",
       "      <td>0.005123</td>\n",
       "    </tr>\n",
       "    <tr>\n",
       "      <th>4</th>\n",
       "      <td>172.124.67.93</td>\n",
       "      <td>3511</td>\n",
       "      <td>0.004302</td>\n",
       "    </tr>\n",
       "  </tbody>\n",
       "</table>\n",
       "</div>"
      ],
      "text/plain": [
       "                ip   count      prob\n",
       "0     97.105.19.58  260986  0.319761\n",
       "1     97.105.19.61   61662  0.075548\n",
       "2  192.171.117.210    9302  0.011397\n",
       "3      67.11.50.23    4181  0.005123\n",
       "4    172.124.67.93    3511  0.004302"
      ]
     },
     "execution_count": 42,
     "metadata": {},
     "output_type": "execute_result"
    }
   ],
   "source": [
    "ip_df.head()"
   ]
  },
  {
   "cell_type": "code",
   "execution_count": 43,
   "id": "15f6516d",
   "metadata": {},
   "outputs": [
    {
     "data": {
      "text/plain": [
       "5284"
      ]
     },
     "execution_count": 43,
     "metadata": {},
     "output_type": "execute_result"
    }
   ],
   "source": [
    "ip_df.ip.nunique()"
   ]
  },
  {
   "cell_type": "code",
   "execution_count": 44,
   "id": "21b56979",
   "metadata": {},
   "outputs": [
    {
     "data": {
      "image/png": "[encoded data removed]",
      "text/plain": [
       "<Figure size 432x288 with 1 Axes>"
      ]
     },
     "metadata": {
      "needs_background": "light"
     },
     "output_type": "display_data"
    }
   ],
   "source": [
    "#plot them - top 5\n",
    "ip_df.set_index('ip')['count'].head(5).sort_values().plot.barh()\n",
    "plt.show()"
   ]
  },
  {
   "cell_type": "code",
   "execution_count": 49,
   "id": "095f4636",
   "metadata": {},
   "outputs": [
    {
     "data": {
      "text/plain": [
       "ip\n",
       "100.11.170.135     0.000140\n",
       "100.19.73.35       0.000500\n",
       "100.35.67.162      0.000013\n",
       "103.137.12.164     0.000011\n",
       "103.208.220.130    0.000001\n",
       "                     ...   \n",
       "99.97.208.154      0.000020\n",
       "99.97.210.12       0.000022\n",
       "99.98.32.165       0.000327\n",
       "99.98.32.97        0.000056\n",
       "99.98.36.168       0.000479\n",
       "Length: 5284, dtype: float64"
      ]
     },
     "execution_count": 49,
     "metadata": {},
     "output_type": "execute_result"
    }
   ],
   "source": [
    "#prob(B)\n",
    "Pb = df.groupby('ip').size() / len(df)\n",
    "Pb"
   ]
  },
  {
   "cell_type": "code",
   "execution_count": 50,
   "id": "2f850b69",
   "metadata": {},
   "outputs": [
    {
     "data": {
      "text/plain": [
       "ip               user_id\n",
       "100.11.170.135   658        0.000140\n",
       "100.19.73.35     658        0.000500\n",
       "100.35.67.162    52         0.000013\n",
       "103.137.12.164   469        0.000011\n",
       "103.208.220.130  369        0.000001\n",
       "                              ...   \n",
       "99.97.208.154    875        0.000006\n",
       "99.97.210.12     606        0.000022\n",
       "99.98.32.165     324        0.000327\n",
       "99.98.32.97      481        0.000056\n",
       "99.98.36.168     310        0.000479\n",
       "Length: 7217, dtype: float64"
      ]
     },
     "execution_count": 50,
     "metadata": {},
     "output_type": "execute_result"
    }
   ],
   "source": [
    "#prob(A & B)\n",
    "Pab = df.groupby(['ip','user_id']).size() / len(df)\n",
    "Pab"
   ]
  },
  {
   "cell_type": "code",
   "execution_count": 51,
   "id": "93cfb573",
   "metadata": {},
   "outputs": [
    {
     "data": {
      "text/plain": [
       "ip               user_id\n",
       "100.11.170.135   658        1.0000\n",
       "100.19.73.35     658        1.0000\n",
       "100.35.67.162    52         1.0000\n",
       "103.137.12.164   469        1.0000\n",
       "103.208.220.130  369        1.0000\n",
       "                             ...  \n",
       "99.97.208.154    875        0.3125\n",
       "99.97.210.12     606        1.0000\n",
       "99.98.32.165     324        1.0000\n",
       "99.98.32.97      481        1.0000\n",
       "99.98.36.168     310        1.0000\n",
       "Length: 7217, dtype: float64"
      ]
     },
     "execution_count": 51,
     "metadata": {},
     "output_type": "execute_result"
    }
   ],
   "source": [
    "Pab / Pb"
   ]
  },
  {
   "cell_type": "code",
   "execution_count": 52,
   "id": "70cd4372",
   "metadata": {},
   "outputs": [
    {
     "data": {
      "text/html": [
       "<div>\n",
       "<style scoped>\n",
       "    .dataframe tbody tr th:only-of-type {\n",
       "        vertical-align: middle;\n",
       "    }\n",
       "\n",
       "    .dataframe tbody tr th {\n",
       "        vertical-align: top;\n",
       "    }\n",
       "\n",
       "    .dataframe thead th {\n",
       "        text-align: right;\n",
       "    }\n",
       "</style>\n",
       "<table border=\"1\" class=\"dataframe\">\n",
       "  <thead>\n",
       "    <tr style=\"text-align: right;\">\n",
       "      <th></th>\n",
       "      <th>ip</th>\n",
       "      <th>user_id</th>\n",
       "      <th>user_ip</th>\n",
       "    </tr>\n",
       "  </thead>\n",
       "  <tbody>\n",
       "    <tr>\n",
       "      <th>0</th>\n",
       "      <td>100.11.170.135</td>\n",
       "      <td>658</td>\n",
       "      <td>1.0</td>\n",
       "    </tr>\n",
       "    <tr>\n",
       "      <th>1</th>\n",
       "      <td>100.19.73.35</td>\n",
       "      <td>658</td>\n",
       "      <td>1.0</td>\n",
       "    </tr>\n",
       "    <tr>\n",
       "      <th>2</th>\n",
       "      <td>100.35.67.162</td>\n",
       "      <td>52</td>\n",
       "      <td>1.0</td>\n",
       "    </tr>\n",
       "    <tr>\n",
       "      <th>3</th>\n",
       "      <td>103.137.12.164</td>\n",
       "      <td>469</td>\n",
       "      <td>1.0</td>\n",
       "    </tr>\n",
       "    <tr>\n",
       "      <th>4</th>\n",
       "      <td>103.208.220.130</td>\n",
       "      <td>369</td>\n",
       "      <td>1.0</td>\n",
       "    </tr>\n",
       "  </tbody>\n",
       "</table>\n",
       "</div>"
      ],
      "text/plain": [
       "                ip  user_id  user_ip\n",
       "0   100.11.170.135      658      1.0\n",
       "1     100.19.73.35      658      1.0\n",
       "2    100.35.67.162       52      1.0\n",
       "3   103.137.12.164      469      1.0\n",
       "4  103.208.220.130      369      1.0"
      ]
     },
     "execution_count": 52,
     "metadata": {},
     "output_type": "execute_result"
    }
   ],
   "source": [
    "# Given a particular ip, what is probability of a certain status code\n",
    "#same thing, diferent method, using groupby and normalizing value counts\n",
    "\n",
    "user_ip = df.groupby('ip').user_id.value_counts(normalize=True).\\\n",
    "                rename('user_ip').reset_index()\n",
    "user_ip.head()"
   ]
  },
  {
   "cell_type": "code",
   "execution_count": 53,
   "id": "2e65e581",
   "metadata": {},
   "outputs": [
    {
     "data": {
      "text/html": [
       "<div>\n",
       "<style scoped>\n",
       "    .dataframe tbody tr th:only-of-type {\n",
       "        vertical-align: middle;\n",
       "    }\n",
       "\n",
       "    .dataframe tbody tr th {\n",
       "        vertical-align: top;\n",
       "    }\n",
       "\n",
       "    .dataframe thead th {\n",
       "        text-align: right;\n",
       "    }\n",
       "</style>\n",
       "<table border=\"1\" class=\"dataframe\">\n",
       "  <thead>\n",
       "    <tr style=\"text-align: right;\">\n",
       "      <th></th>\n",
       "      <th>ip</th>\n",
       "      <th>user_id</th>\n",
       "      <th>user_ip</th>\n",
       "    </tr>\n",
       "  </thead>\n",
       "  <tbody>\n",
       "    <tr>\n",
       "      <th>12</th>\n",
       "      <td>104.1.46.153</td>\n",
       "      <td>136</td>\n",
       "      <td>0.727273</td>\n",
       "    </tr>\n",
       "    <tr>\n",
       "      <th>13</th>\n",
       "      <td>104.1.46.153</td>\n",
       "      <td>244</td>\n",
       "      <td>0.272727</td>\n",
       "    </tr>\n",
       "    <tr>\n",
       "      <th>14</th>\n",
       "      <td>104.10.49.137</td>\n",
       "      <td>613</td>\n",
       "      <td>0.964958</td>\n",
       "    </tr>\n",
       "    <tr>\n",
       "      <th>15</th>\n",
       "      <td>104.10.49.137</td>\n",
       "      <td>594</td>\n",
       "      <td>0.032829</td>\n",
       "    </tr>\n",
       "    <tr>\n",
       "      <th>16</th>\n",
       "      <td>104.10.49.137</td>\n",
       "      <td>615</td>\n",
       "      <td>0.002213</td>\n",
       "    </tr>\n",
       "    <tr>\n",
       "      <th>...</th>\n",
       "      <td>...</td>\n",
       "      <td>...</td>\n",
       "      <td>...</td>\n",
       "    </tr>\n",
       "    <tr>\n",
       "      <th>7180</th>\n",
       "      <td>99.43.143.116</td>\n",
       "      <td>784</td>\n",
       "      <td>0.427382</td>\n",
       "    </tr>\n",
       "    <tr>\n",
       "      <th>7195</th>\n",
       "      <td>99.61.24.168</td>\n",
       "      <td>418</td>\n",
       "      <td>0.787546</td>\n",
       "    </tr>\n",
       "    <tr>\n",
       "      <th>7196</th>\n",
       "      <td>99.61.24.168</td>\n",
       "      <td>458</td>\n",
       "      <td>0.212454</td>\n",
       "    </tr>\n",
       "    <tr>\n",
       "      <th>7211</th>\n",
       "      <td>99.97.208.154</td>\n",
       "      <td>800</td>\n",
       "      <td>0.687500</td>\n",
       "    </tr>\n",
       "    <tr>\n",
       "      <th>7212</th>\n",
       "      <td>99.97.208.154</td>\n",
       "      <td>875</td>\n",
       "      <td>0.312500</td>\n",
       "    </tr>\n",
       "  </tbody>\n",
       "</table>\n",
       "<p>2541 rows × 3 columns</p>\n",
       "</div>"
      ],
      "text/plain": [
       "                 ip  user_id   user_ip\n",
       "12     104.1.46.153      136  0.727273\n",
       "13     104.1.46.153      244  0.272727\n",
       "14    104.10.49.137      613  0.964958\n",
       "15    104.10.49.137      594  0.032829\n",
       "16    104.10.49.137      615  0.002213\n",
       "...             ...      ...       ...\n",
       "7180  99.43.143.116      784  0.427382\n",
       "7195   99.61.24.168      418  0.787546\n",
       "7196   99.61.24.168      458  0.212454\n",
       "7211  99.97.208.154      800  0.687500\n",
       "7212  99.97.208.154      875  0.312500\n",
       "\n",
       "[2541 rows x 3 columns]"
      ]
     },
     "execution_count": 53,
     "metadata": {},
     "output_type": "execute_result"
    }
   ],
   "source": [
    "user_ip [user_ip.user_ip < 1]"
   ]
  },
  {
   "cell_type": "code",
   "execution_count": 54,
   "id": "1e15d4e0",
   "metadata": {},
   "outputs": [
    {
     "data": {
      "text/html": [
       "<div>\n",
       "<style scoped>\n",
       "    .dataframe tbody tr th:only-of-type {\n",
       "        vertical-align: middle;\n",
       "    }\n",
       "\n",
       "    .dataframe tbody tr th {\n",
       "        vertical-align: top;\n",
       "    }\n",
       "\n",
       "    .dataframe thead th {\n",
       "        text-align: right;\n",
       "    }\n",
       "</style>\n",
       "<table border=\"1\" class=\"dataframe\">\n",
       "  <thead>\n",
       "    <tr style=\"text-align: right;\">\n",
       "      <th></th>\n",
       "      <th>date</th>\n",
       "      <th>time</th>\n",
       "      <th>path</th>\n",
       "      <th>user_id</th>\n",
       "      <th>cohort_id</th>\n",
       "      <th>ip</th>\n",
       "      <th>name</th>\n",
       "      <th>start_date</th>\n",
       "      <th>end_date</th>\n",
       "      <th>created_at</th>\n",
       "      <th>updated_at</th>\n",
       "      <th>program_id</th>\n",
       "    </tr>\n",
       "    <tr>\n",
       "      <th>date</th>\n",
       "      <th></th>\n",
       "      <th></th>\n",
       "      <th></th>\n",
       "      <th></th>\n",
       "      <th></th>\n",
       "      <th></th>\n",
       "      <th></th>\n",
       "      <th></th>\n",
       "      <th></th>\n",
       "      <th></th>\n",
       "      <th></th>\n",
       "      <th></th>\n",
       "    </tr>\n",
       "  </thead>\n",
       "  <tbody>\n",
       "    <tr>\n",
       "      <th>2020-03-21</th>\n",
       "      <td>2020-03-21</td>\n",
       "      <td>12:57:57</td>\n",
       "      <td>javascript-i/conditionals</td>\n",
       "      <td>615</td>\n",
       "      <td>56.0</td>\n",
       "      <td>104.10.49.137</td>\n",
       "      <td>Apex</td>\n",
       "      <td>2020-02-24</td>\n",
       "      <td>2020-07-29</td>\n",
       "      <td>2020-02-24 15:39:33</td>\n",
       "      <td>2020-07-29 18:41:13</td>\n",
       "      <td>2.0</td>\n",
       "    </tr>\n",
       "    <tr>\n",
       "      <th>2020-03-21</th>\n",
       "      <td>2020-03-21</td>\n",
       "      <td>13:43:18</td>\n",
       "      <td>search/search_index.json</td>\n",
       "      <td>615</td>\n",
       "      <td>56.0</td>\n",
       "      <td>104.10.49.137</td>\n",
       "      <td>Apex</td>\n",
       "      <td>2020-02-24</td>\n",
       "      <td>2020-07-29</td>\n",
       "      <td>2020-02-24 15:39:33</td>\n",
       "      <td>2020-07-29 18:41:13</td>\n",
       "      <td>2.0</td>\n",
       "    </tr>\n",
       "    <tr>\n",
       "      <th>2020-03-21</th>\n",
       "      <td>2020-03-21</td>\n",
       "      <td>13:36:29</td>\n",
       "      <td>javascript-i/functions</td>\n",
       "      <td>615</td>\n",
       "      <td>56.0</td>\n",
       "      <td>104.10.49.137</td>\n",
       "      <td>Apex</td>\n",
       "      <td>2020-02-24</td>\n",
       "      <td>2020-07-29</td>\n",
       "      <td>2020-02-24 15:39:33</td>\n",
       "      <td>2020-07-29 18:41:13</td>\n",
       "      <td>2.0</td>\n",
       "    </tr>\n",
       "    <tr>\n",
       "      <th>2020-03-21</th>\n",
       "      <td>2020-03-21</td>\n",
       "      <td>13:36:18</td>\n",
       "      <td>javascript-i/loops</td>\n",
       "      <td>615</td>\n",
       "      <td>56.0</td>\n",
       "      <td>104.10.49.137</td>\n",
       "      <td>Apex</td>\n",
       "      <td>2020-02-24</td>\n",
       "      <td>2020-07-29</td>\n",
       "      <td>2020-02-24 15:39:33</td>\n",
       "      <td>2020-07-29 18:41:13</td>\n",
       "      <td>2.0</td>\n",
       "    </tr>\n",
       "    <tr>\n",
       "      <th>2020-03-21</th>\n",
       "      <td>2020-03-21</td>\n",
       "      <td>13:36:12</td>\n",
       "      <td>javascript-i/testing-user-functions</td>\n",
       "      <td>615</td>\n",
       "      <td>56.0</td>\n",
       "      <td>104.10.49.137</td>\n",
       "      <td>Apex</td>\n",
       "      <td>2020-02-24</td>\n",
       "      <td>2020-07-29</td>\n",
       "      <td>2020-02-24 15:39:33</td>\n",
       "      <td>2020-07-29 18:41:13</td>\n",
       "      <td>2.0</td>\n",
       "    </tr>\n",
       "    <tr>\n",
       "      <th>...</th>\n",
       "      <td>...</td>\n",
       "      <td>...</td>\n",
       "      <td>...</td>\n",
       "      <td>...</td>\n",
       "      <td>...</td>\n",
       "      <td>...</td>\n",
       "      <td>...</td>\n",
       "      <td>...</td>\n",
       "      <td>...</td>\n",
       "      <td>...</td>\n",
       "      <td>...</td>\n",
       "      <td>...</td>\n",
       "    </tr>\n",
       "    <tr>\n",
       "      <th>2020-02-29</th>\n",
       "      <td>2020-02-29</td>\n",
       "      <td>21:16:31</td>\n",
       "      <td>html-css/elements</td>\n",
       "      <td>594</td>\n",
       "      <td>56.0</td>\n",
       "      <td>104.10.49.137</td>\n",
       "      <td>Apex</td>\n",
       "      <td>2020-02-24</td>\n",
       "      <td>2020-07-29</td>\n",
       "      <td>2020-02-24 15:39:33</td>\n",
       "      <td>2020-07-29 18:41:13</td>\n",
       "      <td>2.0</td>\n",
       "    </tr>\n",
       "    <tr>\n",
       "      <th>2020-02-29</th>\n",
       "      <td>2020-02-29</td>\n",
       "      <td>21:16:34</td>\n",
       "      <td>html-css/forms</td>\n",
       "      <td>594</td>\n",
       "      <td>56.0</td>\n",
       "      <td>104.10.49.137</td>\n",
       "      <td>Apex</td>\n",
       "      <td>2020-02-24</td>\n",
       "      <td>2020-07-29</td>\n",
       "      <td>2020-02-24 15:39:33</td>\n",
       "      <td>2020-07-29 18:41:13</td>\n",
       "      <td>2.0</td>\n",
       "    </tr>\n",
       "    <tr>\n",
       "      <th>2020-03-02</th>\n",
       "      <td>2020-03-02</td>\n",
       "      <td>20:13:52</td>\n",
       "      <td>html-css/css-i/positioning</td>\n",
       "      <td>594</td>\n",
       "      <td>56.0</td>\n",
       "      <td>104.10.49.137</td>\n",
       "      <td>Apex</td>\n",
       "      <td>2020-02-24</td>\n",
       "      <td>2020-07-29</td>\n",
       "      <td>2020-02-24 15:39:33</td>\n",
       "      <td>2020-07-29 18:41:13</td>\n",
       "      <td>2.0</td>\n",
       "    </tr>\n",
       "    <tr>\n",
       "      <th>2020-03-03</th>\n",
       "      <td>2020-03-03</td>\n",
       "      <td>17:46:54</td>\n",
       "      <td>html-css/css-i/grid/css-grid-intro</td>\n",
       "      <td>594</td>\n",
       "      <td>56.0</td>\n",
       "      <td>104.10.49.137</td>\n",
       "      <td>Apex</td>\n",
       "      <td>2020-02-24</td>\n",
       "      <td>2020-07-29</td>\n",
       "      <td>2020-02-24 15:39:33</td>\n",
       "      <td>2020-07-29 18:41:13</td>\n",
       "      <td>2.0</td>\n",
       "    </tr>\n",
       "    <tr>\n",
       "      <th>2020-02-24</th>\n",
       "      <td>2020-02-24</td>\n",
       "      <td>19:16:25</td>\n",
       "      <td>html-css/introduction</td>\n",
       "      <td>594</td>\n",
       "      <td>56.0</td>\n",
       "      <td>104.10.49.137</td>\n",
       "      <td>Apex</td>\n",
       "      <td>2020-02-24</td>\n",
       "      <td>2020-07-29</td>\n",
       "      <td>2020-02-24 15:39:33</td>\n",
       "      <td>2020-07-29 18:41:13</td>\n",
       "      <td>2.0</td>\n",
       "    </tr>\n",
       "  </tbody>\n",
       "</table>\n",
       "<p>2711 rows × 12 columns</p>\n",
       "</div>"
      ],
      "text/plain": [
       "                 date      time                                 path  user_id  \\\n",
       "date                                                                            \n",
       "2020-03-21 2020-03-21  12:57:57            javascript-i/conditionals      615   \n",
       "2020-03-21 2020-03-21  13:43:18             search/search_index.json      615   \n",
       "2020-03-21 2020-03-21  13:36:29               javascript-i/functions      615   \n",
       "2020-03-21 2020-03-21  13:36:18                   javascript-i/loops      615   \n",
       "2020-03-21 2020-03-21  13:36:12  javascript-i/testing-user-functions      615   \n",
       "...               ...       ...                                  ...      ...   \n",
       "2020-02-29 2020-02-29  21:16:31                    html-css/elements      594   \n",
       "2020-02-29 2020-02-29  21:16:34                       html-css/forms      594   \n",
       "2020-03-02 2020-03-02  20:13:52           html-css/css-i/positioning      594   \n",
       "2020-03-03 2020-03-03  17:46:54   html-css/css-i/grid/css-grid-intro      594   \n",
       "2020-02-24 2020-02-24  19:16:25                html-css/introduction      594   \n",
       "\n",
       "            cohort_id             ip  name start_date   end_date  \\\n",
       "date                                                               \n",
       "2020-03-21       56.0  104.10.49.137  Apex 2020-02-24 2020-07-29   \n",
       "2020-03-21       56.0  104.10.49.137  Apex 2020-02-24 2020-07-29   \n",
       "2020-03-21       56.0  104.10.49.137  Apex 2020-02-24 2020-07-29   \n",
       "2020-03-21       56.0  104.10.49.137  Apex 2020-02-24 2020-07-29   \n",
       "2020-03-21       56.0  104.10.49.137  Apex 2020-02-24 2020-07-29   \n",
       "...               ...            ...   ...        ...        ...   \n",
       "2020-02-29       56.0  104.10.49.137  Apex 2020-02-24 2020-07-29   \n",
       "2020-02-29       56.0  104.10.49.137  Apex 2020-02-24 2020-07-29   \n",
       "2020-03-02       56.0  104.10.49.137  Apex 2020-02-24 2020-07-29   \n",
       "2020-03-03       56.0  104.10.49.137  Apex 2020-02-24 2020-07-29   \n",
       "2020-02-24       56.0  104.10.49.137  Apex 2020-02-24 2020-07-29   \n",
       "\n",
       "                    created_at          updated_at  program_id  \n",
       "date                                                            \n",
       "2020-03-21 2020-02-24 15:39:33 2020-07-29 18:41:13         2.0  \n",
       "2020-03-21 2020-02-24 15:39:33 2020-07-29 18:41:13         2.0  \n",
       "2020-03-21 2020-02-24 15:39:33 2020-07-29 18:41:13         2.0  \n",
       "2020-03-21 2020-02-24 15:39:33 2020-07-29 18:41:13         2.0  \n",
       "2020-03-21 2020-02-24 15:39:33 2020-07-29 18:41:13         2.0  \n",
       "...                        ...                 ...         ...  \n",
       "2020-02-29 2020-02-24 15:39:33 2020-07-29 18:41:13         2.0  \n",
       "2020-02-29 2020-02-24 15:39:33 2020-07-29 18:41:13         2.0  \n",
       "2020-03-02 2020-02-24 15:39:33 2020-07-29 18:41:13         2.0  \n",
       "2020-03-03 2020-02-24 15:39:33 2020-07-29 18:41:13         2.0  \n",
       "2020-02-24 2020-02-24 15:39:33 2020-07-29 18:41:13         2.0  \n",
       "\n",
       "[2711 rows x 12 columns]"
      ]
     },
     "execution_count": 54,
     "metadata": {},
     "output_type": "execute_result"
    }
   ],
   "source": [
    "df [df.ip == '104.10.49.137'].sort_values('user_id', \n",
    "                                           ascending=False)"
   ]
  },
  {
   "cell_type": "code",
   "execution_count": 55,
   "id": "d30d71fb",
   "metadata": {},
   "outputs": [
    {
     "data": {
      "text/html": [
       "<div>\n",
       "<style scoped>\n",
       "    .dataframe tbody tr th:only-of-type {\n",
       "        vertical-align: middle;\n",
       "    }\n",
       "\n",
       "    .dataframe tbody tr th {\n",
       "        vertical-align: top;\n",
       "    }\n",
       "\n",
       "    .dataframe thead th {\n",
       "        text-align: right;\n",
       "    }\n",
       "</style>\n",
       "<table border=\"1\" class=\"dataframe\">\n",
       "  <thead>\n",
       "    <tr style=\"text-align: right;\">\n",
       "      <th></th>\n",
       "      <th>date</th>\n",
       "      <th>time</th>\n",
       "      <th>path</th>\n",
       "      <th>user_id</th>\n",
       "      <th>cohort_id</th>\n",
       "      <th>ip</th>\n",
       "      <th>name</th>\n",
       "      <th>start_date</th>\n",
       "      <th>end_date</th>\n",
       "      <th>created_at</th>\n",
       "      <th>updated_at</th>\n",
       "      <th>program_id</th>\n",
       "      <th>user_ip</th>\n",
       "    </tr>\n",
       "  </thead>\n",
       "  <tbody>\n",
       "    <tr>\n",
       "      <th>0</th>\n",
       "      <td>2018-01-26</td>\n",
       "      <td>09:55:03</td>\n",
       "      <td>/</td>\n",
       "      <td>1</td>\n",
       "      <td>8.0</td>\n",
       "      <td>97.105.19.61</td>\n",
       "      <td>Hampton</td>\n",
       "      <td>2015-09-22</td>\n",
       "      <td>2016-02-06</td>\n",
       "      <td>2016-06-14 19:52:26</td>\n",
       "      <td>2016-06-14 19:52:26</td>\n",
       "      <td>1.0</td>\n",
       "      <td>0.016477</td>\n",
       "    </tr>\n",
       "    <tr>\n",
       "      <th>1</th>\n",
       "      <td>2018-01-26</td>\n",
       "      <td>09:56:02</td>\n",
       "      <td>java-ii</td>\n",
       "      <td>1</td>\n",
       "      <td>8.0</td>\n",
       "      <td>97.105.19.61</td>\n",
       "      <td>Hampton</td>\n",
       "      <td>2015-09-22</td>\n",
       "      <td>2016-02-06</td>\n",
       "      <td>2016-06-14 19:52:26</td>\n",
       "      <td>2016-06-14 19:52:26</td>\n",
       "      <td>1.0</td>\n",
       "      <td>0.016477</td>\n",
       "    </tr>\n",
       "    <tr>\n",
       "      <th>2</th>\n",
       "      <td>2018-01-26</td>\n",
       "      <td>09:56:05</td>\n",
       "      <td>java-ii/object-oriented-programming</td>\n",
       "      <td>1</td>\n",
       "      <td>8.0</td>\n",
       "      <td>97.105.19.61</td>\n",
       "      <td>Hampton</td>\n",
       "      <td>2015-09-22</td>\n",
       "      <td>2016-02-06</td>\n",
       "      <td>2016-06-14 19:52:26</td>\n",
       "      <td>2016-06-14 19:52:26</td>\n",
       "      <td>1.0</td>\n",
       "      <td>0.016477</td>\n",
       "    </tr>\n",
       "    <tr>\n",
       "      <th>3</th>\n",
       "      <td>2018-01-26</td>\n",
       "      <td>09:56:06</td>\n",
       "      <td>slides/object_oriented_programming</td>\n",
       "      <td>1</td>\n",
       "      <td>8.0</td>\n",
       "      <td>97.105.19.61</td>\n",
       "      <td>Hampton</td>\n",
       "      <td>2015-09-22</td>\n",
       "      <td>2016-02-06</td>\n",
       "      <td>2016-06-14 19:52:26</td>\n",
       "      <td>2016-06-14 19:52:26</td>\n",
       "      <td>1.0</td>\n",
       "      <td>0.016477</td>\n",
       "    </tr>\n",
       "    <tr>\n",
       "      <th>4</th>\n",
       "      <td>2018-01-26</td>\n",
       "      <td>09:56:24</td>\n",
       "      <td>javascript-i/conditionals</td>\n",
       "      <td>2</td>\n",
       "      <td>22.0</td>\n",
       "      <td>97.105.19.61</td>\n",
       "      <td>Teddy</td>\n",
       "      <td>2018-01-08</td>\n",
       "      <td>2018-05-17</td>\n",
       "      <td>2018-01-08 13:59:10</td>\n",
       "      <td>2018-01-08 13:59:10</td>\n",
       "      <td>2.0</td>\n",
       "      <td>0.021115</td>\n",
       "    </tr>\n",
       "  </tbody>\n",
       "</table>\n",
       "</div>"
      ],
      "text/plain": [
       "        date      time                                 path  user_id  \\\n",
       "0 2018-01-26  09:55:03                                    /        1   \n",
       "1 2018-01-26  09:56:02                              java-ii        1   \n",
       "2 2018-01-26  09:56:05  java-ii/object-oriented-programming        1   \n",
       "3 2018-01-26  09:56:06   slides/object_oriented_programming        1   \n",
       "4 2018-01-26  09:56:24            javascript-i/conditionals        2   \n",
       "\n",
       "   cohort_id            ip     name start_date   end_date          created_at  \\\n",
       "0        8.0  97.105.19.61  Hampton 2015-09-22 2016-02-06 2016-06-14 19:52:26   \n",
       "1        8.0  97.105.19.61  Hampton 2015-09-22 2016-02-06 2016-06-14 19:52:26   \n",
       "2        8.0  97.105.19.61  Hampton 2015-09-22 2016-02-06 2016-06-14 19:52:26   \n",
       "3        8.0  97.105.19.61  Hampton 2015-09-22 2016-02-06 2016-06-14 19:52:26   \n",
       "4       22.0  97.105.19.61    Teddy 2018-01-08 2018-05-17 2018-01-08 13:59:10   \n",
       "\n",
       "           updated_at  program_id   user_ip  \n",
       "0 2016-06-14 19:52:26         1.0  0.016477  \n",
       "1 2016-06-14 19:52:26         1.0  0.016477  \n",
       "2 2016-06-14 19:52:26         1.0  0.016477  \n",
       "3 2016-06-14 19:52:26         1.0  0.016477  \n",
       "4 2018-01-08 13:59:10         2.0  0.021115  "
      ]
     },
     "execution_count": 55,
     "metadata": {},
     "output_type": "execute_result"
    }
   ],
   "source": [
    "df = df.merge(user_ip, how='left', on=['ip','user_id'])\n",
    "df.head()"
   ]
  },
  {
   "cell_type": "code",
   "execution_count": 56,
   "id": "a9c63702",
   "metadata": {},
   "outputs": [
    {
     "data": {
      "text/html": [
       "<div>\n",
       "<style scoped>\n",
       "    .dataframe tbody tr th:only-of-type {\n",
       "        vertical-align: middle;\n",
       "    }\n",
       "\n",
       "    .dataframe tbody tr th {\n",
       "        vertical-align: top;\n",
       "    }\n",
       "\n",
       "    .dataframe thead th {\n",
       "        text-align: right;\n",
       "    }\n",
       "</style>\n",
       "<table border=\"1\" class=\"dataframe\">\n",
       "  <thead>\n",
       "    <tr style=\"text-align: right;\">\n",
       "      <th></th>\n",
       "      <th>date</th>\n",
       "      <th>time</th>\n",
       "      <th>path</th>\n",
       "      <th>user_id</th>\n",
       "      <th>cohort_id</th>\n",
       "      <th>ip</th>\n",
       "      <th>name</th>\n",
       "      <th>start_date</th>\n",
       "      <th>end_date</th>\n",
       "      <th>created_at</th>\n",
       "      <th>updated_at</th>\n",
       "      <th>program_id</th>\n",
       "      <th>user_ip</th>\n",
       "    </tr>\n",
       "  </thead>\n",
       "  <tbody>\n",
       "    <tr>\n",
       "      <th>9</th>\n",
       "      <td>2018-01-26</td>\n",
       "      <td>09:58:26</td>\n",
       "      <td>javascript-i/functions</td>\n",
       "      <td>4</td>\n",
       "      <td>22.0</td>\n",
       "      <td>97.105.19.61</td>\n",
       "      <td>Teddy</td>\n",
       "      <td>2018-01-08</td>\n",
       "      <td>2018-05-17</td>\n",
       "      <td>2018-01-08 13:59:10</td>\n",
       "      <td>2018-01-08 13:59:10</td>\n",
       "      <td>2.0</td>\n",
       "      <td>0.007152</td>\n",
       "    </tr>\n",
       "    <tr>\n",
       "      <th>19</th>\n",
       "      <td>2018-01-26</td>\n",
       "      <td>10:02:21</td>\n",
       "      <td>javascript-i/functions</td>\n",
       "      <td>8</td>\n",
       "      <td>22.0</td>\n",
       "      <td>97.105.19.61</td>\n",
       "      <td>Teddy</td>\n",
       "      <td>2018-01-08</td>\n",
       "      <td>2018-05-17</td>\n",
       "      <td>2018-01-08 13:59:10</td>\n",
       "      <td>2018-01-08 13:59:10</td>\n",
       "      <td>2.0</td>\n",
       "      <td>0.006146</td>\n",
       "    </tr>\n",
       "    <tr>\n",
       "      <th>20</th>\n",
       "      <td>2018-01-26</td>\n",
       "      <td>10:02:42</td>\n",
       "      <td>javascript-i/functions</td>\n",
       "      <td>9</td>\n",
       "      <td>22.0</td>\n",
       "      <td>97.105.19.61</td>\n",
       "      <td>Teddy</td>\n",
       "      <td>2018-01-08</td>\n",
       "      <td>2018-05-17</td>\n",
       "      <td>2018-01-08 13:59:10</td>\n",
       "      <td>2018-01-08 13:59:10</td>\n",
       "      <td>2.0</td>\n",
       "      <td>0.009098</td>\n",
       "    </tr>\n",
       "    <tr>\n",
       "      <th>23</th>\n",
       "      <td>2018-01-26</td>\n",
       "      <td>10:08:22</td>\n",
       "      <td>mkdocs/search_index.json</td>\n",
       "      <td>10</td>\n",
       "      <td>21.0</td>\n",
       "      <td>97.105.19.61</td>\n",
       "      <td>Sequoia</td>\n",
       "      <td>2017-09-27</td>\n",
       "      <td>2018-02-15</td>\n",
       "      <td>2017-09-27 20:22:41</td>\n",
       "      <td>2017-09-27 20:22:41</td>\n",
       "      <td>2.0</td>\n",
       "      <td>0.001962</td>\n",
       "    </tr>\n",
       "    <tr>\n",
       "      <th>24</th>\n",
       "      <td>2018-01-26</td>\n",
       "      <td>10:08:34</td>\n",
       "      <td>git/merge-conflict-demo</td>\n",
       "      <td>10</td>\n",
       "      <td>21.0</td>\n",
       "      <td>97.105.19.61</td>\n",
       "      <td>Sequoia</td>\n",
       "      <td>2017-09-27</td>\n",
       "      <td>2018-02-15</td>\n",
       "      <td>2017-09-27 20:22:41</td>\n",
       "      <td>2017-09-27 20:22:41</td>\n",
       "      <td>2.0</td>\n",
       "      <td>0.001962</td>\n",
       "    </tr>\n",
       "    <tr>\n",
       "      <th>...</th>\n",
       "      <td>...</td>\n",
       "      <td>...</td>\n",
       "      <td>...</td>\n",
       "      <td>...</td>\n",
       "      <td>...</td>\n",
       "      <td>...</td>\n",
       "      <td>...</td>\n",
       "      <td>...</td>\n",
       "      <td>...</td>\n",
       "      <td>...</td>\n",
       "      <td>...</td>\n",
       "      <td>...</td>\n",
       "      <td>...</td>\n",
       "    </tr>\n",
       "    <tr>\n",
       "      <th>785883</th>\n",
       "      <td>2021-03-25</td>\n",
       "      <td>16:38:16</td>\n",
       "      <td>/</td>\n",
       "      <td>841</td>\n",
       "      <td>133.0</td>\n",
       "      <td>192.171.117.210</td>\n",
       "      <td>Easley</td>\n",
       "      <td>2020-12-07</td>\n",
       "      <td>2021-06-08</td>\n",
       "      <td>2020-12-07 15:20:18</td>\n",
       "      <td>2020-12-07 15:20:18</td>\n",
       "      <td>3.0</td>\n",
       "      <td>0.005590</td>\n",
       "    </tr>\n",
       "    <tr>\n",
       "      <th>785887</th>\n",
       "      <td>2021-03-25</td>\n",
       "      <td>16:39:07</td>\n",
       "      <td>anomaly-detection/overview</td>\n",
       "      <td>841</td>\n",
       "      <td>133.0</td>\n",
       "      <td>192.171.117.210</td>\n",
       "      <td>Easley</td>\n",
       "      <td>2020-12-07</td>\n",
       "      <td>2021-06-08</td>\n",
       "      <td>2020-12-07 15:20:18</td>\n",
       "      <td>2020-12-07 15:20:18</td>\n",
       "      <td>3.0</td>\n",
       "      <td>0.005590</td>\n",
       "    </tr>\n",
       "    <tr>\n",
       "      <th>785888</th>\n",
       "      <td>2021-03-25</td>\n",
       "      <td>16:39:08</td>\n",
       "      <td>anomaly-detection/AnomalyDetectionCartoon.jpeg</td>\n",
       "      <td>841</td>\n",
       "      <td>133.0</td>\n",
       "      <td>192.171.117.210</td>\n",
       "      <td>Easley</td>\n",
       "      <td>2020-12-07</td>\n",
       "      <td>2021-06-08</td>\n",
       "      <td>2020-12-07 15:20:18</td>\n",
       "      <td>2020-12-07 15:20:18</td>\n",
       "      <td>3.0</td>\n",
       "      <td>0.005590</td>\n",
       "    </tr>\n",
       "    <tr>\n",
       "      <th>785891</th>\n",
       "      <td>2021-03-25</td>\n",
       "      <td>16:40:22</td>\n",
       "      <td>regression/project</td>\n",
       "      <td>841</td>\n",
       "      <td>133.0</td>\n",
       "      <td>192.171.117.210</td>\n",
       "      <td>Easley</td>\n",
       "      <td>2020-12-07</td>\n",
       "      <td>2021-06-08</td>\n",
       "      <td>2020-12-07 15:20:18</td>\n",
       "      <td>2020-12-07 15:20:18</td>\n",
       "      <td>3.0</td>\n",
       "      <td>0.005590</td>\n",
       "    </tr>\n",
       "    <tr>\n",
       "      <th>785892</th>\n",
       "      <td>2021-03-25</td>\n",
       "      <td>16:40:31</td>\n",
       "      <td>clustering/wrangle</td>\n",
       "      <td>841</td>\n",
       "      <td>133.0</td>\n",
       "      <td>192.171.117.210</td>\n",
       "      <td>Easley</td>\n",
       "      <td>2020-12-07</td>\n",
       "      <td>2021-06-08</td>\n",
       "      <td>2020-12-07 15:20:18</td>\n",
       "      <td>2020-12-07 15:20:18</td>\n",
       "      <td>3.0</td>\n",
       "      <td>0.005590</td>\n",
       "    </tr>\n",
       "  </tbody>\n",
       "</table>\n",
       "<p>279867 rows × 13 columns</p>\n",
       "</div>"
      ],
      "text/plain": [
       "             date      time                                            path  \\\n",
       "9      2018-01-26  09:58:26                          javascript-i/functions   \n",
       "19     2018-01-26  10:02:21                          javascript-i/functions   \n",
       "20     2018-01-26  10:02:42                          javascript-i/functions   \n",
       "23     2018-01-26  10:08:22                        mkdocs/search_index.json   \n",
       "24     2018-01-26  10:08:34                         git/merge-conflict-demo   \n",
       "...           ...       ...                                             ...   \n",
       "785883 2021-03-25  16:38:16                                               /   \n",
       "785887 2021-03-25  16:39:07                      anomaly-detection/overview   \n",
       "785888 2021-03-25  16:39:08  anomaly-detection/AnomalyDetectionCartoon.jpeg   \n",
       "785891 2021-03-25  16:40:22                              regression/project   \n",
       "785892 2021-03-25  16:40:31                              clustering/wrangle   \n",
       "\n",
       "        user_id  cohort_id               ip     name start_date   end_date  \\\n",
       "9             4       22.0     97.105.19.61    Teddy 2018-01-08 2018-05-17   \n",
       "19            8       22.0     97.105.19.61    Teddy 2018-01-08 2018-05-17   \n",
       "20            9       22.0     97.105.19.61    Teddy 2018-01-08 2018-05-17   \n",
       "23           10       21.0     97.105.19.61  Sequoia 2017-09-27 2018-02-15   \n",
       "24           10       21.0     97.105.19.61  Sequoia 2017-09-27 2018-02-15   \n",
       "...         ...        ...              ...      ...        ...        ...   \n",
       "785883      841      133.0  192.171.117.210   Easley 2020-12-07 2021-06-08   \n",
       "785887      841      133.0  192.171.117.210   Easley 2020-12-07 2021-06-08   \n",
       "785888      841      133.0  192.171.117.210   Easley 2020-12-07 2021-06-08   \n",
       "785891      841      133.0  192.171.117.210   Easley 2020-12-07 2021-06-08   \n",
       "785892      841      133.0  192.171.117.210   Easley 2020-12-07 2021-06-08   \n",
       "\n",
       "                created_at          updated_at  program_id   user_ip  \n",
       "9      2018-01-08 13:59:10 2018-01-08 13:59:10         2.0  0.007152  \n",
       "19     2018-01-08 13:59:10 2018-01-08 13:59:10         2.0  0.006146  \n",
       "20     2018-01-08 13:59:10 2018-01-08 13:59:10         2.0  0.009098  \n",
       "23     2017-09-27 20:22:41 2017-09-27 20:22:41         2.0  0.001962  \n",
       "24     2017-09-27 20:22:41 2017-09-27 20:22:41         2.0  0.001962  \n",
       "...                    ...                 ...         ...       ...  \n",
       "785883 2020-12-07 15:20:18 2020-12-07 15:20:18         3.0  0.005590  \n",
       "785887 2020-12-07 15:20:18 2020-12-07 15:20:18         3.0  0.005590  \n",
       "785888 2020-12-07 15:20:18 2020-12-07 15:20:18         3.0  0.005590  \n",
       "785891 2020-12-07 15:20:18 2020-12-07 15:20:18         3.0  0.005590  \n",
       "785892 2020-12-07 15:20:18 2020-12-07 15:20:18         3.0  0.005590  \n",
       "\n",
       "[279867 rows x 13 columns]"
      ]
     },
     "execution_count": 56,
     "metadata": {},
     "output_type": "execute_result"
    }
   ],
   "source": [
    "df [df.user_ip < .01]"
   ]
  },
  {
   "cell_type": "code",
   "execution_count": 57,
   "id": "015908f5",
   "metadata": {},
   "outputs": [
    {
     "data": {
      "text/plain": [
       "2.0    629334\n",
       "3.0    103412\n",
       "0.0     52893\n",
       "1.0     30548\n",
       "4.0         5\n",
       "Name: program_id, dtype: int64"
      ]
     },
     "execution_count": 57,
     "metadata": {},
     "output_type": "execute_result"
    }
   ],
   "source": [
    "df.program_id.value_counts()"
   ]
  },
  {
   "cell_type": "code",
   "execution_count": 58,
   "id": "31de60a8",
   "metadata": {},
   "outputs": [
    {
     "data": {
      "text/html": [
       "<div>\n",
       "<style scoped>\n",
       "    .dataframe tbody tr th:only-of-type {\n",
       "        vertical-align: middle;\n",
       "    }\n",
       "\n",
       "    .dataframe tbody tr th {\n",
       "        vertical-align: top;\n",
       "    }\n",
       "\n",
       "    .dataframe thead th {\n",
       "        text-align: right;\n",
       "    }\n",
       "</style>\n",
       "<table border=\"1\" class=\"dataframe\">\n",
       "  <thead>\n",
       "    <tr style=\"text-align: right;\">\n",
       "      <th></th>\n",
       "      <th>path</th>\n",
       "      <th>count</th>\n",
       "    </tr>\n",
       "  </thead>\n",
       "  <tbody>\n",
       "    <tr>\n",
       "      <th>0</th>\n",
       "      <td>/</td>\n",
       "      <td>43973</td>\n",
       "    </tr>\n",
       "    <tr>\n",
       "      <th>1</th>\n",
       "      <td>search/search_index.json</td>\n",
       "      <td>18170</td>\n",
       "    </tr>\n",
       "    <tr>\n",
       "      <th>2</th>\n",
       "      <td>toc</td>\n",
       "      <td>17386</td>\n",
       "    </tr>\n",
       "    <tr>\n",
       "      <th>3</th>\n",
       "      <td>javascript-i</td>\n",
       "      <td>17166</td>\n",
       "    </tr>\n",
       "    <tr>\n",
       "      <th>4</th>\n",
       "      <td>html-css</td>\n",
       "      <td>12351</td>\n",
       "    </tr>\n",
       "    <tr>\n",
       "      <th>...</th>\n",
       "      <td>...</td>\n",
       "      <td>...</td>\n",
       "    </tr>\n",
       "    <tr>\n",
       "      <th>2136</th>\n",
       "      <td>7.4.2-series</td>\n",
       "      <td>1</td>\n",
       "    </tr>\n",
       "    <tr>\n",
       "      <th>2137</th>\n",
       "      <td>5.04.05_Exercises</td>\n",
       "      <td>1</td>\n",
       "    </tr>\n",
       "    <tr>\n",
       "      <th>2138</th>\n",
       "      <td>one</td>\n",
       "      <td>1</td>\n",
       "    </tr>\n",
       "    <tr>\n",
       "      <th>2139</th>\n",
       "      <td>prework/cli/07-editing-files-with-vim</td>\n",
       "      <td>1</td>\n",
       "    </tr>\n",
       "    <tr>\n",
       "      <th>2140</th>\n",
       "      <td>11.02_TransformData.md</td>\n",
       "      <td>1</td>\n",
       "    </tr>\n",
       "  </tbody>\n",
       "</table>\n",
       "<p>2141 rows × 2 columns</p>\n",
       "</div>"
      ],
      "text/plain": [
       "                                       path  count\n",
       "0                                         /  43973\n",
       "1                  search/search_index.json  18170\n",
       "2                                       toc  17386\n",
       "3                              javascript-i  17166\n",
       "4                                  html-css  12351\n",
       "...                                     ...    ...\n",
       "2136                           7.4.2-series      1\n",
       "2137                      5.04.05_Exercises      1\n",
       "2138                                    one      1\n",
       "2139  prework/cli/07-editing-files-with-vim      1\n",
       "2140                 11.02_TransformData.md      1\n",
       "\n",
       "[2141 rows x 2 columns]"
      ]
     },
     "execution_count": 58,
     "metadata": {},
     "output_type": "execute_result"
    }
   ],
   "source": [
    "#save ip_counts into separate dataframe\n",
    "path_df = pd.DataFrame(df.path.value_counts(dropna=False)).reset_index().\\\n",
    "                rename(columns={'index':'path','path':'count'})\n",
    "path_df"
   ]
  },
  {
   "cell_type": "code",
   "execution_count": 59,
   "id": "dd75a435",
   "metadata": {},
   "outputs": [
    {
     "data": {
      "text/html": [
       "<div>\n",
       "<style scoped>\n",
       "    .dataframe tbody tr th:only-of-type {\n",
       "        vertical-align: middle;\n",
       "    }\n",
       "\n",
       "    .dataframe tbody tr th {\n",
       "        vertical-align: top;\n",
       "    }\n",
       "\n",
       "    .dataframe thead th {\n",
       "        text-align: right;\n",
       "    }\n",
       "</style>\n",
       "<table border=\"1\" class=\"dataframe\">\n",
       "  <thead>\n",
       "    <tr style=\"text-align: right;\">\n",
       "      <th></th>\n",
       "      <th>path</th>\n",
       "      <th>count</th>\n",
       "    </tr>\n",
       "  </thead>\n",
       "  <tbody>\n",
       "    <tr>\n",
       "      <th>1</th>\n",
       "      <td>search/search_index.json</td>\n",
       "      <td>18170</td>\n",
       "    </tr>\n",
       "    <tr>\n",
       "      <th>2</th>\n",
       "      <td>toc</td>\n",
       "      <td>17386</td>\n",
       "    </tr>\n",
       "    <tr>\n",
       "      <th>3</th>\n",
       "      <td>javascript-i</td>\n",
       "      <td>17166</td>\n",
       "    </tr>\n",
       "    <tr>\n",
       "      <th>4</th>\n",
       "      <td>html-css</td>\n",
       "      <td>12351</td>\n",
       "    </tr>\n",
       "    <tr>\n",
       "      <th>5</th>\n",
       "      <td>java-iii</td>\n",
       "      <td>12340</td>\n",
       "    </tr>\n",
       "    <tr>\n",
       "      <th>...</th>\n",
       "      <td>...</td>\n",
       "      <td>...</td>\n",
       "    </tr>\n",
       "    <tr>\n",
       "      <th>2136</th>\n",
       "      <td>7.4.2-series</td>\n",
       "      <td>1</td>\n",
       "    </tr>\n",
       "    <tr>\n",
       "      <th>2137</th>\n",
       "      <td>5.04.05_Exercises</td>\n",
       "      <td>1</td>\n",
       "    </tr>\n",
       "    <tr>\n",
       "      <th>2138</th>\n",
       "      <td>one</td>\n",
       "      <td>1</td>\n",
       "    </tr>\n",
       "    <tr>\n",
       "      <th>2139</th>\n",
       "      <td>prework/cli/07-editing-files-with-vim</td>\n",
       "      <td>1</td>\n",
       "    </tr>\n",
       "    <tr>\n",
       "      <th>2140</th>\n",
       "      <td>11.02_TransformData.md</td>\n",
       "      <td>1</td>\n",
       "    </tr>\n",
       "  </tbody>\n",
       "</table>\n",
       "<p>2140 rows × 2 columns</p>\n",
       "</div>"
      ],
      "text/plain": [
       "                                       path  count\n",
       "1                  search/search_index.json  18170\n",
       "2                                       toc  17386\n",
       "3                              javascript-i  17166\n",
       "4                                  html-css  12351\n",
       "5                                  java-iii  12340\n",
       "...                                     ...    ...\n",
       "2136                           7.4.2-series      1\n",
       "2137                      5.04.05_Exercises      1\n",
       "2138                                    one      1\n",
       "2139  prework/cli/07-editing-files-with-vim      1\n",
       "2140                 11.02_TransformData.md      1\n",
       "\n",
       "[2140 rows x 2 columns]"
      ]
     },
     "execution_count": 59,
     "metadata": {},
     "output_type": "execute_result"
    }
   ],
   "source": [
    "# remove root directory\n",
    "path_df = path_df[path_df.path != '/']\n",
    "path_df"
   ]
  },
  {
   "cell_type": "code",
   "execution_count": 60,
   "id": "47779f43",
   "metadata": {},
   "outputs": [
    {
     "data": {
      "text/html": [
       "<div>\n",
       "<style scoped>\n",
       "    .dataframe tbody tr th:only-of-type {\n",
       "        vertical-align: middle;\n",
       "    }\n",
       "\n",
       "    .dataframe tbody tr th {\n",
       "        vertical-align: top;\n",
       "    }\n",
       "\n",
       "    .dataframe thead th {\n",
       "        text-align: right;\n",
       "    }\n",
       "</style>\n",
       "<table border=\"1\" class=\"dataframe\">\n",
       "  <thead>\n",
       "    <tr style=\"text-align: right;\">\n",
       "      <th></th>\n",
       "      <th>path</th>\n",
       "      <th>count</th>\n",
       "    </tr>\n",
       "  </thead>\n",
       "  <tbody>\n",
       "    <tr>\n",
       "      <th>2</th>\n",
       "      <td>toc</td>\n",
       "      <td>17386</td>\n",
       "    </tr>\n",
       "    <tr>\n",
       "      <th>3</th>\n",
       "      <td>javascript-i</td>\n",
       "      <td>17166</td>\n",
       "    </tr>\n",
       "    <tr>\n",
       "      <th>4</th>\n",
       "      <td>html-css</td>\n",
       "      <td>12351</td>\n",
       "    </tr>\n",
       "    <tr>\n",
       "      <th>5</th>\n",
       "      <td>java-iii</td>\n",
       "      <td>12340</td>\n",
       "    </tr>\n",
       "    <tr>\n",
       "      <th>6</th>\n",
       "      <td>java-ii</td>\n",
       "      <td>11425</td>\n",
       "    </tr>\n",
       "    <tr>\n",
       "      <th>...</th>\n",
       "      <td>...</td>\n",
       "      <td>...</td>\n",
       "    </tr>\n",
       "    <tr>\n",
       "      <th>2136</th>\n",
       "      <td>7.4.2-series</td>\n",
       "      <td>1</td>\n",
       "    </tr>\n",
       "    <tr>\n",
       "      <th>2137</th>\n",
       "      <td>5.04.05_Exercises</td>\n",
       "      <td>1</td>\n",
       "    </tr>\n",
       "    <tr>\n",
       "      <th>2138</th>\n",
       "      <td>one</td>\n",
       "      <td>1</td>\n",
       "    </tr>\n",
       "    <tr>\n",
       "      <th>2139</th>\n",
       "      <td>prework/cli/07-editing-files-with-vim</td>\n",
       "      <td>1</td>\n",
       "    </tr>\n",
       "    <tr>\n",
       "      <th>2140</th>\n",
       "      <td>11.02_TransformData.md</td>\n",
       "      <td>1</td>\n",
       "    </tr>\n",
       "  </tbody>\n",
       "</table>\n",
       "<p>2139 rows × 2 columns</p>\n",
       "</div>"
      ],
      "text/plain": [
       "                                       path  count\n",
       "2                                       toc  17386\n",
       "3                              javascript-i  17166\n",
       "4                                  html-css  12351\n",
       "5                                  java-iii  12340\n",
       "6                                   java-ii  11425\n",
       "...                                     ...    ...\n",
       "2136                           7.4.2-series      1\n",
       "2137                      5.04.05_Exercises      1\n",
       "2138                                    one      1\n",
       "2139  prework/cli/07-editing-files-with-vim      1\n",
       "2140                 11.02_TransformData.md      1\n",
       "\n",
       "[2139 rows x 2 columns]"
      ]
     },
     "execution_count": 60,
     "metadata": {},
     "output_type": "execute_result"
    }
   ],
   "source": [
    "# remove json index path\n",
    "path_df = path_df[path_df.path != 'search/search_index.json']\n",
    "path_df"
   ]
  },
  {
   "cell_type": "code",
   "execution_count": 61,
   "id": "8076bb70",
   "metadata": {},
   "outputs": [
    {
     "data": {
      "image/png": "[encoded data removed]",
      "text/plain": [
       "<Figure size 432x288 with 1 Axes>"
      ]
     },
     "metadata": {
      "needs_background": "light"
     },
     "output_type": "display_data"
    }
   ],
   "source": [
    "#plot them - top 5\n",
    "path_df.set_index('path')['count'].head(5).sort_values().plot.barh()\n",
    "plt.show()"
   ]
  },
  {
   "cell_type": "code",
   "execution_count": 62,
   "id": "beef3ac9",
   "metadata": {},
   "outputs": [
    {
     "data": {
      "text/plain": [
       "path\n",
       "7.4.2-series                             1\n",
       "5.04.05_Exercises                        1\n",
       "one                                      1\n",
       "prework/cli/07-editing-files-with-vim    1\n",
       "11.02_TransformData.md                   1\n",
       "Name: count, dtype: int64"
      ]
     },
     "execution_count": 62,
     "metadata": {},
     "output_type": "execute_result"
    }
   ],
   "source": [
    "#plot them - bottom 25\n",
    "path_df.set_index('path')['count'].tail(5).sort_values() #.plot.barh(figsize=[16,9])\n",
    "#plt.show()"
   ]
  },
  {
   "cell_type": "code",
   "execution_count": 63,
   "id": "b4304610",
   "metadata": {},
   "outputs": [
    {
     "data": {
      "text/plain": [
       "path\n",
       "0                                   0.000001\n",
       "%20https://github.com/RaulCPena     0.000001\n",
       ",%20https://github.com/RaulCPena    0.000001\n",
       ".git                                0.000001\n",
       ".gitignore                          0.000002\n",
       "                                      ...   \n",
       "web-dev-day-two                     0.000002\n",
       "where                               0.000001\n",
       "working-with-time-series-data       0.000017\n",
       "wp-admin                            0.000001\n",
       "wp-login                            0.000001\n",
       "Length: 2141, dtype: float64"
      ]
     },
     "execution_count": 63,
     "metadata": {},
     "output_type": "execute_result"
    }
   ],
   "source": [
    "#prob(B)\n",
    "Pb = df.groupby('path').size() / len(df)\n",
    "Pb"
   ]
  },
  {
   "cell_type": "code",
   "execution_count": 64,
   "id": "7c96c485",
   "metadata": {},
   "outputs": [
    {
     "data": {
      "text/plain": [
       "path                              cohort_id\n",
       "0                                 55.0         0.000001\n",
       "%20https://github.com/RaulCPena   55.0         0.000001\n",
       ",%20https://github.com/RaulCPena  55.0         0.000001\n",
       ".git                              24.0         0.000001\n",
       ".gitignore                        24.0         0.000001\n",
       "                                                 ...   \n",
       "web-dev-day-two                   61.0         0.000002\n",
       "where                             137.0        0.000001\n",
       "working-with-time-series-data     59.0         0.000017\n",
       "wp-admin                          22.0         0.000001\n",
       "wp-login                          22.0         0.000001\n",
       "Length: 13274, dtype: float64"
      ]
     },
     "execution_count": 64,
     "metadata": {},
     "output_type": "execute_result"
    }
   ],
   "source": [
    "#prob(A & B)\n",
    "Pab = df.groupby(['path','cohort_id']).size() / len(df)\n",
    "Pab"
   ]
  },
  {
   "cell_type": "code",
   "execution_count": 65,
   "id": "66e8a44a",
   "metadata": {},
   "outputs": [
    {
     "data": {
      "text/plain": [
       "path                              cohort_id\n",
       "0                                 55.0         1.0\n",
       "%20https://github.com/RaulCPena   55.0         1.0\n",
       ",%20https://github.com/RaulCPena  55.0         1.0\n",
       ".git                              24.0         1.0\n",
       ".gitignore                        24.0         0.5\n",
       "                                              ... \n",
       "web-dev-day-two                   61.0         1.0\n",
       "where                             137.0        1.0\n",
       "working-with-time-series-data     59.0         1.0\n",
       "wp-admin                          22.0         1.0\n",
       "wp-login                          22.0         1.0\n",
       "Length: 13274, dtype: float64"
      ]
     },
     "execution_count": 65,
     "metadata": {},
     "output_type": "execute_result"
    }
   ],
   "source": [
    "Pab / Pb"
   ]
  },
  {
   "cell_type": "code",
   "execution_count": 66,
   "id": "995671b2",
   "metadata": {},
   "outputs": [
    {
     "data": {
      "text/html": [
       "<div>\n",
       "<style scoped>\n",
       "    .dataframe tbody tr th:only-of-type {\n",
       "        vertical-align: middle;\n",
       "    }\n",
       "\n",
       "    .dataframe tbody tr th {\n",
       "        vertical-align: top;\n",
       "    }\n",
       "\n",
       "    .dataframe thead th {\n",
       "        text-align: right;\n",
       "    }\n",
       "</style>\n",
       "<table border=\"1\" class=\"dataframe\">\n",
       "  <thead>\n",
       "    <tr style=\"text-align: right;\">\n",
       "      <th></th>\n",
       "      <th>path</th>\n",
       "      <th>cohort_id</th>\n",
       "      <th>cohort_path</th>\n",
       "    </tr>\n",
       "  </thead>\n",
       "  <tbody>\n",
       "    <tr>\n",
       "      <th>0</th>\n",
       "      <td>0</td>\n",
       "      <td>55.0</td>\n",
       "      <td>1.0</td>\n",
       "    </tr>\n",
       "    <tr>\n",
       "      <th>1</th>\n",
       "      <td>%20https://github.com/RaulCPena</td>\n",
       "      <td>55.0</td>\n",
       "      <td>1.0</td>\n",
       "    </tr>\n",
       "    <tr>\n",
       "      <th>2</th>\n",
       "      <td>,%20https://github.com/RaulCPena</td>\n",
       "      <td>55.0</td>\n",
       "      <td>1.0</td>\n",
       "    </tr>\n",
       "    <tr>\n",
       "      <th>3</th>\n",
       "      <td>.git</td>\n",
       "      <td>24.0</td>\n",
       "      <td>1.0</td>\n",
       "    </tr>\n",
       "    <tr>\n",
       "      <th>4</th>\n",
       "      <td>.gitignore</td>\n",
       "      <td>24.0</td>\n",
       "      <td>0.5</td>\n",
       "    </tr>\n",
       "  </tbody>\n",
       "</table>\n",
       "</div>"
      ],
      "text/plain": [
       "                               path  cohort_id  cohort_path\n",
       "0                                 0       55.0          1.0\n",
       "1   %20https://github.com/RaulCPena       55.0          1.0\n",
       "2  ,%20https://github.com/RaulCPena       55.0          1.0\n",
       "3                              .git       24.0          1.0\n",
       "4                        .gitignore       24.0          0.5"
      ]
     },
     "execution_count": 66,
     "metadata": {},
     "output_type": "execute_result"
    }
   ],
   "source": [
    "cohort_path = df.groupby('path').cohort_id.value_counts(normalize=True).\\\n",
    "                rename('cohort_path').reset_index()\n",
    "cohort_path.head()"
   ]
  },
  {
   "cell_type": "code",
   "execution_count": 67,
   "id": "ded7e9c4",
   "metadata": {},
   "outputs": [
    {
     "data": {
      "text/html": [
       "<div>\n",
       "<style scoped>\n",
       "    .dataframe tbody tr th:only-of-type {\n",
       "        vertical-align: middle;\n",
       "    }\n",
       "\n",
       "    .dataframe tbody tr th {\n",
       "        vertical-align: top;\n",
       "    }\n",
       "\n",
       "    .dataframe thead th {\n",
       "        text-align: right;\n",
       "    }\n",
       "</style>\n",
       "<table border=\"1\" class=\"dataframe\">\n",
       "  <thead>\n",
       "    <tr style=\"text-align: right;\">\n",
       "      <th></th>\n",
       "      <th>path</th>\n",
       "      <th>cohort_id</th>\n",
       "      <th>cohort_path</th>\n",
       "    </tr>\n",
       "  </thead>\n",
       "  <tbody>\n",
       "    <tr>\n",
       "      <th>4</th>\n",
       "      <td>.gitignore</td>\n",
       "      <td>24.0</td>\n",
       "      <td>0.500000</td>\n",
       "    </tr>\n",
       "    <tr>\n",
       "      <th>5</th>\n",
       "      <td>.gitignore</td>\n",
       "      <td>59.0</td>\n",
       "      <td>0.500000</td>\n",
       "    </tr>\n",
       "    <tr>\n",
       "      <th>7</th>\n",
       "      <td>/</td>\n",
       "      <td>0.0</td>\n",
       "      <td>0.101403</td>\n",
       "    </tr>\n",
       "    <tr>\n",
       "      <th>8</th>\n",
       "      <td>/</td>\n",
       "      <td>59.0</td>\n",
       "      <td>0.067769</td>\n",
       "    </tr>\n",
       "    <tr>\n",
       "      <th>9</th>\n",
       "      <td>/</td>\n",
       "      <td>24.0</td>\n",
       "      <td>0.047779</td>\n",
       "    </tr>\n",
       "    <tr>\n",
       "      <th>...</th>\n",
       "      <td>...</td>\n",
       "      <td>...</td>\n",
       "      <td>...</td>\n",
       "    </tr>\n",
       "    <tr>\n",
       "      <th>13264</th>\n",
       "      <td>web-design/ux/purpose</td>\n",
       "      <td>18.0</td>\n",
       "      <td>0.004065</td>\n",
       "    </tr>\n",
       "    <tr>\n",
       "      <th>13265</th>\n",
       "      <td>web-design/ux/purpose</td>\n",
       "      <td>21.0</td>\n",
       "      <td>0.004065</td>\n",
       "    </tr>\n",
       "    <tr>\n",
       "      <th>13266</th>\n",
       "      <td>web-design/ux/purpose</td>\n",
       "      <td>24.0</td>\n",
       "      <td>0.004065</td>\n",
       "    </tr>\n",
       "    <tr>\n",
       "      <th>13267</th>\n",
       "      <td>web-design/ux/purpose</td>\n",
       "      <td>25.0</td>\n",
       "      <td>0.004065</td>\n",
       "    </tr>\n",
       "    <tr>\n",
       "      <th>13268</th>\n",
       "      <td>web-design/ux/purpose</td>\n",
       "      <td>29.0</td>\n",
       "      <td>0.004065</td>\n",
       "    </tr>\n",
       "  </tbody>\n",
       "</table>\n",
       "<p>12472 rows × 3 columns</p>\n",
       "</div>"
      ],
      "text/plain": [
       "                        path  cohort_id  cohort_path\n",
       "4                 .gitignore       24.0     0.500000\n",
       "5                 .gitignore       59.0     0.500000\n",
       "7                          /        0.0     0.101403\n",
       "8                          /       59.0     0.067769\n",
       "9                          /       24.0     0.047779\n",
       "...                      ...        ...          ...\n",
       "13264  web-design/ux/purpose       18.0     0.004065\n",
       "13265  web-design/ux/purpose       21.0     0.004065\n",
       "13266  web-design/ux/purpose       24.0     0.004065\n",
       "13267  web-design/ux/purpose       25.0     0.004065\n",
       "13268  web-design/ux/purpose       29.0     0.004065\n",
       "\n",
       "[12472 rows x 3 columns]"
      ]
     },
     "execution_count": 67,
     "metadata": {},
     "output_type": "execute_result"
    }
   ],
   "source": [
    "cohort_path [cohort_path.cohort_path < 1]"
   ]
  },
  {
   "cell_type": "code",
   "execution_count": 68,
   "id": "961e42da",
   "metadata": {},
   "outputs": [
    {
     "data": {
      "text/plain": [
       "appendix/cli/2-overview                           1\n",
       "appendix/cli/2-Overview                           1\n",
       "appendix/cli                                      1\n",
       "appendix/capstone/workbook                        1\n",
       "appendix/capstone-workbook/project-proposal       1\n",
       "appendix/capstone                                 1\n",
       "appendix/further-reading/java/intellij            1\n",
       "appendix/further-reading/java/intellij-tomcat     1\n",
       "appendix/further-reading/javascript               1\n",
       "appendix/open_data/www.census.gov                 1\n",
       "appendix/spring/security-use-cases                1\n",
       "appendix/spring/authorization                     1\n",
       "appendix/professional-resume                      1\n",
       "appendix/professional                             1\n",
       "appendix/open_data/www.openstreetmap.org          1\n",
       "appendix/open_data/www.flickr.com/services/api    1\n",
       "appendix/job-search-workshop                      1\n",
       "appendix/further-reading/mysq                     1\n",
       "appendix/javascript                               1\n",
       "appendix/java/intellij-tomcat-configuration       1\n",
       "appendix/java                                     1\n",
       "appendix/interview-questions-students             1\n",
       "appendix/intellij-intro                           1\n",
       "appendix/further-reading/mysql                    1\n",
       "wp-login                                          1\n",
       "Name: path, dtype: int64"
      ]
     },
     "execution_count": 68,
     "metadata": {},
     "output_type": "execute_result"
    }
   ],
   "source": [
    "cohort_path.path.value_counts().tail(25)"
   ]
  },
  {
   "cell_type": "code",
   "execution_count": 69,
   "id": "17d2f68e",
   "metadata": {},
   "outputs": [],
   "source": [
    "# df = df.merge(cohort_path, how='left', on=['path','cohort_id'])\n",
    "# df.head()"
   ]
  },
  {
   "cell_type": "markdown",
   "id": "2330885b",
   "metadata": {},
   "source": [
    "## Which lesson appears to attract the most traffic consistently across cohorts (per program)?"
   ]
  },
  {
   "cell_type": "code",
   "execution_count": 70,
   "id": "22277d1b",
   "metadata": {},
   "outputs": [
    {
     "data": {
      "text/html": [
       "<div>\n",
       "<style scoped>\n",
       "    .dataframe tbody tr th:only-of-type {\n",
       "        vertical-align: middle;\n",
       "    }\n",
       "\n",
       "    .dataframe tbody tr th {\n",
       "        vertical-align: top;\n",
       "    }\n",
       "\n",
       "    .dataframe thead th {\n",
       "        text-align: right;\n",
       "    }\n",
       "</style>\n",
       "<table border=\"1\" class=\"dataframe\">\n",
       "  <thead>\n",
       "    <tr style=\"text-align: right;\">\n",
       "      <th></th>\n",
       "      <th>cohort_id</th>\n",
       "      <th>path</th>\n",
       "      <th>counts</th>\n",
       "    </tr>\n",
       "  </thead>\n",
       "  <tbody>\n",
       "    <tr>\n",
       "      <th>0</th>\n",
       "      <td>0.0</td>\n",
       "      <td>/</td>\n",
       "      <td>4459</td>\n",
       "    </tr>\n",
       "    <tr>\n",
       "      <th>1</th>\n",
       "      <td>0.0</td>\n",
       "      <td>search/search_index.json</td>\n",
       "      <td>1985</td>\n",
       "    </tr>\n",
       "    <tr>\n",
       "      <th>2</th>\n",
       "      <td>0.0</td>\n",
       "      <td>javascript-i</td>\n",
       "      <td>780</td>\n",
       "    </tr>\n",
       "    <tr>\n",
       "      <th>3</th>\n",
       "      <td>0.0</td>\n",
       "      <td>toc</td>\n",
       "      <td>706</td>\n",
       "    </tr>\n",
       "    <tr>\n",
       "      <th>4</th>\n",
       "      <td>0.0</td>\n",
       "      <td>spring</td>\n",
       "      <td>641</td>\n",
       "    </tr>\n",
       "    <tr>\n",
       "      <th>...</th>\n",
       "      <td>...</td>\n",
       "      <td>...</td>\n",
       "      <td>...</td>\n",
       "    </tr>\n",
       "    <tr>\n",
       "      <th>13269</th>\n",
       "      <td>139.0</td>\n",
       "      <td>java-iii/servlets</td>\n",
       "      <td>1</td>\n",
       "    </tr>\n",
       "    <tr>\n",
       "      <th>13270</th>\n",
       "      <td>139.0</td>\n",
       "      <td>javascript-i/bom-and-dom/dom</td>\n",
       "      <td>1</td>\n",
       "    </tr>\n",
       "    <tr>\n",
       "      <th>13271</th>\n",
       "      <td>139.0</td>\n",
       "      <td>javascript-i/objects</td>\n",
       "      <td>1</td>\n",
       "    </tr>\n",
       "    <tr>\n",
       "      <th>13272</th>\n",
       "      <td>139.0</td>\n",
       "      <td>javascript-i/objects/math</td>\n",
       "      <td>1</td>\n",
       "    </tr>\n",
       "    <tr>\n",
       "      <th>13273</th>\n",
       "      <td>139.0</td>\n",
       "      <td>jquery/essential-methods/attributes-and-css</td>\n",
       "      <td>1</td>\n",
       "    </tr>\n",
       "  </tbody>\n",
       "</table>\n",
       "<p>13274 rows × 3 columns</p>\n",
       "</div>"
      ],
      "text/plain": [
       "       cohort_id                                         path  counts\n",
       "0            0.0                                            /    4459\n",
       "1            0.0                     search/search_index.json    1985\n",
       "2            0.0                                 javascript-i     780\n",
       "3            0.0                                          toc     706\n",
       "4            0.0                                       spring     641\n",
       "...          ...                                          ...     ...\n",
       "13269      139.0                            java-iii/servlets       1\n",
       "13270      139.0                 javascript-i/bom-and-dom/dom       1\n",
       "13271      139.0                         javascript-i/objects       1\n",
       "13272      139.0                    javascript-i/objects/math       1\n",
       "13273      139.0  jquery/essential-methods/attributes-and-css       1\n",
       "\n",
       "[13274 rows x 3 columns]"
      ]
     },
     "execution_count": 70,
     "metadata": {},
     "output_type": "execute_result"
    }
   ],
   "source": [
    "path_by_cohort = df.groupby('cohort_id').path.value_counts().reset_index(name='counts')\n",
    "path_by_cohort"
   ]
  },
  {
   "cell_type": "code",
   "execution_count": 71,
   "id": "b5351851",
   "metadata": {},
   "outputs": [],
   "source": [
    "path_by_cohort = path_by_cohort[path_by_cohort.cohort_id != 28]"
   ]
  },
  {
   "cell_type": "code",
   "execution_count": 72,
   "id": "e9370e79",
   "metadata": {},
   "outputs": [],
   "source": [
    "path_by_cohort = path_by_cohort[path_by_cohort.path != '/']"
   ]
  },
  {
   "cell_type": "code",
   "execution_count": 333,
   "id": "8e8dce06",
   "metadata": {},
   "outputs": [
    {
     "data": {
      "text/plain": [
       "<AxesSubplot:>"
      ]
     },
     "execution_count": 333,
     "metadata": {},
     "output_type": "execute_result"
    },
    {
     "data": {
      "image/png": "[encoded data removed]",
      "text/plain": [
       "<Figure size 1152x648 with 1 Axes>"
      ]
     },
     "metadata": {
      "needs_background": "light"
     },
     "output_type": "display_data"
    }
   ],
   "source": [
    "path_by_cohort.groupby('cohort_id').path.head(1).value_counts().plot.barh(figsize=[16,9])"
   ]
  },
  {
   "cell_type": "code",
   "execution_count": 74,
   "id": "254e9a38",
   "metadata": {},
   "outputs": [
    {
     "name": "stdout",
     "output_type": "stream",
     "text": [
      "<class 'pandas.core.frame.DataFrame'>\n",
      "Int64Index: 816192 entries, 0 to 816191\n",
      "Data columns (total 13 columns):\n",
      " #   Column      Non-Null Count   Dtype         \n",
      "---  ------      --------------   -----         \n",
      " 0   date        816192 non-null  datetime64[ns]\n",
      " 1   time        816192 non-null  object        \n",
      " 2   path        816192 non-null  object        \n",
      " 3   user_id     816192 non-null  int64         \n",
      " 4   cohort_id   816192 non-null  float64       \n",
      " 5   ip          816192 non-null  object        \n",
      " 6   name        816192 non-null  object        \n",
      " 7   start_date  816192 non-null  datetime64[ns]\n",
      " 8   end_date    816192 non-null  datetime64[ns]\n",
      " 9   created_at  816192 non-null  datetime64[ns]\n",
      " 10  updated_at  816192 non-null  datetime64[ns]\n",
      " 11  program_id  816192 non-null  float64       \n",
      " 12  user_ip     816192 non-null  float64       \n",
      "dtypes: datetime64[ns](5), float64(3), int64(1), object(4)\n",
      "memory usage: 87.2+ MB\n"
     ]
    }
   ],
   "source": [
    "df.info()"
   ]
  },
  {
   "cell_type": "code",
   "execution_count": 351,
   "id": "4889d8d7",
   "metadata": {},
   "outputs": [
    {
     "data": {
      "text/plain": [
       "<AxesSubplot:>"
      ]
     },
     "execution_count": 351,
     "metadata": {},
     "output_type": "execute_result"
    },
    {
     "data": {
      "image/png": "[encoded data removed]",
      "text/plain": [
       "<Figure size 1152x648 with 1 Axes>"
      ]
     },
     "metadata": {
      "needs_background": "light"
     },
     "output_type": "display_data"
    }
   ],
   "source": [
    "ds.path.value_counts().head(15).plot.barh(figsize=[16,9])"
   ]
  },
  {
   "cell_type": "code",
   "execution_count": 76,
   "id": "9d3ecf3e",
   "metadata": {},
   "outputs": [
    {
     "data": {
      "text/html": [
       "<div>\n",
       "<style scoped>\n",
       "    .dataframe tbody tr th:only-of-type {\n",
       "        vertical-align: middle;\n",
       "    }\n",
       "\n",
       "    .dataframe tbody tr th {\n",
       "        vertical-align: top;\n",
       "    }\n",
       "\n",
       "    .dataframe thead th {\n",
       "        text-align: right;\n",
       "    }\n",
       "</style>\n",
       "<table border=\"1\" class=\"dataframe\">\n",
       "  <thead>\n",
       "    <tr style=\"text-align: right;\">\n",
       "      <th></th>\n",
       "      <th>date</th>\n",
       "      <th>time</th>\n",
       "      <th>path</th>\n",
       "      <th>user_id</th>\n",
       "      <th>cohort_id</th>\n",
       "      <th>ip</th>\n",
       "      <th>name</th>\n",
       "      <th>start_date</th>\n",
       "      <th>end_date</th>\n",
       "      <th>created_at</th>\n",
       "      <th>updated_at</th>\n",
       "      <th>program_id</th>\n",
       "    </tr>\n",
       "  </thead>\n",
       "  <tbody>\n",
       "    <tr>\n",
       "      <th>326064</th>\n",
       "      <td>2019-08-20</td>\n",
       "      <td>09:40:28</td>\n",
       "      <td>3-sql/1-mysql-overview</td>\n",
       "      <td>470</td>\n",
       "      <td>34.0</td>\n",
       "      <td>97.105.19.58</td>\n",
       "      <td>Bayes</td>\n",
       "      <td>2019-08-19</td>\n",
       "      <td>2020-01-30</td>\n",
       "      <td>2019-08-20 14:38:55</td>\n",
       "      <td>2019-08-20 14:38:55</td>\n",
       "      <td>3.0</td>\n",
       "    </tr>\n",
       "    <tr>\n",
       "      <th>326067</th>\n",
       "      <td>2019-08-20</td>\n",
       "      <td>09:40:30</td>\n",
       "      <td>2-storytelling/bad-charts</td>\n",
       "      <td>467</td>\n",
       "      <td>34.0</td>\n",
       "      <td>97.105.19.58</td>\n",
       "      <td>Bayes</td>\n",
       "      <td>2019-08-19</td>\n",
       "      <td>2020-01-30</td>\n",
       "      <td>2019-08-20 14:38:55</td>\n",
       "      <td>2019-08-20 14:38:55</td>\n",
       "      <td>3.0</td>\n",
       "    </tr>\n",
       "    <tr>\n",
       "      <th>326068</th>\n",
       "      <td>2019-08-20</td>\n",
       "      <td>09:40:30</td>\n",
       "      <td>2-storytelling/misleading1_baseball.jpg</td>\n",
       "      <td>467</td>\n",
       "      <td>34.0</td>\n",
       "      <td>97.105.19.58</td>\n",
       "      <td>Bayes</td>\n",
       "      <td>2019-08-19</td>\n",
       "      <td>2020-01-30</td>\n",
       "      <td>2019-08-20 14:38:55</td>\n",
       "      <td>2019-08-20 14:38:55</td>\n",
       "      <td>3.0</td>\n",
       "    </tr>\n",
       "    <tr>\n",
       "      <th>326069</th>\n",
       "      <td>2019-08-20</td>\n",
       "      <td>09:40:30</td>\n",
       "      <td>2-storytelling/misleading1_fox.jpg</td>\n",
       "      <td>467</td>\n",
       "      <td>34.0</td>\n",
       "      <td>97.105.19.58</td>\n",
       "      <td>Bayes</td>\n",
       "      <td>2019-08-19</td>\n",
       "      <td>2020-01-30</td>\n",
       "      <td>2019-08-20 14:38:55</td>\n",
       "      <td>2019-08-20 14:38:55</td>\n",
       "      <td>3.0</td>\n",
       "    </tr>\n",
       "    <tr>\n",
       "      <th>326070</th>\n",
       "      <td>2019-08-20</td>\n",
       "      <td>09:40:30</td>\n",
       "      <td>2-storytelling/misleading3_deaths.jpg</td>\n",
       "      <td>467</td>\n",
       "      <td>34.0</td>\n",
       "      <td>97.105.19.58</td>\n",
       "      <td>Bayes</td>\n",
       "      <td>2019-08-19</td>\n",
       "      <td>2020-01-30</td>\n",
       "      <td>2019-08-20 14:38:55</td>\n",
       "      <td>2019-08-20 14:38:55</td>\n",
       "      <td>3.0</td>\n",
       "    </tr>\n",
       "    <tr>\n",
       "      <th>...</th>\n",
       "      <td>...</td>\n",
       "      <td>...</td>\n",
       "      <td>...</td>\n",
       "      <td>...</td>\n",
       "      <td>...</td>\n",
       "      <td>...</td>\n",
       "      <td>...</td>\n",
       "      <td>...</td>\n",
       "      <td>...</td>\n",
       "      <td>...</td>\n",
       "      <td>...</td>\n",
       "      <td>...</td>\n",
       "    </tr>\n",
       "    <tr>\n",
       "      <th>900152</th>\n",
       "      <td>2021-04-21</td>\n",
       "      <td>16:01:24</td>\n",
       "      <td>classification/project</td>\n",
       "      <td>841</td>\n",
       "      <td>133.0</td>\n",
       "      <td>99.162.244.233</td>\n",
       "      <td>Easley</td>\n",
       "      <td>2020-12-07</td>\n",
       "      <td>2021-06-08</td>\n",
       "      <td>2020-12-07 15:20:18</td>\n",
       "      <td>2020-12-07 15:20:18</td>\n",
       "      <td>3.0</td>\n",
       "    </tr>\n",
       "    <tr>\n",
       "      <th>900182</th>\n",
       "      <td>2021-04-21</td>\n",
       "      <td>16:14:16</td>\n",
       "      <td>regression/project</td>\n",
       "      <td>841</td>\n",
       "      <td>133.0</td>\n",
       "      <td>99.162.244.233</td>\n",
       "      <td>Easley</td>\n",
       "      <td>2020-12-07</td>\n",
       "      <td>2021-06-08</td>\n",
       "      <td>2020-12-07 15:20:18</td>\n",
       "      <td>2020-12-07 15:20:18</td>\n",
       "      <td>3.0</td>\n",
       "    </tr>\n",
       "    <tr>\n",
       "      <th>900183</th>\n",
       "      <td>2021-04-21</td>\n",
       "      <td>16:15:51</td>\n",
       "      <td>regression/project</td>\n",
       "      <td>841</td>\n",
       "      <td>133.0</td>\n",
       "      <td>99.162.244.233</td>\n",
       "      <td>Easley</td>\n",
       "      <td>2020-12-07</td>\n",
       "      <td>2021-06-08</td>\n",
       "      <td>2020-12-07 15:20:18</td>\n",
       "      <td>2020-12-07 15:20:18</td>\n",
       "      <td>3.0</td>\n",
       "    </tr>\n",
       "    <tr>\n",
       "      <th>900191</th>\n",
       "      <td>2021-04-21</td>\n",
       "      <td>16:23:57</td>\n",
       "      <td>clustering/project</td>\n",
       "      <td>841</td>\n",
       "      <td>133.0</td>\n",
       "      <td>99.162.244.233</td>\n",
       "      <td>Easley</td>\n",
       "      <td>2020-12-07</td>\n",
       "      <td>2021-06-08</td>\n",
       "      <td>2020-12-07 15:20:18</td>\n",
       "      <td>2020-12-07 15:20:18</td>\n",
       "      <td>3.0</td>\n",
       "    </tr>\n",
       "    <tr>\n",
       "      <th>900202</th>\n",
       "      <td>2021-04-21</td>\n",
       "      <td>16:32:50</td>\n",
       "      <td>clustering/project</td>\n",
       "      <td>841</td>\n",
       "      <td>133.0</td>\n",
       "      <td>99.162.244.233</td>\n",
       "      <td>Easley</td>\n",
       "      <td>2020-12-07</td>\n",
       "      <td>2021-06-08</td>\n",
       "      <td>2020-12-07 15:20:18</td>\n",
       "      <td>2020-12-07 15:20:18</td>\n",
       "      <td>3.0</td>\n",
       "    </tr>\n",
       "  </tbody>\n",
       "</table>\n",
       "<p>95054 rows × 12 columns</p>\n",
       "</div>"
      ],
      "text/plain": [
       "             date      time                                     path  user_id  \\\n",
       "326064 2019-08-20  09:40:28                   3-sql/1-mysql-overview      470   \n",
       "326067 2019-08-20  09:40:30                2-storytelling/bad-charts      467   \n",
       "326068 2019-08-20  09:40:30  2-storytelling/misleading1_baseball.jpg      467   \n",
       "326069 2019-08-20  09:40:30       2-storytelling/misleading1_fox.jpg      467   \n",
       "326070 2019-08-20  09:40:30    2-storytelling/misleading3_deaths.jpg      467   \n",
       "...           ...       ...                                      ...      ...   \n",
       "900152 2021-04-21  16:01:24                   classification/project      841   \n",
       "900182 2021-04-21  16:14:16                       regression/project      841   \n",
       "900183 2021-04-21  16:15:51                       regression/project      841   \n",
       "900191 2021-04-21  16:23:57                       clustering/project      841   \n",
       "900202 2021-04-21  16:32:50                       clustering/project      841   \n",
       "\n",
       "        cohort_id              ip    name start_date   end_date  \\\n",
       "326064       34.0    97.105.19.58   Bayes 2019-08-19 2020-01-30   \n",
       "326067       34.0    97.105.19.58   Bayes 2019-08-19 2020-01-30   \n",
       "326068       34.0    97.105.19.58   Bayes 2019-08-19 2020-01-30   \n",
       "326069       34.0    97.105.19.58   Bayes 2019-08-19 2020-01-30   \n",
       "326070       34.0    97.105.19.58   Bayes 2019-08-19 2020-01-30   \n",
       "...           ...             ...     ...        ...        ...   \n",
       "900152      133.0  99.162.244.233  Easley 2020-12-07 2021-06-08   \n",
       "900182      133.0  99.162.244.233  Easley 2020-12-07 2021-06-08   \n",
       "900183      133.0  99.162.244.233  Easley 2020-12-07 2021-06-08   \n",
       "900191      133.0  99.162.244.233  Easley 2020-12-07 2021-06-08   \n",
       "900202      133.0  99.162.244.233  Easley 2020-12-07 2021-06-08   \n",
       "\n",
       "                 created_at           updated_at  program_id  \n",
       "326064  2019-08-20 14:38:55  2019-08-20 14:38:55         3.0  \n",
       "326067  2019-08-20 14:38:55  2019-08-20 14:38:55         3.0  \n",
       "326068  2019-08-20 14:38:55  2019-08-20 14:38:55         3.0  \n",
       "326069  2019-08-20 14:38:55  2019-08-20 14:38:55         3.0  \n",
       "326070  2019-08-20 14:38:55  2019-08-20 14:38:55         3.0  \n",
       "...                     ...                  ...         ...  \n",
       "900152  2020-12-07 15:20:18  2020-12-07 15:20:18         3.0  \n",
       "900182  2020-12-07 15:20:18  2020-12-07 15:20:18         3.0  \n",
       "900183  2020-12-07 15:20:18  2020-12-07 15:20:18         3.0  \n",
       "900191  2020-12-07 15:20:18  2020-12-07 15:20:18         3.0  \n",
       "900202  2020-12-07 15:20:18  2020-12-07 15:20:18         3.0  \n",
       "\n",
       "[95054 rows x 12 columns]"
      ]
     },
     "execution_count": 76,
     "metadata": {},
     "output_type": "execute_result"
    }
   ],
   "source": [
    "ds_path = ds[ds.path != '/']\n",
    "ds_path"
   ]
  },
  {
   "cell_type": "code",
   "execution_count": 77,
   "id": "ae713861",
   "metadata": {},
   "outputs": [
    {
     "data": {
      "text/plain": [
       "Darden      29035\n",
       "Bayes       24571\n",
       "Curie       19870\n",
       "Easley      13600\n",
       "Florence     7978\n",
       "Name: name, dtype: int64"
      ]
     },
     "execution_count": 77,
     "metadata": {},
     "output_type": "execute_result"
    }
   ],
   "source": [
    "ds_path.name.value_counts()"
   ]
  },
  {
   "cell_type": "code",
   "execution_count": 78,
   "id": "c45e3ce8",
   "metadata": {},
   "outputs": [
    {
     "data": {
      "text/plain": [
       "326064                3-sql/1-mysql-overview\n",
       "445311                                 login\n",
       "597057        13-advanced-topics/1-tidy-data\n",
       "755221       python/data-types-and-variables\n",
       "847096    fundamentals/intro-to-data-science\n",
       "Name: path, dtype: object"
      ]
     },
     "execution_count": 78,
     "metadata": {},
     "output_type": "execute_result"
    }
   ],
   "source": [
    "ds_path.groupby('cohort_id').path.head(1) #.value_counts().plot.barh(figsize=[16,9])"
   ]
  },
  {
   "cell_type": "code",
   "execution_count": 79,
   "id": "a4e0d665",
   "metadata": {},
   "outputs": [
    {
     "data": {
      "text/plain": [
       "<AxesSubplot:>"
      ]
     },
     "execution_count": 79,
     "metadata": {},
     "output_type": "execute_result"
    },
    {
     "data": {
      "image/png": "[encoded data removed]",
      "text/plain": [
       "<Figure size 1152x648 with 1 Axes>"
      ]
     },
     "metadata": {
      "needs_background": "light"
     },
     "output_type": "display_data"
    }
   ],
   "source": [
    "wd.groupby('cohort_id').path.head(1).value_counts().plot.barh(figsize=[16,9])"
   ]
  },
  {
   "cell_type": "code",
   "execution_count": 80,
   "id": "d961b51e",
   "metadata": {},
   "outputs": [
    {
     "data": {
      "text/html": [
       "<div>\n",
       "<style scoped>\n",
       "    .dataframe tbody tr th:only-of-type {\n",
       "        vertical-align: middle;\n",
       "    }\n",
       "\n",
       "    .dataframe tbody tr th {\n",
       "        vertical-align: top;\n",
       "    }\n",
       "\n",
       "    .dataframe thead th {\n",
       "        text-align: right;\n",
       "    }\n",
       "</style>\n",
       "<table border=\"1\" class=\"dataframe\">\n",
       "  <thead>\n",
       "    <tr style=\"text-align: right;\">\n",
       "      <th></th>\n",
       "      <th>date</th>\n",
       "      <th>time</th>\n",
       "      <th>path</th>\n",
       "      <th>user_id</th>\n",
       "      <th>cohort_id</th>\n",
       "      <th>ip</th>\n",
       "      <th>name</th>\n",
       "      <th>start_date</th>\n",
       "      <th>end_date</th>\n",
       "      <th>created_at</th>\n",
       "      <th>updated_at</th>\n",
       "      <th>program_id</th>\n",
       "    </tr>\n",
       "  </thead>\n",
       "  <tbody>\n",
       "    <tr>\n",
       "      <th>1</th>\n",
       "      <td>2018-01-26</td>\n",
       "      <td>09:56:02</td>\n",
       "      <td>java-ii</td>\n",
       "      <td>1</td>\n",
       "      <td>8.0</td>\n",
       "      <td>97.105.19.61</td>\n",
       "      <td>Hampton</td>\n",
       "      <td>2015-09-22</td>\n",
       "      <td>2016-02-06</td>\n",
       "      <td>2016-06-14 19:52:26</td>\n",
       "      <td>2016-06-14 19:52:26</td>\n",
       "      <td>1.0</td>\n",
       "    </tr>\n",
       "    <tr>\n",
       "      <th>2</th>\n",
       "      <td>2018-01-26</td>\n",
       "      <td>09:56:05</td>\n",
       "      <td>java-ii/object-oriented-programming</td>\n",
       "      <td>1</td>\n",
       "      <td>8.0</td>\n",
       "      <td>97.105.19.61</td>\n",
       "      <td>Hampton</td>\n",
       "      <td>2015-09-22</td>\n",
       "      <td>2016-02-06</td>\n",
       "      <td>2016-06-14 19:52:26</td>\n",
       "      <td>2016-06-14 19:52:26</td>\n",
       "      <td>1.0</td>\n",
       "    </tr>\n",
       "    <tr>\n",
       "      <th>3</th>\n",
       "      <td>2018-01-26</td>\n",
       "      <td>09:56:06</td>\n",
       "      <td>slides/object_oriented_programming</td>\n",
       "      <td>1</td>\n",
       "      <td>8.0</td>\n",
       "      <td>97.105.19.61</td>\n",
       "      <td>Hampton</td>\n",
       "      <td>2015-09-22</td>\n",
       "      <td>2016-02-06</td>\n",
       "      <td>2016-06-14 19:52:26</td>\n",
       "      <td>2016-06-14 19:52:26</td>\n",
       "      <td>1.0</td>\n",
       "    </tr>\n",
       "    <tr>\n",
       "      <th>4</th>\n",
       "      <td>2018-01-26</td>\n",
       "      <td>09:56:24</td>\n",
       "      <td>javascript-i/conditionals</td>\n",
       "      <td>2</td>\n",
       "      <td>22.0</td>\n",
       "      <td>97.105.19.61</td>\n",
       "      <td>Teddy</td>\n",
       "      <td>2018-01-08</td>\n",
       "      <td>2018-05-17</td>\n",
       "      <td>2018-01-08 13:59:10</td>\n",
       "      <td>2018-01-08 13:59:10</td>\n",
       "      <td>2.0</td>\n",
       "    </tr>\n",
       "    <tr>\n",
       "      <th>5</th>\n",
       "      <td>2018-01-26</td>\n",
       "      <td>09:56:41</td>\n",
       "      <td>javascript-i/loops</td>\n",
       "      <td>2</td>\n",
       "      <td>22.0</td>\n",
       "      <td>97.105.19.61</td>\n",
       "      <td>Teddy</td>\n",
       "      <td>2018-01-08</td>\n",
       "      <td>2018-05-17</td>\n",
       "      <td>2018-01-08 13:59:10</td>\n",
       "      <td>2018-01-08 13:59:10</td>\n",
       "      <td>2.0</td>\n",
       "    </tr>\n",
       "    <tr>\n",
       "      <th>...</th>\n",
       "      <td>...</td>\n",
       "      <td>...</td>\n",
       "      <td>...</td>\n",
       "      <td>...</td>\n",
       "      <td>...</td>\n",
       "      <td>...</td>\n",
       "      <td>...</td>\n",
       "      <td>...</td>\n",
       "      <td>...</td>\n",
       "      <td>...</td>\n",
       "      <td>...</td>\n",
       "      <td>...</td>\n",
       "    </tr>\n",
       "    <tr>\n",
       "      <th>900210</th>\n",
       "      <td>2021-04-21</td>\n",
       "      <td>16:36:09</td>\n",
       "      <td>jquery/personal-site</td>\n",
       "      <td>869</td>\n",
       "      <td>135.0</td>\n",
       "      <td>136.50.98.51</td>\n",
       "      <td>Marco</td>\n",
       "      <td>2021-01-25</td>\n",
       "      <td>2021-07-19</td>\n",
       "      <td>2021-01-20 21:31:11</td>\n",
       "      <td>2021-01-20 21:31:11</td>\n",
       "      <td>2.0</td>\n",
       "    </tr>\n",
       "    <tr>\n",
       "      <th>900211</th>\n",
       "      <td>2021-04-21</td>\n",
       "      <td>16:36:34</td>\n",
       "      <td>html-css/css-ii/bootstrap-grid-system</td>\n",
       "      <td>948</td>\n",
       "      <td>138.0</td>\n",
       "      <td>104.48.214.211</td>\n",
       "      <td>Neptune</td>\n",
       "      <td>2021-03-15</td>\n",
       "      <td>2021-09-03</td>\n",
       "      <td>2021-03-15 19:57:09</td>\n",
       "      <td>2021-03-15 19:57:09</td>\n",
       "      <td>2.0</td>\n",
       "    </tr>\n",
       "    <tr>\n",
       "      <th>900212</th>\n",
       "      <td>2021-04-21</td>\n",
       "      <td>16:37:48</td>\n",
       "      <td>java-iii</td>\n",
       "      <td>834</td>\n",
       "      <td>134.0</td>\n",
       "      <td>67.11.50.23</td>\n",
       "      <td>Luna</td>\n",
       "      <td>2020-12-07</td>\n",
       "      <td>2021-06-08</td>\n",
       "      <td>2020-12-07 16:58:43</td>\n",
       "      <td>2020-12-07 16:58:43</td>\n",
       "      <td>2.0</td>\n",
       "    </tr>\n",
       "    <tr>\n",
       "      <th>900213</th>\n",
       "      <td>2021-04-21</td>\n",
       "      <td>16:38:14</td>\n",
       "      <td>java-iii/servlets</td>\n",
       "      <td>834</td>\n",
       "      <td>134.0</td>\n",
       "      <td>67.11.50.23</td>\n",
       "      <td>Luna</td>\n",
       "      <td>2020-12-07</td>\n",
       "      <td>2021-06-08</td>\n",
       "      <td>2020-12-07 16:58:43</td>\n",
       "      <td>2020-12-07 16:58:43</td>\n",
       "      <td>2.0</td>\n",
       "    </tr>\n",
       "    <tr>\n",
       "      <th>900217</th>\n",
       "      <td>2021-04-21</td>\n",
       "      <td>16:41:51</td>\n",
       "      <td>javascript-i/bom-and-dom/dom</td>\n",
       "      <td>875</td>\n",
       "      <td>135.0</td>\n",
       "      <td>24.242.150.231</td>\n",
       "      <td>Marco</td>\n",
       "      <td>2021-01-25</td>\n",
       "      <td>2021-07-19</td>\n",
       "      <td>2021-01-20 21:31:11</td>\n",
       "      <td>2021-01-20 21:31:11</td>\n",
       "      <td>2.0</td>\n",
       "    </tr>\n",
       "  </tbody>\n",
       "</table>\n",
       "<p>677165 rows × 12 columns</p>\n",
       "</div>"
      ],
      "text/plain": [
       "             date      time                                   path  user_id  \\\n",
       "1      2018-01-26  09:56:02                                java-ii        1   \n",
       "2      2018-01-26  09:56:05    java-ii/object-oriented-programming        1   \n",
       "3      2018-01-26  09:56:06     slides/object_oriented_programming        1   \n",
       "4      2018-01-26  09:56:24              javascript-i/conditionals        2   \n",
       "5      2018-01-26  09:56:41                     javascript-i/loops        2   \n",
       "...           ...       ...                                    ...      ...   \n",
       "900210 2021-04-21  16:36:09                   jquery/personal-site      869   \n",
       "900211 2021-04-21  16:36:34  html-css/css-ii/bootstrap-grid-system      948   \n",
       "900212 2021-04-21  16:37:48                               java-iii      834   \n",
       "900213 2021-04-21  16:38:14                      java-iii/servlets      834   \n",
       "900217 2021-04-21  16:41:51           javascript-i/bom-and-dom/dom      875   \n",
       "\n",
       "        cohort_id              ip     name start_date   end_date  \\\n",
       "1             8.0    97.105.19.61  Hampton 2015-09-22 2016-02-06   \n",
       "2             8.0    97.105.19.61  Hampton 2015-09-22 2016-02-06   \n",
       "3             8.0    97.105.19.61  Hampton 2015-09-22 2016-02-06   \n",
       "4            22.0    97.105.19.61    Teddy 2018-01-08 2018-05-17   \n",
       "5            22.0    97.105.19.61    Teddy 2018-01-08 2018-05-17   \n",
       "...           ...             ...      ...        ...        ...   \n",
       "900210      135.0    136.50.98.51    Marco 2021-01-25 2021-07-19   \n",
       "900211      138.0  104.48.214.211  Neptune 2021-03-15 2021-09-03   \n",
       "900212      134.0     67.11.50.23     Luna 2020-12-07 2021-06-08   \n",
       "900213      134.0     67.11.50.23     Luna 2020-12-07 2021-06-08   \n",
       "900217      135.0  24.242.150.231    Marco 2021-01-25 2021-07-19   \n",
       "\n",
       "                 created_at           updated_at  program_id  \n",
       "1       2016-06-14 19:52:26  2016-06-14 19:52:26         1.0  \n",
       "2       2016-06-14 19:52:26  2016-06-14 19:52:26         1.0  \n",
       "3       2016-06-14 19:52:26  2016-06-14 19:52:26         1.0  \n",
       "4       2018-01-08 13:59:10  2018-01-08 13:59:10         2.0  \n",
       "5       2018-01-08 13:59:10  2018-01-08 13:59:10         2.0  \n",
       "...                     ...                  ...         ...  \n",
       "900210  2021-01-20 21:31:11  2021-01-20 21:31:11         2.0  \n",
       "900211  2021-03-15 19:57:09  2021-03-15 19:57:09         2.0  \n",
       "900212  2020-12-07 16:58:43  2020-12-07 16:58:43         2.0  \n",
       "900213  2020-12-07 16:58:43  2020-12-07 16:58:43         2.0  \n",
       "900217  2021-01-20 21:31:11  2021-01-20 21:31:11         2.0  \n",
       "\n",
       "[677165 rows x 12 columns]"
      ]
     },
     "execution_count": 80,
     "metadata": {},
     "output_type": "execute_result"
    }
   ],
   "source": [
    "wd_path = wd[wd.path != '/']\n",
    "wd_path"
   ]
  },
  {
   "cell_type": "code",
   "execution_count": 349,
   "id": "4b0d8f8f",
   "metadata": {},
   "outputs": [
    {
     "data": {
      "text/plain": [
       "toc                         17375\n",
       "javascript-i                17156\n",
       "search/search_index.json    15967\n",
       "java-iii                    12336\n",
       "html-css                    12335\n",
       "java-ii                     11421\n",
       "spring                      11115\n",
       "jquery                      10604\n",
       "mysql                       10129\n",
       "java-i                      10003\n",
       "Name: path, dtype: int64"
      ]
     },
     "execution_count": 349,
     "metadata": {},
     "output_type": "execute_result"
    }
   ],
   "source": [
    "wd_path.path.value_counts().head(10)"
   ]
  },
  {
   "cell_type": "code",
   "execution_count": 350,
   "id": "626a8f84",
   "metadata": {},
   "outputs": [
    {
     "data": {
      "text/plain": [
       "<AxesSubplot:>"
      ]
     },
     "execution_count": 350,
     "metadata": {},
     "output_type": "execute_result"
    },
    {
     "data": {
      "image/png": "[encoded data removed]",
      "text/plain": [
       "<Figure size 1152x648 with 1 Axes>"
      ]
     },
     "metadata": {
      "needs_background": "light"
     },
     "output_type": "display_data"
    }
   ],
   "source": [
    "wd_path.path.value_counts().head(10).plot.barh(figsize=[16,9])"
   ]
  },
  {
   "cell_type": "code",
   "execution_count": 81,
   "id": "863cceba",
   "metadata": {},
   "outputs": [
    {
     "data": {
      "text/plain": [
       "<AxesSubplot:>"
      ]
     },
     "execution_count": 81,
     "metadata": {},
     "output_type": "execute_result"
    },
    {
     "data": {
      "image/png": "[encoded data removed]",
      "text/plain": [
       "<Figure size 1152x648 with 1 Axes>"
      ]
     },
     "metadata": {
      "needs_background": "light"
     },
     "output_type": "display_data"
    }
   ],
   "source": [
    "wd_path.groupby('cohort_id').path.value_counts().plot.barh(figsize=[16,9])"
   ]
  },
  {
   "cell_type": "markdown",
   "id": "bfd43cb3",
   "metadata": {},
   "source": [
    "- Web Dev students access html-css and javascript-i most across all cohorts.\n",
    "\n",
    "- Data Science students access fundamentals/intro-to-data-science and python/data-types-and-variables most across all cohorts."
   ]
  },
  {
   "cell_type": "markdown",
   "id": "94cc219b",
   "metadata": {},
   "source": [
    "## Which lessons do students access most after graduation?"
   ]
  },
  {
   "cell_type": "code",
   "execution_count": 84,
   "id": "a6b085f4",
   "metadata": {},
   "outputs": [
    {
     "data": {
      "text/plain": [
       "/                                     13643\n",
       "search/search_index.json               4810\n",
       "javascript-i                           3928\n",
       "spring                                 3500\n",
       "html-css                               2902\n",
       "                                      ...  \n",
       "6-regression/2-intro-to-regression        1\n",
       "5-stats/1-descriptive-stats               1\n",
       "interview                                 1\n",
       "interview-questions                       1\n",
       "content/control-structures-ii             1\n",
       "Name: path, Length: 1736, dtype: int64"
      ]
     },
     "execution_count": 84,
     "metadata": {},
     "output_type": "execute_result"
    }
   ],
   "source": [
    "# all cohorts\n",
    "df.path[df.date > df.end_date].value_counts()"
   ]
  },
  {
   "cell_type": "code",
   "execution_count": 85,
   "id": "ee65378a",
   "metadata": {},
   "outputs": [
    {
     "data": {
      "text/plain": [
       "/                                           1436\n",
       "search/search_index.json                     493\n",
       "sql/mysql-overview                           275\n",
       "classification/overview                      266\n",
       "classification/scale_features_or_not.svg     219\n",
       "                                            ... \n",
       "DataToAction_v2.jpg                            1\n",
       "advanced-topics/tidy-data                      1\n",
       "10-anomaly-detection/isolation-forests         1\n",
       "cli/moving-files                               1\n",
       "individual-project/individual-project          1\n",
       "Name: path, Length: 437, dtype: int64"
      ]
     },
     "execution_count": 85,
     "metadata": {},
     "output_type": "execute_result"
    }
   ],
   "source": [
    "# data science cohorts\n",
    "ds.path[ds.date > ds.end_date].value_counts()"
   ]
  },
  {
   "cell_type": "code",
   "execution_count": 353,
   "id": "8cd10211",
   "metadata": {},
   "outputs": [
    {
     "data": {
      "text/plain": [
       "/                                           6912\n",
       "search/search_index.json                    1710\n",
       "1-fundamentals/modern-data-scientist.jpg    1527\n",
       "1-fundamentals/AI-ML-DL-timeline.jpg        1524\n",
       "classification/overview                     1518\n",
       "1-fundamentals/1.1-intro-to-data-science    1506\n",
       "classification/scale_features_or_not.svg    1370\n",
       "fundamentals/AI-ML-DL-timeline.jpg          1254\n",
       "fundamentals/modern-data-scientist.jpg      1251\n",
       "fundamentals/intro-to-data-science          1229\n",
       "Name: path, dtype: int64"
      ]
     },
     "execution_count": 353,
     "metadata": {},
     "output_type": "execute_result"
    }
   ],
   "source": [
    "ds.path[ds.date < ds.end_date].value_counts().head(10)"
   ]
  },
  {
   "cell_type": "code",
   "execution_count": 86,
   "id": "625e0f0f",
   "metadata": {},
   "outputs": [],
   "source": [
    "wd.date = pd.to_datetime(wd.date)"
   ]
  },
  {
   "cell_type": "code",
   "execution_count": 87,
   "id": "ddfc6f33",
   "metadata": {},
   "outputs": [],
   "source": [
    "wd.end_date = pd.to_datetime(wd.end_date)"
   ]
  },
  {
   "cell_type": "code",
   "execution_count": 88,
   "id": "e66669a1",
   "metadata": {},
   "outputs": [
    {
     "data": {
      "text/plain": [
       "/                           12207\n",
       "search/search_index.json     4317\n",
       "javascript-i                 3928\n",
       "spring                       3499\n",
       "html-css                     2902\n",
       "java-iii                     2711\n",
       "java-ii                      2687\n",
       "java-i                       2666\n",
       "javascript-ii                2421\n",
       "toc                          2359\n",
       "Name: path, dtype: int64"
      ]
     },
     "execution_count": 88,
     "metadata": {},
     "output_type": "execute_result"
    }
   ],
   "source": [
    "# web dev cohorts\n",
    "wd.path[wd.date > wd.end_date].value_counts().head(10)"
   ]
  },
  {
   "cell_type": "code",
   "execution_count": 98,
   "id": "9d009537",
   "metadata": {},
   "outputs": [],
   "source": [
    "ds_series = ds.groupby('name').path.value_counts()"
   ]
  },
  {
   "cell_type": "markdown",
   "id": "bee6ed22",
   "metadata": {},
   "source": [
    "Darden      32015\n",
    "Bayes       26538\n",
    "Curie       21582\n",
    "Easley      14715\n",
    "Florence     8562"
   ]
  },
  {
   "cell_type": "code",
   "execution_count": 106,
   "id": "f5e3d1a2",
   "metadata": {},
   "outputs": [
    {
     "data": {
      "text/plain": [
       "path\n",
       "/                                           2980\n",
       "classification/overview                     1109\n",
       "classification/scale_features_or_not.svg     943\n",
       "sql/mysql-overview                           774\n",
       "search/search_index.json                     664\n",
       "                                            ... \n",
       "regression/least-angle-regression              1\n",
       "regression/model_old                           1\n",
       "regression/old_project                         1\n",
       "regression/project/null                        1\n",
       "scale_features_or_not.svg                      1\n",
       "Name: path, Length: 420, dtype: int64"
      ]
     },
     "execution_count": 106,
     "metadata": {},
     "output_type": "execute_result"
    }
   ],
   "source": [
    "ds_series.Darden"
   ]
  },
  {
   "cell_type": "code",
   "execution_count": 107,
   "id": "2b798ddb",
   "metadata": {},
   "outputs": [
    {
     "data": {
      "text/plain": [
       "path\n",
       "/                                           1967\n",
       "1-fundamentals/modern-data-scientist.jpg     650\n",
       "1-fundamentals/AI-ML-DL-timeline.jpg         648\n",
       "1-fundamentals/1.1-intro-to-data-science     640\n",
       "search/search_index.json                     588\n",
       "                                            ... \n",
       "storytelling/refine                            1\n",
       "storytelling/tableau                           1\n",
       "tidy-data                                      1\n",
       "timeseries/svr                                 1\n",
       "viz.py                                         1\n",
       "Name: path, Length: 533, dtype: int64"
      ]
     },
     "execution_count": 107,
     "metadata": {},
     "output_type": "execute_result"
    }
   ],
   "source": [
    "ds_series.Bayes"
   ]
  },
  {
   "cell_type": "code",
   "execution_count": 109,
   "id": "6679094f",
   "metadata": {},
   "outputs": [
    {
     "data": {
      "text/plain": [
       "path\n",
       "/                                           1712\n",
       "6-regression/1-overview                      595\n",
       "search/search_index.json                     538\n",
       "1-fundamentals/modern-data-scientist.jpg     467\n",
       "1-fundamentals/AI-ML-DL-timeline.jpg         465\n",
       "                                            ... \n",
       "storytelling/present                           1\n",
       "storytelling/refine                            1\n",
       "storytelling/tableau                           1\n",
       "storytelling/understand                        1\n",
       "timeseries/svr                                 1\n",
       "Name: path, Length: 419, dtype: int64"
      ]
     },
     "execution_count": 109,
     "metadata": {},
     "output_type": "execute_result"
    }
   ],
   "source": [
    "ds_series.Curie"
   ]
  },
  {
   "cell_type": "code",
   "execution_count": 110,
   "id": "fca557fe",
   "metadata": {},
   "outputs": [
    {
     "data": {
      "text/plain": [
       "path\n",
       "/                                                                1115\n",
       "classification/scale_features_or_not.svg                          463\n",
       "classification/overview                                           445\n",
       "classification/classical_programming_vs_machine_learning.jpeg     432\n",
       "fundamentals/AI-ML-DL-timeline.jpg                                381\n",
       "                                                                 ... \n",
       "regression/model_old                                                1\n",
       "stats/power-analysis                                                1\n",
       "stats/sampling                                                      1\n",
       "understand                                                          1\n",
       "vocabulary                                                          1\n",
       "Name: path, Length: 230, dtype: int64"
      ]
     },
     "execution_count": 110,
     "metadata": {},
     "output_type": "execute_result"
    }
   ],
   "source": [
    "ds_series.Easley"
   ]
  },
  {
   "cell_type": "code",
   "execution_count": 111,
   "id": "bbebd40f",
   "metadata": {},
   "outputs": [
    {
     "data": {
      "text/plain": [
       "path\n",
       "fundamentals/modern-data-scientist.jpg    627\n",
       "fundamentals/AI-ML-DL-timeline.jpg        624\n",
       "fundamentals/intro-to-data-science        615\n",
       "/                                         584\n",
       "python/data-types-and-variables           258\n",
       "                                         ... \n",
       "stats/simulation                            1\n",
       "storytelling/creating-charts                1\n",
       "storytelling/overview                       1\n",
       "timeseries/modeling-lesson2                 1\n",
       "where                                       1\n",
       "Name: path, Length: 162, dtype: int64"
      ]
     },
     "execution_count": 111,
     "metadata": {},
     "output_type": "execute_result"
    }
   ],
   "source": [
    "ds_series.Florence"
   ]
  },
  {
   "cell_type": "code",
   "execution_count": 181,
   "id": "feb5d9dd",
   "metadata": {},
   "outputs": [
    {
     "data": {
      "text/plain": [
       "41"
      ]
     },
     "execution_count": 181,
     "metadata": {},
     "output_type": "execute_result"
    }
   ],
   "source": [
    "wd.name.value_counts().nunique()"
   ]
  },
  {
   "cell_type": "code",
   "execution_count": 164,
   "id": "24ccefdc",
   "metadata": {},
   "outputs": [],
   "source": [
    "wd = wd[wd.path!='/']"
   ]
  },
  {
   "cell_type": "code",
   "execution_count": 172,
   "id": "abd7c5c3",
   "metadata": {},
   "outputs": [],
   "source": [
    "wd = wd[wd.path!='search/search_index.json']"
   ]
  },
  {
   "cell_type": "code",
   "execution_count": 176,
   "id": "89115718",
   "metadata": {},
   "outputs": [],
   "source": [
    "wd = wd[wd.path!='toc']"
   ]
  },
  {
   "cell_type": "code",
   "execution_count": 177,
   "id": "d37e6720",
   "metadata": {},
   "outputs": [],
   "source": [
    "wd_series = wd.groupby('name').path.value_counts()"
   ]
  },
  {
   "cell_type": "code",
   "execution_count": 178,
   "id": "7c3f6c3e",
   "metadata": {},
   "outputs": [
    {
     "data": {
      "text/plain": [
       "path\n",
       "javascript-i                 897\n",
       "java-iii                     753\n",
       "html-css                     675\n",
       "spring                       672\n",
       "javascript-ii                647\n",
       "                            ... \n",
       "uploads/598dc43df39e2.jpg      1\n",
       "web-design/intro               1\n",
       "web-design/ui/visuals          1\n",
       "web-design/ux/layout           1\n",
       "web-design/ux/purpose          1\n",
       "Name: path, Length: 314, dtype: int64"
      ]
     },
     "execution_count": 178,
     "metadata": {},
     "output_type": "execute_result"
    }
   ],
   "source": [
    "wd_series['Zion']"
   ]
  },
  {
   "cell_type": "code",
   "execution_count": 194,
   "id": "91b6f587",
   "metadata": {},
   "outputs": [
    {
     "data": {
      "text/plain": [
       "name        path                    \n",
       "Ceres       javascript-i                1003\n",
       "Jupiter     javascript-i                 926\n",
       "Hyperion    javascript-i                 910\n",
       "Marco       javascript-i                 907\n",
       "Zion        javascript-i                 897\n",
       "Deimos      javascript-i                 896\n",
       "Voyageurs   javascript-i                 884\n",
       "Lassen      index.html                   877\n",
       "Jupiter     java-iii                     795\n",
       "Fortuna     java-iii                     786\n",
       "            javascript-i                 785\n",
       "Jupiter     html-css                     784\n",
       "0           javascript-i                 780\n",
       "Deimos      html-css                     773\n",
       "Voyageurs   java-iii                     770\n",
       "Ceres       html-css                     766\n",
       "Ganymede    javascript-i                 760\n",
       "Voyageurs   java-ii                      756\n",
       "Jupiter     java-ii                      755\n",
       "Zion        java-iii                     753\n",
       "Teddy       spring                       744\n",
       "Apex        html-css                     738\n",
       "Teddy       java-iii                     732\n",
       "Xanadu      javascript-i                 722\n",
       "Ulysses     mkdocs/search_index.json     721\n",
       "Betelgeuse  javascript-i                 717\n",
       "Hyperion    java-iii                     701\n",
       "            java-ii                      688\n",
       "Ceres       java-iii                     682\n",
       "            java-ii                      681\n",
       "Luna        javascript-i                 676\n",
       "Zion        html-css                     675\n",
       "            spring                       672\n",
       "Apex        javascript-i                 669\n",
       "            java-ii                      666\n",
       "            java-iii                     663\n",
       "Voyageurs   mysql                        663\n",
       "Fortuna     java-ii                      657\n",
       "Ganymede    java-iii                     651\n",
       "Voyageurs   spring                       650\n",
       "Zion        javascript-ii                647\n",
       "Voyageurs   java-i                       641\n",
       "Ganymede    java-ii                      641\n",
       "0           spring                       641\n",
       "Teddy       mysql                        638\n",
       "Ceres       jquery                       637\n",
       "Fortuna     spring                       636\n",
       "Kalypso     javascript-i                 631\n",
       "Zion        java-ii                      624\n",
       "Ceres       mysql                        622\n",
       "Name: path, dtype: int64"
      ]
     },
     "execution_count": 194,
     "metadata": {},
     "output_type": "execute_result"
    }
   ],
   "source": [
    "wd_series.sort_values(ascending=False).head(50)"
   ]
  },
  {
   "cell_type": "code",
   "execution_count": 199,
   "id": "0d37d22b",
   "metadata": {},
   "outputs": [
    {
     "data": {
      "text/plain": [
       "Teddy         744\n",
       "Zion          672\n",
       "Voyageurs     650\n",
       "0             641\n",
       "Fortuna       636\n",
       "Jupiter       621\n",
       "Apex          600\n",
       "Ceres         562\n",
       "Deimos        533\n",
       "Hyperion      526\n",
       "Ganymede      508\n",
       "Andromeda     487\n",
       "Xanadu        454\n",
       "Ulysses       409\n",
       "Yosemite      381\n",
       "Sequoia       364\n",
       "Kalypso       339\n",
       "Europa        324\n",
       "Bash          311\n",
       "Betelgeuse    299\n",
       "Wrangell      293\n",
       "Lassen        222\n",
       "Arches        192\n",
       "Luna           74\n",
       "Niagara        65\n",
       "Pinnacles      56\n",
       "Marco          43\n",
       "Hampton        43\n",
       "Olympic        24\n",
       "Mammoth        12\n",
       "Quincy          8\n",
       "Neptune         8\n",
       "Ike             5\n",
       "Kings           3\n",
       "Franklin        2\n",
       "Glacier         2\n",
       "Oberon          2\n",
       "Name: name, dtype: int64"
      ]
     },
     "execution_count": 199,
     "metadata": {},
     "output_type": "execute_result"
    }
   ],
   "source": [
    "wd[wd.path=='spring']['name'].value_counts()"
   ]
  },
  {
   "cell_type": "code",
   "execution_count": 200,
   "id": "fb20a92c",
   "metadata": {},
   "outputs": [
    {
     "data": {
      "text/plain": [
       "Voyageurs     663\n",
       "Teddy         638\n",
       "Ceres         622\n",
       "Zion          605\n",
       "Fortuna       591\n",
       "Jupiter       564\n",
       "Hyperion      553\n",
       "Deimos        517\n",
       "Xanadu        509\n",
       "Ganymede      502\n",
       "Apex          483\n",
       "0             422\n",
       "Kalypso       378\n",
       "Europa        372\n",
       "Ulysses       367\n",
       "Andromeda     355\n",
       "Betelgeuse    353\n",
       "Yosemite      331\n",
       "Wrangell      309\n",
       "Bash          254\n",
       "Luna          201\n",
       "Sequoia       125\n",
       "Lassen        105\n",
       "Arches         95\n",
       "Marco          42\n",
       "Pinnacles      39\n",
       "Olympic        32\n",
       "Hampton        30\n",
       "Niagara        24\n",
       "Neptune        18\n",
       "Quincy          9\n",
       "Mammoth         8\n",
       "Kings           5\n",
       "Ike             4\n",
       "Franklin        2\n",
       "Glacier         2\n",
       "Name: name, dtype: int64"
      ]
     },
     "execution_count": 200,
     "metadata": {},
     "output_type": "execute_result"
    }
   ],
   "source": [
    "wd[wd.path=='mysql']['name'].value_counts()"
   ]
  },
  {
   "cell_type": "code",
   "execution_count": 201,
   "id": "30c78cc2",
   "metadata": {},
   "outputs": [
    {
     "data": {
      "text/plain": [
       "Ceres         1003\n",
       "Jupiter        926\n",
       "Hyperion       910\n",
       "Marco          907\n",
       "Zion           897\n",
       "Deimos         896\n",
       "Voyageurs      884\n",
       "Fortuna        785\n",
       "0              780\n",
       "Ganymede       760\n",
       "Xanadu         722\n",
       "Betelgeuse     717\n",
       "Luna           676\n",
       "Apex           669\n",
       "Kalypso        631\n",
       "Teddy          615\n",
       "Wrangell       560\n",
       "Ulysses        526\n",
       "Andromeda      516\n",
       "Europa         506\n",
       "Yosemite       452\n",
       "Bash           374\n",
       "Arches         294\n",
       "Neptune        272\n",
       "Lassen         233\n",
       "Sequoia        202\n",
       "Oberon         136\n",
       "Olympic        128\n",
       "Pinnacles       69\n",
       "Hampton         36\n",
       "Niagara         23\n",
       "Kings           17\n",
       "Glacier         11\n",
       "Ike              7\n",
       "Quincy           6\n",
       "Mammoth          6\n",
       "Franklin         2\n",
       "Joshua           1\n",
       "Badlands         1\n",
       "Name: name, dtype: int64"
      ]
     },
     "execution_count": 201,
     "metadata": {},
     "output_type": "execute_result"
    }
   ],
   "source": [
    "wd[wd.path=='javascript-i']['name'].value_counts()"
   ]
  },
  {
   "cell_type": "code",
   "execution_count": 206,
   "id": "914b9a3d",
   "metadata": {},
   "outputs": [
    {
     "data": {
      "text/plain": [
       "content/php_ii/command-line                                                     6\n",
       "content/php_ii/command-line/io-streams.html                                     5\n",
       "content/php_i                                                                   5\n",
       "content/php_ii/control-structures-i                                             5\n",
       "content/php_ii                                                                  4\n",
       "content/php_i/intro-via-interactive-shell                                       3\n",
       "prework/fundamentals                                                            2\n",
       "javascript-ii/promises                                                          2\n",
       "javascript-ii/map-filter-reduce                                                 2\n",
       "html-css                                                                        2\n",
       "content/php_i/intro-to-operators                                                2\n",
       "content/php_i/types-and-variables-ii/intro-to-strings-continued.html            2\n",
       "content/php_i/types-and-variables-i                                             2\n",
       "content/php_ii/command-line/passing-arguments.html                              2\n",
       "content/php_i/intro-via-interactive-shell/hello-world-and-other-strings.html    2\n",
       "content/laravel/intro                                                           2\n",
       "javascript-i                                                                    1\n",
       "content/php_ii/using-files/writing-to-files.html                                1\n",
       "html-css/introduction                                                           1\n",
       "prework/fundamentals/if-statement                                               1\n",
       "javascript-ii/es6                                                               1\n",
       "prework/fundamentals/loop                                                       1\n",
       "prework/fundamentals/function                                                   1\n",
       "content/mysql/clauses/group-by.html                                             1\n",
       "content/mysql/clauses                                                           1\n",
       "content/mysql/sample-database/setting-up-sample-db.html                         1\n",
       "content/mysql/intro-to-mysql                                                    1\n",
       "content/html-css/introduction.html                                              1\n",
       "content/html-css                                                                1\n",
       "content/php_ii/functions-i/definition-and-syntax.html                           1\n",
       "java-i                                                                          1\n",
       "content/php_ii/control-structures-ii/foreach-with-keys.html                     1\n",
       "content/php_ii/control-structures-ii                                            1\n",
       "content/git                                                                     1\n",
       "content/git/gitbook/images/favicon.ico                                          1\n",
       "content/git/creating-a-repository.html                                          1\n",
       "content/php_i/intro-via-interactive-shell/exiting-the-shell.html                1\n",
       "prework/fundamentals/variable                                                   1\n",
       "content/php_ii/control-structures-i/while.html                                  1\n",
       "content/git/initializing-a-repository.html                                      1\n",
       "content/git/adding-files.html                                                   1\n",
       "html-css/elements                                                               1\n",
       "Name: path, dtype: int64"
      ]
     },
     "execution_count": 206,
     "metadata": {},
     "output_type": "execute_result"
    }
   ],
   "source": [
    "wd[wd.name=='Badlands'].path.value_counts()"
   ]
  },
  {
   "cell_type": "code",
   "execution_count": 210,
   "id": "c6e8b321",
   "metadata": {},
   "outputs": [
    {
     "data": {
      "text/plain": [
       "Ganymede      561\n",
       "Teddy         505\n",
       "Apex          450\n",
       "Jupiter       421\n",
       "Ceres         411\n",
       "Hyperion      400\n",
       "Voyageurs     394\n",
       "Fortuna       356\n",
       "Deimos        343\n",
       "Xanadu        325\n",
       "Zion          296\n",
       "0             245\n",
       "Europa        243\n",
       "Wrangell      209\n",
       "Betelgeuse    188\n",
       "Kalypso       180\n",
       "Ulysses       176\n",
       "Bash          174\n",
       "Lassen        170\n",
       "Sequoia       170\n",
       "Andromeda     161\n",
       "Yosemite      144\n",
       "Arches        133\n",
       "Luna           92\n",
       "Marco          82\n",
       "Hampton        55\n",
       "Olympic        36\n",
       "Pinnacles      25\n",
       "Niagara        20\n",
       "Neptune        15\n",
       "Oberon         10\n",
       "Mammoth         9\n",
       "Quincy          6\n",
       "Bayes           5\n",
       "Ike             4\n",
       "Kings           3\n",
       "Franklin        1\n",
       "Glacier         1\n",
       "Darden          1\n",
       "Name: name, dtype: int64"
      ]
     },
     "execution_count": 210,
     "metadata": {},
     "output_type": "execute_result"
    }
   ],
   "source": [
    "df[df.path=='appendix'].name.value_counts()"
   ]
  },
  {
   "cell_type": "code",
   "execution_count": 218,
   "id": "5345935b",
   "metadata": {},
   "outputs": [
    {
     "data": {
      "text/plain": [
       "False    99431\n",
       "True      3980\n",
       "Name: path, dtype: int64"
      ]
     },
     "execution_count": 218,
     "metadata": {},
     "output_type": "execute_result"
    }
   ],
   "source": [
    "# ds students don't access the appendix?\n",
    "ds.path.str.contains('appendix').value_counts()"
   ]
  },
  {
   "cell_type": "code",
   "execution_count": 220,
   "id": "8f8ae6ac",
   "metadata": {},
   "outputs": [
    {
     "data": {
      "text/plain": [
       "/                                                                1436\n",
       "search/search_index.json                                          493\n",
       "sql/mysql-overview                                                275\n",
       "classification/overview                                           266\n",
       "classification/scale_features_or_not.svg                          219\n",
       "anomaly-detection/AnomalyDetectionCartoon.jpeg                    193\n",
       "anomaly-detection/overview                                        191\n",
       "fundamentals/AI-ML-DL-timeline.jpg                                189\n",
       "fundamentals/modern-data-scientist.jpg                            187\n",
       "fundamentals/intro-to-data-science                                184\n",
       "1-fundamentals/modern-data-scientist.jpg                          127\n",
       "1-fundamentals/AI-ML-DL-timeline.jpg                              126\n",
       "1-fundamentals/1.1-intro-to-data-science                          126\n",
       "6-regression/1-overview                                            86\n",
       "sql/database-design                                                84\n",
       "classification/classical_programming_vs_machine_learning.jpeg      80\n",
       "classification/prep                                                77\n",
       "fundamentals/environment-setup                                     76\n",
       "stats/compare-means                                                73\n",
       "nlp/acquire                                                        72\n",
       "Name: path, dtype: int64"
      ]
     },
     "execution_count": 220,
     "metadata": {},
     "output_type": "execute_result"
    }
   ],
   "source": [
    "ds.path[ds.date > ds.end_date].value_counts().head(20)"
   ]
  },
  {
   "cell_type": "code",
   "execution_count": 223,
   "id": "08bc6de2",
   "metadata": {},
   "outputs": [
    {
     "data": {
      "text/plain": [
       "javascript-i                         3928\n",
       "spring                               3499\n",
       "html-css                             2902\n",
       "java-iii                             2711\n",
       "java-ii                              2687\n",
       "java-i                               2666\n",
       "javascript-ii                        2421\n",
       "mysql                                2101\n",
       "jquery                               2031\n",
       "appendix                             2028\n",
       "spring/fundamentals/controllers      1559\n",
       "spring/setup                         1486\n",
       "spring/fundamentals/views            1460\n",
       "spring/fundamentals/repositories     1386\n",
       "html-css/elements                    1285\n",
       "index.html                           1167\n",
       "html-css/introduction                1101\n",
       "java-i/introduction-to-java          1083\n",
       "javascript-i/javascript-with-html    1076\n",
       "java-i/syntax-types-and-variables    1075\n",
       "Name: path, dtype: int64"
      ]
     },
     "execution_count": 223,
     "metadata": {},
     "output_type": "execute_result"
    }
   ],
   "source": [
    "wd.path[wd.date > wd.end_date].value_counts().head(20)"
   ]
  },
  {
   "cell_type": "code",
   "execution_count": 241,
   "id": "3b0eba48",
   "metadata": {},
   "outputs": [],
   "source": [
    "update_df = df[df.updated_at.dt.year==2019]"
   ]
  },
  {
   "cell_type": "code",
   "execution_count": 246,
   "id": "f1715ea9",
   "metadata": {},
   "outputs": [],
   "source": [
    "update_df = update_df[update_df.path!='/']"
   ]
  },
  {
   "cell_type": "code",
   "execution_count": 247,
   "id": "fd5ea128",
   "metadata": {},
   "outputs": [],
   "source": [
    "update_df = update_df[update_df.path!='toc']"
   ]
  },
  {
   "cell_type": "code",
   "execution_count": 256,
   "id": "93225f75",
   "metadata": {},
   "outputs": [
    {
     "data": {
      "text/plain": [
       "name        path                                                   \n",
       "Ceres       search/search_index.json                                   1380\n",
       "            javascript-i                                               1003\n",
       "Zion        javascript-i                                                897\n",
       "Deimos      javascript-i                                                896\n",
       "            html-css                                                    773\n",
       "                                                                       ... \n",
       "Betelgeuse  content/mysql/intro-to-mysql/gitbook/images/favicon.ico       1\n",
       "            content/mysql/intro-to-mysql/tables.html                      1\n",
       "            content/php_ii/control-structures-i/if-continued.html         1\n",
       "            effects                                                       1\n",
       "Zion        web-design/ux/purpose                                         1\n",
       "Name: path, Length: 2392, dtype: int64"
      ]
     },
     "execution_count": 256,
     "metadata": {},
     "output_type": "execute_result"
    }
   ],
   "source": [
    "update_df.groupby('name').path.value_counts().sort_values(ascending=False)"
   ]
  },
  {
   "cell_type": "code",
   "execution_count": 272,
   "id": "a2cee970",
   "metadata": {},
   "outputs": [
    {
     "name": "stdout",
     "output_type": "stream",
     "text": [
      "<class 'pandas.core.frame.DataFrame'>\n",
      "DatetimeIndex: 205344 entries, 2019-01-20 23:18:57 to 2019-11-04 18:27:07\n",
      "Data columns (total 12 columns):\n",
      " #   Column      Non-Null Count   Dtype         \n",
      "---  ------      --------------   -----         \n",
      " 0   date        205344 non-null  datetime64[ns]\n",
      " 1   time        205344 non-null  object        \n",
      " 2   path        205344 non-null  object        \n",
      " 3   user_id     205344 non-null  int64         \n",
      " 4   cohort_id   205344 non-null  float64       \n",
      " 5   ip          205344 non-null  object        \n",
      " 6   name        205344 non-null  object        \n",
      " 7   start_date  205344 non-null  datetime64[ns]\n",
      " 8   end_date    205344 non-null  datetime64[ns]\n",
      " 9   created_at  205344 non-null  datetime64[ns]\n",
      " 10  program_id  205344 non-null  float64       \n",
      " 11  user_ip     205344 non-null  float64       \n",
      "dtypes: datetime64[ns](4), float64(3), int64(1), object(4)\n",
      "memory usage: 20.4+ MB\n"
     ]
    }
   ],
   "source": [
    "update_df.info()"
   ]
  },
  {
   "cell_type": "code",
   "execution_count": null,
   "id": "4a509a36",
   "metadata": {},
   "outputs": [],
   "source": [
    "update_df = update_df.set_index('updated_at').sort_index()\n"
   ]
  },
  {
   "cell_type": "code",
   "execution_count": null,
   "id": "9e63e679",
   "metadata": {},
   "outputs": [],
   "source": [
    "update_df.groupby('user_id','name').path.value_counts()"
   ]
  },
  {
   "cell_type": "code",
   "execution_count": 301,
   "id": "b9f48b4e",
   "metadata": {},
   "outputs": [
    {
     "data": {
      "text/plain": [
       "<AxesSubplot:ylabel='user_id'>"
      ]
     },
     "execution_count": 301,
     "metadata": {},
     "output_type": "execute_result"
    },
    {
     "data": {
      "image/png": "[encoded data removed]",
      "text/plain": [
       "<Figure size 432x2520 with 1 Axes>"
      ]
     },
     "metadata": {
      "needs_background": "light"
     },
     "output_type": "display_data"
    }
   ],
   "source": [
    "# count of access dates for each user_id in 2019\n",
    "update_df.groupby('user_id').date.count().plot.barh(figsize=[6,35])"
   ]
  },
  {
   "cell_type": "markdown",
   "id": "711f597d",
   "metadata": {},
   "source": [
    "## Are there students who, when active, hardly access the curriculum? If so, what information do you have about these students?"
   ]
  },
  {
   "cell_type": "code",
   "execution_count": 306,
   "id": "c6c7d90e",
   "metadata": {},
   "outputs": [
    {
     "data": {
      "text/plain": [
       "2019-03-19    7\n",
       "Name: date, dtype: int64"
      ]
     },
     "execution_count": 306,
     "metadata": {},
     "output_type": "execute_result"
    }
   ],
   "source": [
    "# access for low-engagement users\n",
    "update_df.date[update_df.user_id==388].value_counts()"
   ]
  },
  {
   "cell_type": "code",
   "execution_count": 307,
   "id": "be127db3",
   "metadata": {},
   "outputs": [
    {
     "data": {
      "text/plain": [
       "2019-07-18    25\n",
       "2019-07-15    25\n",
       "2019-07-09    22\n",
       "2019-07-12    13\n",
       "2019-07-19     5\n",
       "2019-07-25     4\n",
       "2019-07-11     4\n",
       "2019-07-16     4\n",
       "2019-07-29     2\n",
       "Name: date, dtype: int64"
      ]
     },
     "execution_count": 307,
     "metadata": {},
     "output_type": "execute_result"
    }
   ],
   "source": [
    "update_df.date[update_df.user_id==432].value_counts()"
   ]
  },
  {
   "cell_type": "code",
   "execution_count": 312,
   "id": "0ed9b8a3",
   "metadata": {},
   "outputs": [
    {
     "data": {
      "text/plain": [
       "user_id\n",
       "163    1\n",
       "212    1\n",
       "918    1\n",
       "66     1\n",
       "165    1\n",
       "940    1\n",
       "649    1\n",
       "879    1\n",
       "619    1\n",
       "593    1\n",
       "952    1\n",
       "97     2\n",
       "574    2\n",
       "573    2\n",
       "852    2\n",
       "176    3\n",
       "81     3\n",
       "348    3\n",
       "177    3\n",
       "832    3\n",
       "89     3\n",
       "85     4\n",
       "62     4\n",
       "857    4\n",
       "216    4\n",
       "Name: date, dtype: int64"
      ]
     },
     "execution_count": 312,
     "metadata": {},
     "output_type": "execute_result"
    }
   ],
   "source": [
    "df.groupby('user_id').date.count().sort_values().head(25)"
   ]
  },
  {
   "cell_type": "code",
   "execution_count": 313,
   "id": "3751e739",
   "metadata": {},
   "outputs": [
    {
     "data": {
      "text/plain": [
       "name  user_id\n",
       "0     354        2965\n",
       "      736        2358\n",
       "      363        2248\n",
       "      716        2136\n",
       "      368        2085\n",
       "                 ... \n",
       "Zion  332         868\n",
       "      345         839\n",
       "      326         768\n",
       "      342         110\n",
       "      340          18\n",
       "Name: user_id, Length: 979, dtype: int64"
      ]
     },
     "execution_count": 313,
     "metadata": {},
     "output_type": "execute_result"
    }
   ],
   "source": [
    "# user engagement by cohort and user_id\n",
    "df.groupby('name').user_id.value_counts()"
   ]
  },
  {
   "cell_type": "code",
   "execution_count": 323,
   "id": "e24f29fb",
   "metadata": {},
   "outputs": [
    {
     "data": {
      "text/html": [
       "<div>\n",
       "<style scoped>\n",
       "    .dataframe tbody tr th:only-of-type {\n",
       "        vertical-align: middle;\n",
       "    }\n",
       "\n",
       "    .dataframe tbody tr th {\n",
       "        vertical-align: top;\n",
       "    }\n",
       "\n",
       "    .dataframe thead th {\n",
       "        text-align: right;\n",
       "    }\n",
       "</style>\n",
       "<table border=\"1\" class=\"dataframe\">\n",
       "  <thead>\n",
       "    <tr style=\"text-align: right;\">\n",
       "      <th></th>\n",
       "      <th>date</th>\n",
       "      <th>time</th>\n",
       "      <th>path</th>\n",
       "      <th>user_id</th>\n",
       "      <th>cohort_id</th>\n",
       "      <th>ip</th>\n",
       "      <th>name</th>\n",
       "      <th>start_date</th>\n",
       "      <th>end_date</th>\n",
       "      <th>created_at</th>\n",
       "      <th>updated_at</th>\n",
       "      <th>program_id</th>\n",
       "      <th>user_ip</th>\n",
       "    </tr>\n",
       "  </thead>\n",
       "  <tbody>\n",
       "    <tr>\n",
       "      <th>263477</th>\n",
       "      <td>2019-05-29</td>\n",
       "      <td>10:01:36</td>\n",
       "      <td>/</td>\n",
       "      <td>411</td>\n",
       "      <td>32.0</td>\n",
       "      <td>97.105.19.58</td>\n",
       "      <td>Betelgeuse</td>\n",
       "      <td>2019-05-28</td>\n",
       "      <td>2019-10-08</td>\n",
       "      <td>2019-05-28 18:41:05</td>\n",
       "      <td>2019-05-28 18:41:05</td>\n",
       "      <td>2.0</td>\n",
       "      <td>0.000552</td>\n",
       "    </tr>\n",
       "    <tr>\n",
       "      <th>263501</th>\n",
       "      <td>2019-05-29</td>\n",
       "      <td>10:03:58</td>\n",
       "      <td>html-css</td>\n",
       "      <td>411</td>\n",
       "      <td>32.0</td>\n",
       "      <td>97.105.19.58</td>\n",
       "      <td>Betelgeuse</td>\n",
       "      <td>2019-05-28</td>\n",
       "      <td>2019-10-08</td>\n",
       "      <td>2019-05-28 18:41:05</td>\n",
       "      <td>2019-05-28 18:41:05</td>\n",
       "      <td>2.0</td>\n",
       "      <td>0.000552</td>\n",
       "    </tr>\n",
       "    <tr>\n",
       "      <th>263657</th>\n",
       "      <td>2019-05-29</td>\n",
       "      <td>12:00:36</td>\n",
       "      <td>html-css/introduction</td>\n",
       "      <td>411</td>\n",
       "      <td>32.0</td>\n",
       "      <td>97.105.19.58</td>\n",
       "      <td>Betelgeuse</td>\n",
       "      <td>2019-05-28</td>\n",
       "      <td>2019-10-08</td>\n",
       "      <td>2019-05-28 18:41:05</td>\n",
       "      <td>2019-05-28 18:41:05</td>\n",
       "      <td>2.0</td>\n",
       "      <td>0.000552</td>\n",
       "    </tr>\n",
       "    <tr>\n",
       "      <th>263706</th>\n",
       "      <td>2019-05-29</td>\n",
       "      <td>12:21:07</td>\n",
       "      <td>html-css/elements</td>\n",
       "      <td>411</td>\n",
       "      <td>32.0</td>\n",
       "      <td>97.105.19.58</td>\n",
       "      <td>Betelgeuse</td>\n",
       "      <td>2019-05-28</td>\n",
       "      <td>2019-10-08</td>\n",
       "      <td>2019-05-28 18:41:05</td>\n",
       "      <td>2019-05-28 18:41:05</td>\n",
       "      <td>2.0</td>\n",
       "      <td>0.000552</td>\n",
       "    </tr>\n",
       "    <tr>\n",
       "      <th>263940</th>\n",
       "      <td>2019-05-29</td>\n",
       "      <td>15:04:30</td>\n",
       "      <td>html-css</td>\n",
       "      <td>411</td>\n",
       "      <td>32.0</td>\n",
       "      <td>97.105.19.58</td>\n",
       "      <td>Betelgeuse</td>\n",
       "      <td>2019-05-28</td>\n",
       "      <td>2019-10-08</td>\n",
       "      <td>2019-05-28 18:41:05</td>\n",
       "      <td>2019-05-28 18:41:05</td>\n",
       "      <td>2.0</td>\n",
       "      <td>0.000552</td>\n",
       "    </tr>\n",
       "    <tr>\n",
       "      <th>...</th>\n",
       "      <td>...</td>\n",
       "      <td>...</td>\n",
       "      <td>...</td>\n",
       "      <td>...</td>\n",
       "      <td>...</td>\n",
       "      <td>...</td>\n",
       "      <td>...</td>\n",
       "      <td>...</td>\n",
       "      <td>...</td>\n",
       "      <td>...</td>\n",
       "      <td>...</td>\n",
       "      <td>...</td>\n",
       "      <td>...</td>\n",
       "    </tr>\n",
       "    <tr>\n",
       "      <th>284190</th>\n",
       "      <td>2019-07-10</td>\n",
       "      <td>08:17:18</td>\n",
       "      <td>html-css</td>\n",
       "      <td>411</td>\n",
       "      <td>32.0</td>\n",
       "      <td>65.43.113.131</td>\n",
       "      <td>Betelgeuse</td>\n",
       "      <td>2019-05-28</td>\n",
       "      <td>2019-10-08</td>\n",
       "      <td>2019-05-28 18:41:05</td>\n",
       "      <td>2019-05-28 18:41:05</td>\n",
       "      <td>2.0</td>\n",
       "      <td>1.000000</td>\n",
       "    </tr>\n",
       "    <tr>\n",
       "      <th>284191</th>\n",
       "      <td>2019-07-10</td>\n",
       "      <td>08:17:19</td>\n",
       "      <td>javascript-i</td>\n",
       "      <td>411</td>\n",
       "      <td>32.0</td>\n",
       "      <td>65.43.113.131</td>\n",
       "      <td>Betelgeuse</td>\n",
       "      <td>2019-05-28</td>\n",
       "      <td>2019-10-08</td>\n",
       "      <td>2019-05-28 18:41:05</td>\n",
       "      <td>2019-05-28 18:41:05</td>\n",
       "      <td>2.0</td>\n",
       "      <td>1.000000</td>\n",
       "    </tr>\n",
       "    <tr>\n",
       "      <th>284192</th>\n",
       "      <td>2019-07-10</td>\n",
       "      <td>08:17:20</td>\n",
       "      <td>javascript-ii</td>\n",
       "      <td>411</td>\n",
       "      <td>32.0</td>\n",
       "      <td>65.43.113.131</td>\n",
       "      <td>Betelgeuse</td>\n",
       "      <td>2019-05-28</td>\n",
       "      <td>2019-10-08</td>\n",
       "      <td>2019-05-28 18:41:05</td>\n",
       "      <td>2019-05-28 18:41:05</td>\n",
       "      <td>2.0</td>\n",
       "      <td>1.000000</td>\n",
       "    </tr>\n",
       "    <tr>\n",
       "      <th>289308</th>\n",
       "      <td>2019-07-17</td>\n",
       "      <td>13:45:09</td>\n",
       "      <td>html-css</td>\n",
       "      <td>411</td>\n",
       "      <td>32.0</td>\n",
       "      <td>65.43.113.131</td>\n",
       "      <td>Betelgeuse</td>\n",
       "      <td>2019-05-28</td>\n",
       "      <td>2019-10-08</td>\n",
       "      <td>2019-05-28 18:41:05</td>\n",
       "      <td>2019-05-28 18:41:05</td>\n",
       "      <td>2.0</td>\n",
       "      <td>1.000000</td>\n",
       "    </tr>\n",
       "    <tr>\n",
       "      <th>289309</th>\n",
       "      <td>2019-07-17</td>\n",
       "      <td>13:45:11</td>\n",
       "      <td>html-css/forms</td>\n",
       "      <td>411</td>\n",
       "      <td>32.0</td>\n",
       "      <td>65.43.113.131</td>\n",
       "      <td>Betelgeuse</td>\n",
       "      <td>2019-05-28</td>\n",
       "      <td>2019-10-08</td>\n",
       "      <td>2019-05-28 18:41:05</td>\n",
       "      <td>2019-05-28 18:41:05</td>\n",
       "      <td>2.0</td>\n",
       "      <td>1.000000</td>\n",
       "    </tr>\n",
       "  </tbody>\n",
       "</table>\n",
       "<p>163 rows × 13 columns</p>\n",
       "</div>"
      ],
      "text/plain": [
       "             date      time                   path  user_id  cohort_id  \\\n",
       "263477 2019-05-29  10:01:36                      /      411       32.0   \n",
       "263501 2019-05-29  10:03:58               html-css      411       32.0   \n",
       "263657 2019-05-29  12:00:36  html-css/introduction      411       32.0   \n",
       "263706 2019-05-29  12:21:07      html-css/elements      411       32.0   \n",
       "263940 2019-05-29  15:04:30               html-css      411       32.0   \n",
       "...           ...       ...                    ...      ...        ...   \n",
       "284190 2019-07-10  08:17:18               html-css      411       32.0   \n",
       "284191 2019-07-10  08:17:19           javascript-i      411       32.0   \n",
       "284192 2019-07-10  08:17:20          javascript-ii      411       32.0   \n",
       "289308 2019-07-17  13:45:09               html-css      411       32.0   \n",
       "289309 2019-07-17  13:45:11         html-css/forms      411       32.0   \n",
       "\n",
       "                   ip        name start_date   end_date          created_at  \\\n",
       "263477   97.105.19.58  Betelgeuse 2019-05-28 2019-10-08 2019-05-28 18:41:05   \n",
       "263501   97.105.19.58  Betelgeuse 2019-05-28 2019-10-08 2019-05-28 18:41:05   \n",
       "263657   97.105.19.58  Betelgeuse 2019-05-28 2019-10-08 2019-05-28 18:41:05   \n",
       "263706   97.105.19.58  Betelgeuse 2019-05-28 2019-10-08 2019-05-28 18:41:05   \n",
       "263940   97.105.19.58  Betelgeuse 2019-05-28 2019-10-08 2019-05-28 18:41:05   \n",
       "...               ...         ...        ...        ...                 ...   \n",
       "284190  65.43.113.131  Betelgeuse 2019-05-28 2019-10-08 2019-05-28 18:41:05   \n",
       "284191  65.43.113.131  Betelgeuse 2019-05-28 2019-10-08 2019-05-28 18:41:05   \n",
       "284192  65.43.113.131  Betelgeuse 2019-05-28 2019-10-08 2019-05-28 18:41:05   \n",
       "289308  65.43.113.131  Betelgeuse 2019-05-28 2019-10-08 2019-05-28 18:41:05   \n",
       "289309  65.43.113.131  Betelgeuse 2019-05-28 2019-10-08 2019-05-28 18:41:05   \n",
       "\n",
       "                updated_at  program_id   user_ip  \n",
       "263477 2019-05-28 18:41:05         2.0  0.000552  \n",
       "263501 2019-05-28 18:41:05         2.0  0.000552  \n",
       "263657 2019-05-28 18:41:05         2.0  0.000552  \n",
       "263706 2019-05-28 18:41:05         2.0  0.000552  \n",
       "263940 2019-05-28 18:41:05         2.0  0.000552  \n",
       "...                    ...         ...       ...  \n",
       "284190 2019-05-28 18:41:05         2.0  1.000000  \n",
       "284191 2019-05-28 18:41:05         2.0  1.000000  \n",
       "284192 2019-05-28 18:41:05         2.0  1.000000  \n",
       "289308 2019-05-28 18:41:05         2.0  1.000000  \n",
       "289309 2019-05-28 18:41:05         2.0  1.000000  \n",
       "\n",
       "[163 rows x 13 columns]"
      ]
     },
     "execution_count": 323,
     "metadata": {},
     "output_type": "execute_result"
    }
   ],
   "source": [
    "df[df.user_id==411] #.date.value_counts()"
   ]
  },
  {
   "cell_type": "code",
   "execution_count": 318,
   "id": "0d8d1b15",
   "metadata": {
    "scrolled": true
   },
   "outputs": [
    {
     "data": {
      "text/plain": [
       "2019-01-22    18\n",
       "Name: date, dtype: int64"
      ]
     },
     "execution_count": 318,
     "metadata": {},
     "output_type": "execute_result"
    }
   ],
   "source": [
    "df[df.user_id==340].date.value_counts()"
   ]
  },
  {
   "cell_type": "code",
   "execution_count": 317,
   "id": "4c43955c",
   "metadata": {},
   "outputs": [
    {
     "data": {
      "text/plain": [
       "2019-07-24    30\n",
       "2019-07-25    26\n",
       "2019-07-16    19\n",
       "2019-07-18    19\n",
       "2019-07-23    19\n",
       "2019-07-19    17\n",
       "2019-07-21    10\n",
       "2019-07-20     4\n",
       "2019-07-22     4\n",
       "2019-07-17     3\n",
       "2019-07-15     2\n",
       "2019-07-26     2\n",
       "Name: date, dtype: int64"
      ]
     },
     "execution_count": 317,
     "metadata": {},
     "output_type": "execute_result"
    }
   ],
   "source": [
    "df[df.user_id==454].date.value_counts()"
   ]
  },
  {
   "cell_type": "code",
   "execution_count": null,
   "id": "883505e3",
   "metadata": {},
   "outputs": [],
   "source": []
  },
  {
   "cell_type": "code",
   "execution_count": null,
   "id": "e976e244",
   "metadata": {},
   "outputs": [],
   "source": []
  }
 ],
 "metadata": {
  "kernelspec": {
   "display_name": "Python 3 (ipykernel)",
   "language": "python",
   "name": "python3"
  },
  "language_info": {
   "codemirror_mode": {
    "name": "ipython",
    "version": 3
   },
   "file_extension": ".py",
   "mimetype": "text/x-python",
   "name": "python",
   "nbconvert_exporter": "python",
   "pygments_lexer": "ipython3",
   "version": "3.9.12"
  }
 },
 "nbformat": 4,
 "nbformat_minor": 5
}
